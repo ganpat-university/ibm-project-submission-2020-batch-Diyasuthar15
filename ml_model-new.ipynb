{
  "cells": [
    {
      "cell_type": "code",
      "execution_count": 1,
      "metadata": {
        "id": "NmPZ-jcI_5bN"
      },
      "outputs": [],
      "source": [
        "import pandas as pd\n",
        "import seaborn as sns\n",
        "import time\n",
        "from joblib import dump, load\n",
        "import matplotlib.pyplot as plt\n",
        "from sklearn.model_selection import train_test_split\n",
        "from imblearn.over_sampling import RandomOverSampler\n",
        "from sklearn.linear_model import LogisticRegression\n",
        "from sklearn.ensemble import RandomForestClassifier\n",
        "from sklearn.tree import DecisionTreeClassifier\n",
        "from sklearn.metrics import accuracy_score, classification_report, confusion_matrix\n",
        "from sklearn.metrics import f1_score, recall_score, precision_score\n",
        "import warnings\n",
        "from sklearn.exceptions import ConvergenceWarning\n",
        "warnings.filterwarnings(\"ignore\", category=UserWarning)\n",
        "warnings.filterwarnings(\"ignore\", category=FutureWarning)\n",
        "warnings.filterwarnings(\"ignore\", category=ConvergenceWarning)\n",
        "\n",
        "import re\n",
        "\n",
        "from mlxtend.plotting import plot_confusion_matrix"
      ]
    },
    {
      "cell_type": "markdown",
      "metadata": {
        "id": "pQvjlMMD_5bR"
      },
      "source": [
        "## Information about the dataset(data about the data) (Metadata)"
      ]
    },
    {
      "cell_type": "code",
      "execution_count": 2,
      "metadata": {},
      "outputs": [],
      "source": [
        "used = False\n",
        "def getFeatureDF():\n",
        "    global used\n",
        "    if used:\n",
        "        return\n",
        "    from scipy.stats import chi2_contingency\n",
        "    data = pd.read_csv(\"malware-benign.csv\", encoding=\"utf-8\", low_memory=False, na_values=\"?\")\n",
        "    input_columns = data.columns[:-1]\n",
        "    output_column = data.columns[-1]\n",
        "\n",
        "    contingency_table = pd.crosstab(data[input_columns[0]], data[output_column])\n",
        "\n",
        "    chi2_p={}\n",
        "    for column in input_columns:\n",
        "        contingency_table = pd.crosstab(data[column], data[output_column])\n",
        "        chi2, p, _, _ = chi2_contingency(contingency_table)\n",
        "        chi2_p[column] = (chi2, p)\n",
        "\n",
        "    new_chi2_p = {key: val for key, val in chi2_p.items() if val[1] < 0.05}\n",
        "\n",
        "    chi2_vals = [val[0] for val in new_chi2_p.values()]\n",
        "\n",
        "    chi2_vals.sort(reverse=True)\n",
        "\n",
        "    final_chi2_p = {key: val for key, val in new_chi2_p.items() if val[0] > 675}\n",
        "\n",
        "    imp_cols=list(final_chi2_p.keys())\n",
        "    imp_cols+=['class']\n",
        "\n",
        "    feature_df = pd.read_csv(\"features.csv\", header=None, names=[\"X\", \"Category\"])\n",
        "\n",
        "    feature_df=feature_df[feature_df['X'].isin(imp_cols)]  # only keep the important features\n",
        "    \n",
        "    return feature_df"
      ]
    },
    {
      "cell_type": "code",
      "execution_count": 3,
      "metadata": {
        "colab": {
          "base_uri": "https://localhost:8080/",
          "height": 412
        },
        "id": "Mav2x7hm_5bS",
        "outputId": "0a06edd5-b467-4dd1-de54-f8d1106bf21f"
      },
      "outputs": [
        {
          "data": {
            "text/html": [
              "<div>\n",
              "<style scoped>\n",
              "    .dataframe tbody tr th:only-of-type {\n",
              "        vertical-align: middle;\n",
              "    }\n",
              "\n",
              "    .dataframe tbody tr th {\n",
              "        vertical-align: top;\n",
              "    }\n",
              "\n",
              "    .dataframe thead th {\n",
              "        text-align: right;\n",
              "    }\n",
              "</style>\n",
              "<table border=\"1\" class=\"dataframe\">\n",
              "  <thead>\n",
              "    <tr style=\"text-align: right;\">\n",
              "      <th></th>\n",
              "      <th>transact</th>\n",
              "      <th>onServiceConnected</th>\n",
              "      <th>bindService</th>\n",
              "      <th>attachInterface</th>\n",
              "      <th>ServiceConnection</th>\n",
              "      <th>android.os.Binder</th>\n",
              "      <th>SEND_SMS</th>\n",
              "      <th>Ljava.lang.Class.getCanonicalName</th>\n",
              "      <th>Ljava.lang.Class.getMethods</th>\n",
              "      <th>Ljava.lang.Class.cast</th>\n",
              "      <th>...</th>\n",
              "      <th>READ_CONTACTS</th>\n",
              "      <th>DEVICE_POWER</th>\n",
              "      <th>HARDWARE_TEST</th>\n",
              "      <th>ACCESS_WIFI_STATE</th>\n",
              "      <th>WRITE_EXTERNAL_STORAGE</th>\n",
              "      <th>ACCESS_FINE_LOCATION</th>\n",
              "      <th>SET_WALLPAPER_HINTS</th>\n",
              "      <th>SET_PREFERRED_APPLICATIONS</th>\n",
              "      <th>WRITE_SECURE_SETTINGS</th>\n",
              "      <th>class</th>\n",
              "    </tr>\n",
              "  </thead>\n",
              "  <tbody>\n",
              "    <tr>\n",
              "      <th>0</th>\n",
              "      <td>0</td>\n",
              "      <td>0</td>\n",
              "      <td>0</td>\n",
              "      <td>0</td>\n",
              "      <td>0</td>\n",
              "      <td>0</td>\n",
              "      <td>1</td>\n",
              "      <td>0</td>\n",
              "      <td>0</td>\n",
              "      <td>0</td>\n",
              "      <td>...</td>\n",
              "      <td>0</td>\n",
              "      <td>0</td>\n",
              "      <td>0</td>\n",
              "      <td>0</td>\n",
              "      <td>1</td>\n",
              "      <td>0</td>\n",
              "      <td>0</td>\n",
              "      <td>0</td>\n",
              "      <td>0</td>\n",
              "      <td>S</td>\n",
              "    </tr>\n",
              "    <tr>\n",
              "      <th>1</th>\n",
              "      <td>0</td>\n",
              "      <td>0</td>\n",
              "      <td>0</td>\n",
              "      <td>0</td>\n",
              "      <td>0</td>\n",
              "      <td>0</td>\n",
              "      <td>1</td>\n",
              "      <td>0</td>\n",
              "      <td>0</td>\n",
              "      <td>0</td>\n",
              "      <td>...</td>\n",
              "      <td>0</td>\n",
              "      <td>0</td>\n",
              "      <td>0</td>\n",
              "      <td>0</td>\n",
              "      <td>1</td>\n",
              "      <td>0</td>\n",
              "      <td>0</td>\n",
              "      <td>0</td>\n",
              "      <td>0</td>\n",
              "      <td>S</td>\n",
              "    </tr>\n",
              "    <tr>\n",
              "      <th>2</th>\n",
              "      <td>0</td>\n",
              "      <td>0</td>\n",
              "      <td>0</td>\n",
              "      <td>0</td>\n",
              "      <td>0</td>\n",
              "      <td>0</td>\n",
              "      <td>1</td>\n",
              "      <td>0</td>\n",
              "      <td>0</td>\n",
              "      <td>0</td>\n",
              "      <td>...</td>\n",
              "      <td>0</td>\n",
              "      <td>0</td>\n",
              "      <td>0</td>\n",
              "      <td>0</td>\n",
              "      <td>0</td>\n",
              "      <td>0</td>\n",
              "      <td>0</td>\n",
              "      <td>0</td>\n",
              "      <td>0</td>\n",
              "      <td>S</td>\n",
              "    </tr>\n",
              "    <tr>\n",
              "      <th>3</th>\n",
              "      <td>0</td>\n",
              "      <td>0</td>\n",
              "      <td>0</td>\n",
              "      <td>0</td>\n",
              "      <td>0</td>\n",
              "      <td>0</td>\n",
              "      <td>0</td>\n",
              "      <td>0</td>\n",
              "      <td>0</td>\n",
              "      <td>1</td>\n",
              "      <td>...</td>\n",
              "      <td>0</td>\n",
              "      <td>0</td>\n",
              "      <td>0</td>\n",
              "      <td>1</td>\n",
              "      <td>1</td>\n",
              "      <td>1</td>\n",
              "      <td>0</td>\n",
              "      <td>0</td>\n",
              "      <td>0</td>\n",
              "      <td>S</td>\n",
              "    </tr>\n",
              "    <tr>\n",
              "      <th>4</th>\n",
              "      <td>0</td>\n",
              "      <td>0</td>\n",
              "      <td>0</td>\n",
              "      <td>0</td>\n",
              "      <td>0</td>\n",
              "      <td>0</td>\n",
              "      <td>0</td>\n",
              "      <td>0</td>\n",
              "      <td>0</td>\n",
              "      <td>0</td>\n",
              "      <td>...</td>\n",
              "      <td>0</td>\n",
              "      <td>0</td>\n",
              "      <td>0</td>\n",
              "      <td>1</td>\n",
              "      <td>0</td>\n",
              "      <td>1</td>\n",
              "      <td>0</td>\n",
              "      <td>0</td>\n",
              "      <td>0</td>\n",
              "      <td>S</td>\n",
              "    </tr>\n",
              "    <tr>\n",
              "      <th>5</th>\n",
              "      <td>0</td>\n",
              "      <td>0</td>\n",
              "      <td>0</td>\n",
              "      <td>0</td>\n",
              "      <td>0</td>\n",
              "      <td>0</td>\n",
              "      <td>0</td>\n",
              "      <td>0</td>\n",
              "      <td>0</td>\n",
              "      <td>0</td>\n",
              "      <td>...</td>\n",
              "      <td>0</td>\n",
              "      <td>0</td>\n",
              "      <td>0</td>\n",
              "      <td>1</td>\n",
              "      <td>1</td>\n",
              "      <td>0</td>\n",
              "      <td>0</td>\n",
              "      <td>0</td>\n",
              "      <td>0</td>\n",
              "      <td>S</td>\n",
              "    </tr>\n",
              "    <tr>\n",
              "      <th>6</th>\n",
              "      <td>0</td>\n",
              "      <td>1</td>\n",
              "      <td>1</td>\n",
              "      <td>0</td>\n",
              "      <td>1</td>\n",
              "      <td>1</td>\n",
              "      <td>0</td>\n",
              "      <td>0</td>\n",
              "      <td>0</td>\n",
              "      <td>0</td>\n",
              "      <td>...</td>\n",
              "      <td>0</td>\n",
              "      <td>0</td>\n",
              "      <td>0</td>\n",
              "      <td>0</td>\n",
              "      <td>1</td>\n",
              "      <td>0</td>\n",
              "      <td>0</td>\n",
              "      <td>0</td>\n",
              "      <td>0</td>\n",
              "      <td>S</td>\n",
              "    </tr>\n",
              "    <tr>\n",
              "      <th>7</th>\n",
              "      <td>0</td>\n",
              "      <td>0</td>\n",
              "      <td>0</td>\n",
              "      <td>0</td>\n",
              "      <td>0</td>\n",
              "      <td>0</td>\n",
              "      <td>0</td>\n",
              "      <td>0</td>\n",
              "      <td>0</td>\n",
              "      <td>1</td>\n",
              "      <td>...</td>\n",
              "      <td>0</td>\n",
              "      <td>0</td>\n",
              "      <td>0</td>\n",
              "      <td>1</td>\n",
              "      <td>1</td>\n",
              "      <td>1</td>\n",
              "      <td>0</td>\n",
              "      <td>0</td>\n",
              "      <td>0</td>\n",
              "      <td>S</td>\n",
              "    </tr>\n",
              "    <tr>\n",
              "      <th>8</th>\n",
              "      <td>0</td>\n",
              "      <td>0</td>\n",
              "      <td>0</td>\n",
              "      <td>0</td>\n",
              "      <td>0</td>\n",
              "      <td>0</td>\n",
              "      <td>1</td>\n",
              "      <td>0</td>\n",
              "      <td>0</td>\n",
              "      <td>0</td>\n",
              "      <td>...</td>\n",
              "      <td>1</td>\n",
              "      <td>0</td>\n",
              "      <td>0</td>\n",
              "      <td>0</td>\n",
              "      <td>1</td>\n",
              "      <td>0</td>\n",
              "      <td>0</td>\n",
              "      <td>0</td>\n",
              "      <td>0</td>\n",
              "      <td>S</td>\n",
              "    </tr>\n",
              "    <tr>\n",
              "      <th>9</th>\n",
              "      <td>0</td>\n",
              "      <td>0</td>\n",
              "      <td>0</td>\n",
              "      <td>0</td>\n",
              "      <td>0</td>\n",
              "      <td>0</td>\n",
              "      <td>1</td>\n",
              "      <td>0</td>\n",
              "      <td>0</td>\n",
              "      <td>0</td>\n",
              "      <td>...</td>\n",
              "      <td>0</td>\n",
              "      <td>0</td>\n",
              "      <td>0</td>\n",
              "      <td>1</td>\n",
              "      <td>1</td>\n",
              "      <td>0</td>\n",
              "      <td>0</td>\n",
              "      <td>0</td>\n",
              "      <td>0</td>\n",
              "      <td>S</td>\n",
              "    </tr>\n",
              "  </tbody>\n",
              "</table>\n",
              "<p>10 rows × 216 columns</p>\n",
              "</div>"
            ],
            "text/plain": [
              "   transact  onServiceConnected  bindService  attachInterface  \\\n",
              "0         0                   0            0                0   \n",
              "1         0                   0            0                0   \n",
              "2         0                   0            0                0   \n",
              "3         0                   0            0                0   \n",
              "4         0                   0            0                0   \n",
              "5         0                   0            0                0   \n",
              "6         0                   1            1                0   \n",
              "7         0                   0            0                0   \n",
              "8         0                   0            0                0   \n",
              "9         0                   0            0                0   \n",
              "\n",
              "   ServiceConnection  android.os.Binder  SEND_SMS  \\\n",
              "0                  0                  0         1   \n",
              "1                  0                  0         1   \n",
              "2                  0                  0         1   \n",
              "3                  0                  0         0   \n",
              "4                  0                  0         0   \n",
              "5                  0                  0         0   \n",
              "6                  1                  1         0   \n",
              "7                  0                  0         0   \n",
              "8                  0                  0         1   \n",
              "9                  0                  0         1   \n",
              "\n",
              "   Ljava.lang.Class.getCanonicalName  Ljava.lang.Class.getMethods  \\\n",
              "0                                  0                            0   \n",
              "1                                  0                            0   \n",
              "2                                  0                            0   \n",
              "3                                  0                            0   \n",
              "4                                  0                            0   \n",
              "5                                  0                            0   \n",
              "6                                  0                            0   \n",
              "7                                  0                            0   \n",
              "8                                  0                            0   \n",
              "9                                  0                            0   \n",
              "\n",
              "   Ljava.lang.Class.cast  ...  READ_CONTACTS  DEVICE_POWER  HARDWARE_TEST  \\\n",
              "0                      0  ...              0             0              0   \n",
              "1                      0  ...              0             0              0   \n",
              "2                      0  ...              0             0              0   \n",
              "3                      1  ...              0             0              0   \n",
              "4                      0  ...              0             0              0   \n",
              "5                      0  ...              0             0              0   \n",
              "6                      0  ...              0             0              0   \n",
              "7                      1  ...              0             0              0   \n",
              "8                      0  ...              1             0              0   \n",
              "9                      0  ...              0             0              0   \n",
              "\n",
              "   ACCESS_WIFI_STATE  WRITE_EXTERNAL_STORAGE  ACCESS_FINE_LOCATION  \\\n",
              "0                  0                       1                     0   \n",
              "1                  0                       1                     0   \n",
              "2                  0                       0                     0   \n",
              "3                  1                       1                     1   \n",
              "4                  1                       0                     1   \n",
              "5                  1                       1                     0   \n",
              "6                  0                       1                     0   \n",
              "7                  1                       1                     1   \n",
              "8                  0                       1                     0   \n",
              "9                  1                       1                     0   \n",
              "\n",
              "   SET_WALLPAPER_HINTS  SET_PREFERRED_APPLICATIONS  WRITE_SECURE_SETTINGS  \\\n",
              "0                    0                           0                      0   \n",
              "1                    0                           0                      0   \n",
              "2                    0                           0                      0   \n",
              "3                    0                           0                      0   \n",
              "4                    0                           0                      0   \n",
              "5                    0                           0                      0   \n",
              "6                    0                           0                      0   \n",
              "7                    0                           0                      0   \n",
              "8                    0                           0                      0   \n",
              "9                    0                           0                      0   \n",
              "\n",
              "   class  \n",
              "0      S  \n",
              "1      S  \n",
              "2      S  \n",
              "3      S  \n",
              "4      S  \n",
              "5      S  \n",
              "6      S  \n",
              "7      S  \n",
              "8      S  \n",
              "9      S  \n",
              "\n",
              "[10 rows x 216 columns]"
            ]
          },
          "execution_count": 3,
          "metadata": {},
          "output_type": "execute_result"
        }
      ],
      "source": [
        "data = pd.read_csv(\"malware-benign.csv\", encoding=\"utf-8\", low_memory=False, na_values=\"?\")\n",
        "data.head(10)"
      ]
    },
    {
      "cell_type": "code",
      "execution_count": 4,
      "metadata": {
        "colab": {
          "base_uri": "https://localhost:8080/"
        },
        "id": "QcOIKvPi_5bT",
        "outputId": "7ab0d950-2c98-4ae5-889a-9fc219a9de4e"
      },
      "outputs": [
        {
          "data": {
            "text/plain": [
              "(15043, 216)"
            ]
          },
          "execution_count": 4,
          "metadata": {},
          "output_type": "execute_result"
        }
      ],
      "source": [
        "data.shape"
      ]
    },
    {
      "cell_type": "markdown",
      "metadata": {},
      "source": [
        "## Chi square test for correlation"
      ]
    },
    {
      "cell_type": "code",
      "execution_count": 5,
      "metadata": {},
      "outputs": [],
      "source": [
        "from scipy.stats import chi2_contingency"
      ]
    },
    {
      "cell_type": "code",
      "execution_count": 6,
      "metadata": {},
      "outputs": [],
      "source": [
        "input_columns = data.columns[:-1]\n",
        "output_column = data.columns[-1]"
      ]
    },
    {
      "cell_type": "code",
      "execution_count": 7,
      "metadata": {},
      "outputs": [
        {
          "data": {
            "text/html": [
              "<div>\n",
              "<style scoped>\n",
              "    .dataframe tbody tr th:only-of-type {\n",
              "        vertical-align: middle;\n",
              "    }\n",
              "\n",
              "    .dataframe tbody tr th {\n",
              "        vertical-align: top;\n",
              "    }\n",
              "\n",
              "    .dataframe thead th {\n",
              "        text-align: right;\n",
              "    }\n",
              "</style>\n",
              "<table border=\"1\" class=\"dataframe\">\n",
              "  <thead>\n",
              "    <tr style=\"text-align: right;\">\n",
              "      <th>class</th>\n",
              "      <th>B</th>\n",
              "      <th>S</th>\n",
              "    </tr>\n",
              "    <tr>\n",
              "      <th>transact</th>\n",
              "      <th></th>\n",
              "      <th></th>\n",
              "    </tr>\n",
              "  </thead>\n",
              "  <tbody>\n",
              "    <tr>\n",
              "      <th>0</th>\n",
              "      <td>3390</td>\n",
              "      <td>5241</td>\n",
              "    </tr>\n",
              "    <tr>\n",
              "      <th>1</th>\n",
              "      <td>6088</td>\n",
              "      <td>324</td>\n",
              "    </tr>\n",
              "  </tbody>\n",
              "</table>\n",
              "</div>"
            ],
            "text/plain": [
              "class        B     S\n",
              "transact            \n",
              "0         3390  5241\n",
              "1         6088   324"
            ]
          },
          "execution_count": 7,
          "metadata": {},
          "output_type": "execute_result"
        }
      ],
      "source": [
        "contingency_table = pd.crosstab(data[input_columns[0]], data[output_column])\n",
        "contingency_table"
      ]
    },
    {
      "cell_type": "code",
      "execution_count": 8,
      "metadata": {},
      "outputs": [],
      "source": [
        "chi2_p={}"
      ]
    },
    {
      "cell_type": "code",
      "execution_count": 9,
      "metadata": {},
      "outputs": [
        {
          "name": "stdout",
          "output_type": "stream",
          "text": [
            "Column:  transact\n",
            "Chi2 value:  4889.188627757803\n",
            "P value:  0.0\n",
            "=====================================\n",
            "Column:  onServiceConnected\n",
            "Chi2 value:  4735.446265536381\n",
            "P value:  0.0\n",
            "=====================================\n",
            "Column:  bindService\n",
            "Chi2 value:  4697.901403097391\n",
            "P value:  0.0\n",
            "=====================================\n",
            "Column:  attachInterface\n",
            "Chi2 value:  4574.506563467601\n",
            "P value:  0.0\n",
            "=====================================\n",
            "Column:  ServiceConnection\n",
            "Chi2 value:  4674.157449714762\n",
            "P value:  0.0\n",
            "=====================================\n",
            "Column:  android.os.Binder\n",
            "Chi2 value:  4611.4626717692745\n",
            "P value:  0.0\n",
            "=====================================\n",
            "Column:  SEND_SMS\n",
            "Chi2 value:  4469.596590986639\n",
            "P value:  0.0\n",
            "=====================================\n",
            "Column:  Ljava.lang.Class.getCanonicalName\n",
            "Chi2 value:  3288.926104853883\n",
            "P value:  0.0\n",
            "=====================================\n",
            "Column:  Ljava.lang.Class.getMethods\n",
            "Chi2 value:  2863.767280520132\n",
            "P value:  0.0\n",
            "=====================================\n",
            "Column:  Ljava.lang.Class.cast\n",
            "Chi2 value:  2924.6314282082376\n",
            "P value:  0.0\n",
            "=====================================\n",
            "Column:  Ljava.net.URLDecoder\n",
            "Chi2 value:  2969.466033130396\n",
            "P value:  0.0\n",
            "=====================================\n",
            "Column:  android.content.pm.Signature\n",
            "Chi2 value:  2856.991269694143\n",
            "P value:  0.0\n",
            "=====================================\n",
            "Column:  android.telephony.SmsManager\n",
            "Chi2 value:  2837.9435318902424\n",
            "P value:  0.0\n",
            "=====================================\n",
            "Column:  READ_PHONE_STATE\n",
            "Chi2 value:  2502.447436503508\n",
            "P value:  0.0\n",
            "=====================================\n",
            "Column:  getBinder\n",
            "Chi2 value:  1925.9694182821195\n",
            "P value:  0.0\n",
            "=====================================\n",
            "Column:  ClassLoader\n",
            "Chi2 value:  2435.8983936768395\n",
            "P value:  0.0\n",
            "=====================================\n",
            "Column:  Landroid.content.Context.registerReceiver\n",
            "Chi2 value:  2378.6479497458386\n",
            "P value:  0.0\n",
            "=====================================\n",
            "Column:  Ljava.lang.Class.getField\n",
            "Chi2 value:  2322.4774646626965\n",
            "P value:  0.0\n",
            "=====================================\n",
            "Column:  Landroid.content.Context.unregisterReceiver\n",
            "Chi2 value:  2302.764632998597\n",
            "P value:  0.0\n",
            "=====================================\n",
            "Column:  GET_ACCOUNTS\n",
            "Chi2 value:  2018.6877463341589\n",
            "P value:  0.0\n",
            "=====================================\n",
            "Column:  RECEIVE_SMS\n",
            "Chi2 value:  2258.956039435713\n",
            "P value:  0.0\n",
            "=====================================\n",
            "Column:  Ljava.lang.Class.getDeclaredField\n",
            "Chi2 value:  2034.7315827974508\n",
            "P value:  0.0\n",
            "=====================================\n",
            "Column:  READ_SMS\n",
            "Chi2 value:  2054.2004808238707\n",
            "P value:  0.0\n",
            "=====================================\n",
            "Column:  getCallingUid\n",
            "Chi2 value:  1192.014657167695\n",
            "P value:  3.316971272998418e-261\n",
            "=====================================\n",
            "Column:  Ljavax.crypto.spec.SecretKeySpec\n",
            "Chi2 value:  1592.573312618171\n",
            "P value:  0.0\n",
            "=====================================\n",
            "Column:  android.intent.action.BOOT_COMPLETED\n",
            "Chi2 value:  1475.0428070332543\n",
            "P value:  0.0\n",
            "=====================================\n",
            "Column:  USE_CREDENTIALS\n",
            "Chi2 value:  980.4606436372844\n",
            "P value:  3.172922947321898e-215\n",
            "=====================================\n",
            "Column:  MANAGE_ACCOUNTS\n",
            "Chi2 value:  988.7224204670001\n",
            "P value:  5.077139027382261e-217\n",
            "=====================================\n",
            "Column:  android.content.pm.PackageInfo\n",
            "Chi2 value:  1452.4510738863755\n",
            "P value:  0.0\n",
            "=====================================\n",
            "Column:  KeySpec\n",
            "Chi2 value:  1353.0050054585809\n",
            "P value:  3.4250430658091307e-296\n",
            "=====================================\n",
            "Column:  TelephonyManager.getLine1Number\n",
            "Chi2 value:  1400.4676435559136\n",
            "P value:  1.6626817370596136e-306\n",
            "=====================================\n",
            "Column:  DexClassLoader\n",
            "Chi2 value:  1175.2383766836228\n",
            "P value:  1.468038236341246e-257\n",
            "=====================================\n",
            "Column:  HttpGet.init\n",
            "Chi2 value:  1323.4859799412436\n",
            "P value:  8.900694188445852e-290\n",
            "=====================================\n",
            "Column:  SecretKey\n",
            "Chi2 value:  1238.215908364285\n",
            "P value:  3.020116049561133e-271\n",
            "=====================================\n",
            "Column:  Ljava.lang.Class.getMethod\n",
            "Chi2 value:  1264.4595777467637\n",
            "P value:  5.980482138456423e-277\n",
            "=====================================\n",
            "Column:  System.loadLibrary\n",
            "Chi2 value:  1139.1391815930624\n",
            "P value:  1.0288235784392834e-249\n",
            "=====================================\n",
            "Column:  android.intent.action.SEND\n",
            "Chi2 value:  881.9094498803465\n",
            "P value:  8.404912431373708e-194\n",
            "=====================================\n",
            "Column:  Ljavax.crypto.Cipher\n",
            "Chi2 value:  1055.1387567155343\n",
            "P value:  1.8595369099265806e-231\n",
            "=====================================\n",
            "Column:  WRITE_SMS\n",
            "Chi2 value:  1071.0664390041834\n",
            "P value:  6.419559282172909e-235\n",
            "=====================================\n",
            "Column:  READ_SYNC_SETTINGS\n",
            "Chi2 value:  699.7186588953159\n",
            "P value:  3.4425768534554064e-154\n",
            "=====================================\n",
            "Column:  AUTHENTICATE_ACCOUNTS\n",
            "Chi2 value:  602.3708176805948\n",
            "P value:  5.106566632220466e-133\n",
            "=====================================\n",
            "Column:  android.telephony.gsm.SmsManager\n",
            "Chi2 value:  869.2783716462973\n",
            "P value:  4.6823344122794465e-191\n",
            "=====================================\n",
            "Column:  WRITE_HISTORY_BOOKMARKS\n",
            "Chi2 value:  879.8445650483505\n",
            "P value:  2.362789913355561e-193\n",
            "=====================================\n",
            "Column:  TelephonyManager.getSubscriberId\n",
            "Chi2 value:  872.3337630092765\n",
            "P value:  1.0144542346395733e-191\n",
            "=====================================\n",
            "Column:  mount\n",
            "Chi2 value:  823.9716375961658\n",
            "P value:  3.313528564451556e-181\n",
            "=====================================\n",
            "Column:  INSTALL_PACKAGES\n",
            "Chi2 value:  830.962640609099\n",
            "P value:  1.000883415077365e-182\n",
            "=====================================\n",
            "Column:  Runtime.getRuntime\n",
            "Chi2 value:  787.806524796969\n",
            "P value:  2.4163925020967474e-173\n",
            "=====================================\n",
            "Column:  CAMERA\n",
            "Chi2 value:  673.416656474792\n",
            "P value:  1.805454860845212e-148\n",
            "=====================================\n",
            "Column:  Ljava.lang.Object.getClass\n",
            "Chi2 value:  808.5965709455564\n",
            "P value:  7.294982325375937e-178\n",
            "=====================================\n",
            "Column:  WRITE_SYNC_SETTINGS\n",
            "Chi2 value:  589.1287130206798\n",
            "P value:  3.876379517237066e-130\n",
            "=====================================\n",
            "Column:  READ_HISTORY_BOOKMARKS\n",
            "Chi2 value:  800.1901557756589\n",
            "P value:  4.905890406841268e-176\n",
            "=====================================\n",
            "Column:  Ljava.lang.Class.forName\n",
            "Chi2 value:  756.8885174456657\n",
            "P value:  1.275260551546965e-166\n",
            "=====================================\n",
            "Column:  INTERNET\n",
            "Chi2 value:  612.185865232631\n",
            "P value:  3.743865909156876e-135\n",
            "=====================================\n",
            "Column:  android.intent.action.PACKAGE_REPLACED\n",
            "Chi2 value:  530.2872329880925\n",
            "P value:  2.446018663567892e-117\n",
            "=====================================\n",
            "Column:  Binder\n",
            "Chi2 value:  676.9336769905758\n",
            "P value:  3.1027553021155037e-149\n",
            "=====================================\n",
            "Column:  android.intent.action.SEND_MULTIPLE\n",
            "Chi2 value:  435.5917795855369\n",
            "P value:  9.859519320358424e-97\n",
            "=====================================\n",
            "Column:  RECORD_AUDIO\n",
            "Chi2 value:  500.5031050505153\n",
            "P value:  7.387625985304048e-111\n",
            "=====================================\n",
            "Column:  IBinder\n",
            "Chi2 value:  606.3425864890186\n",
            "P value:  6.986311966446762e-134\n",
            "=====================================\n",
            "Column:  android.os.IBinder\n",
            "Chi2 value:  605.4599752523147\n",
            "P value:  1.0869757382696448e-133\n",
            "=====================================\n",
            "Column:  createSubprocess\n",
            "Chi2 value:  516.3031231728851\n",
            "P value:  2.696819417400219e-114\n",
            "=====================================\n",
            "Column:  NFC\n",
            "Chi2 value:  374.0929349086914\n",
            "P value:  2.4046305735195197e-83\n",
            "=====================================\n",
            "Column:  ACCESS_LOCATION_EXTRA_COMMANDS\n",
            "Chi2 value:  581.1498271306568\n",
            "P value:  2.1084841942426317e-128\n",
            "=====================================\n",
            "Column:  URLClassLoader\n",
            "Chi2 value:  393.1850155065071\n",
            "P value:  1.6768826185389244e-87\n",
            "=====================================\n",
            "Column:  WRITE_APN_SETTINGS\n",
            "Chi2 value:  561.5622288072366\n",
            "P value:  3.843992693298821e-124\n",
            "=====================================\n",
            "Column:  abortBroadcast\n",
            "Chi2 value:  549.418536250012\n",
            "P value:  1.6845435232992675e-121\n",
            "=====================================\n",
            "Column:  BIND_REMOTEVIEWS\n",
            "Chi2 value:  339.87054166873804\n",
            "P value:  6.808702178572269e-76\n",
            "=====================================\n",
            "Column:  android.intent.action.TIME_SET\n",
            "Chi2 value:  364.4697714041689\n",
            "P value:  2.994473813685065e-81\n",
            "=====================================\n",
            "Column:  READ_PROFILE\n",
            "Chi2 value:  317.75795514363847\n",
            "P value:  4.459359026430487e-71\n",
            "=====================================\n",
            "Column:  TelephonyManager.getDeviceId\n",
            "Chi2 value:  480.6523474253478\n",
            "P value:  1.540971218307666e-106\n",
            "=====================================\n",
            "Column:  MODIFY_AUDIO_SETTINGS\n",
            "Chi2 value:  389.97315358157016\n",
            "P value:  8.389223391995507e-87\n",
            "=====================================\n",
            "Column:  getCallingPid\n",
            "Chi2 value:  335.55699603616955\n",
            "P value:  5.922380350877619e-75\n",
            "=====================================\n",
            "Column:  READ_SYNC_STATS\n",
            "Chi2 value:  311.33685314201097\n",
            "P value:  1.1168689637728635e-69\n",
            "=====================================\n",
            "Column:  BROADCAST_STICKY\n",
            "Chi2 value:  361.57214374964775\n",
            "P value:  1.280136335541479e-80\n",
            "=====================================\n",
            "Column:  android.intent.action.PACKAGE_REMOVED\n",
            "Chi2 value:  359.1799162343346\n",
            "P value:  4.247715274050633e-80\n",
            "=====================================\n",
            "Column:  android.intent.action.TIMEZONE_CHANGED\n",
            "Chi2 value:  267.98659198910093\n",
            "P value:  3.1169420664570116e-60\n",
            "=====================================\n",
            "Column:  WAKE_LOCK\n",
            "Chi2 value:  382.41431449313563\n",
            "P value:  3.7096365694974375e-85\n",
            "=====================================\n",
            "Column:  RECEIVE_BOOT_COMPLETED\n",
            "Chi2 value:  381.06615688660463\n",
            "P value:  7.291938257989626e-85\n",
            "=====================================\n",
            "Column:  RESTART_PACKAGES\n",
            "Chi2 value:  371.10441508631857\n",
            "P value:  1.0757953557822089e-82\n",
            "=====================================\n",
            "Column:  Ljava.lang.Class.getPackage\n",
            "Chi2 value:  332.0741901018042\n",
            "P value:  3.3964889622750172e-74\n",
            "=====================================\n",
            "Column:  chmod\n",
            "Chi2 value:  320.1221531893096\n",
            "P value:  1.3623655305896753e-71\n",
            "=====================================\n",
            "Column:  Ljava.lang.Class.getDeclaredClasses\n",
            "Chi2 value:  217.47619311322867\n",
            "P value:  3.2129529831061356e-49\n",
            "=====================================\n",
            "Column:  android.intent.action.ACTION_POWER_DISCONNECTED\n",
            "Chi2 value:  216.29141657695655\n",
            "P value:  5.825736668686112e-49\n",
            "=====================================\n",
            "Column:  android.intent.action.PACKAGE_ADDED\n",
            "Chi2 value:  263.1725336305988\n",
            "P value:  3.491365945189337e-59\n",
            "=====================================\n",
            "Column:  PathClassLoader\n",
            "Chi2 value:  203.3016034586681\n",
            "P value:  3.975363377548667e-46\n",
            "=====================================\n",
            "Column:  TelephonyManager.getSimSerialNumber\n",
            "Chi2 value:  272.070327325757\n",
            "P value:  4.01510307298167e-61\n",
            "=====================================\n",
            "Column:  Runtime.load\n",
            "Chi2 value:  165.52310487544156\n",
            "P value:  7.031369780195395e-38\n",
            "=====================================\n",
            "Column:  TelephonyManager.getCallState\n",
            "Chi2 value:  216.77825198520895\n",
            "P value:  4.561966380894822e-49\n",
            "=====================================\n",
            "Column:  BLUETOOTH\n",
            "Chi2 value:  213.58012013316406\n",
            "P value:  2.2741321889268673e-48\n",
            "=====================================\n",
            "Column:  READ_CALENDAR\n",
            "Chi2 value:  192.51090150585554\n",
            "P value:  9.000650688977277e-44\n",
            "=====================================\n",
            "Column:  READ_CALL_LOG\n",
            "Chi2 value:  144.01763879635837\n",
            "P value:  3.521554213093406e-33\n",
            "=====================================\n",
            "Column:  SUBSCRIBED_FEEDS_WRITE\n",
            "Chi2 value:  140.22061062604914\n",
            "P value:  2.3821634693265972e-32\n",
            "=====================================\n",
            "Column:  READ_EXTERNAL_STORAGE\n",
            "Chi2 value:  192.67653441629324\n",
            "P value:  8.281753869770189e-44\n",
            "=====================================\n",
            "Column:  TelephonyManager.getSimCountryIso\n",
            "Chi2 value:  195.55613672776622\n",
            "P value:  1.948209594257985e-44\n",
            "=====================================\n",
            "Column:  sendMultipartTextMessage\n",
            "Chi2 value:  135.12203965968297\n",
            "P value:  3.104861083234353e-31\n",
            "=====================================\n",
            "Column:  PackageInstaller\n",
            "Chi2 value:  192.93672458840373\n",
            "P value:  7.266623642117926e-44\n",
            "=====================================\n",
            "Column:  VIBRATE\n",
            "Chi2 value:  181.16356540691766\n",
            "P value:  2.700046268739516e-41\n",
            "=====================================\n",
            "Column:  remount\n",
            "Chi2 value:  189.74782628586013\n",
            "P value:  3.60890378733907e-43\n",
            "=====================================\n",
            "Column:  android.intent.action.ACTION_SHUTDOWN\n",
            "Chi2 value:  132.84456900632404\n",
            "P value:  9.777474343153317e-31\n",
            "=====================================\n",
            "Column:  sendDataMessage\n",
            "Chi2 value:  180.01337285899564\n",
            "P value:  4.813937862353661e-41\n",
            "=====================================\n",
            "Column:  ACCESS_NETWORK_STATE\n",
            "Chi2 value:  172.15237590225857\n",
            "P value:  2.5065882202762033e-39\n",
            "=====================================\n",
            "Column:  chown\n",
            "Chi2 value:  171.7147310750501\n",
            "P value:  3.1236534402841494e-39\n",
            "=====================================\n",
            "Column:  HttpPost.init\n",
            "Chi2 value:  168.8499984047057\n",
            "P value:  1.319298851309144e-38\n",
            "=====================================\n",
            "Column:  Ljava.lang.Class.getClasses\n",
            "Chi2 value:  141.10597581033485\n",
            "P value:  1.5253480595905308e-32\n",
            "=====================================\n",
            "Column:  SUBSCRIBED_FEEDS_READ\n",
            "Chi2 value:  115.5072992979079\n",
            "P value:  6.093435356947541e-27\n",
            "=====================================\n",
            "Column:  TelephonyManager.isNetworkRoaming\n",
            "Chi2 value:  139.16002292288812\n",
            "P value:  4.0635081310138403e-32\n",
            "=====================================\n",
            "Column:  CHANGE_WIFI_MULTICAST_STATE\n",
            "Chi2 value:  103.8892878968205\n",
            "P value:  2.139430628551451e-24\n",
            "=====================================\n",
            "Column:  WRITE_CALENDAR\n",
            "Chi2 value:  130.79085724561833\n",
            "P value:  2.751175200237988e-30\n",
            "=====================================\n",
            "Column:  android.intent.action.PACKAGE_DATA_CLEARED\n",
            "Chi2 value:  93.35637931998127\n",
            "P value:  4.367715216396059e-22\n",
            "=====================================\n",
            "Column:  MASTER_CLEAR\n",
            "Chi2 value:  99.0857060321649\n",
            "P value:  2.4180724057702723e-23\n",
            "=====================================\n",
            "Column:  HttpUriRequest\n",
            "Chi2 value:  144.72107720321873\n",
            "P value:  2.471387203680571e-33\n",
            "=====================================\n",
            "Column:  UPDATE_DEVICE_STATS\n",
            "Chi2 value:  140.02066495675365\n",
            "P value:  2.634479340670096e-32\n",
            "=====================================\n",
            "Column:  WRITE_CALL_LOG\n",
            "Chi2 value:  84.96864267948735\n",
            "P value:  3.031345807187407e-20\n",
            "=====================================\n",
            "Column:  DELETE_PACKAGES\n",
            "Chi2 value:  139.32889920796356\n",
            "P value:  3.7322472798549924e-32\n",
            "=====================================\n",
            "Column:  GET_TASKS\n",
            "Chi2 value:  116.20537974604804\n",
            "P value:  4.285378952090007e-27\n",
            "=====================================\n",
            "Column:  GLOBAL_SEARCH\n",
            "Chi2 value:  101.1927497770929\n",
            "P value:  8.345423586207035e-24\n",
            "=====================================\n",
            "Column:  DELETE_CACHE_FILES\n",
            "Chi2 value:  116.81936081511229\n",
            "P value:  3.1444123297325526e-27\n",
            "=====================================\n",
            "Column:  WRITE_USER_DICTIONARY\n",
            "Chi2 value:  70.6266312262855\n",
            "P value:  4.3165062391478386e-17\n",
            "=====================================\n",
            "Column:  android.intent.action.PACKAGE_CHANGED\n",
            "Chi2 value:  87.18559795289859\n",
            "P value:  9.88006336153848e-21\n",
            "=====================================\n",
            "Column:  android.intent.action.NEW_OUTGOING_CALL\n",
            "Chi2 value:  108.95692402561686\n",
            "P value:  1.6585128776618996e-25\n",
            "=====================================\n",
            "Column:  REORDER_TASKS\n",
            "Chi2 value:  79.6226627201743\n",
            "P value:  4.531972662609562e-19\n",
            "=====================================\n",
            "Column:  WRITE_PROFILE\n",
            "Chi2 value:  62.877556562501475\n",
            "P value:  2.199644714899674e-15\n",
            "=====================================\n",
            "Column:  SET_WALLPAPER\n",
            "Chi2 value:  100.39106341254883\n",
            "P value:  1.250912268952111e-23\n",
            "=====================================\n",
            "Column:  BIND_INPUT_METHOD\n",
            "Chi2 value:  71.82645979187281\n",
            "P value:  2.3498010626344666e-17\n",
            "=====================================\n",
            "Column:  divideMessage\n",
            "Chi2 value:  100.54278689955375\n",
            "P value:  1.1586674547390828e-23\n",
            "=====================================\n",
            "Column:  READ_SOCIAL_STREAM\n",
            "Chi2 value:  55.142247058077814\n",
            "P value:  1.121150256454339e-13\n",
            "=====================================\n",
            "Column:  READ_USER_DICTIONARY\n",
            "Chi2 value:  57.38167556385686\n",
            "P value:  3.589358594405918e-14\n",
            "=====================================\n",
            "Column:  PROCESS_OUTGOING_CALLS\n",
            "Chi2 value:  86.32117330119388\n",
            "P value:  1.529620293438112e-20\n",
            "=====================================\n",
            "Column:  CALL_PRIVILEGED\n",
            "Chi2 value:  61.104611840173\n",
            "P value:  5.412121161548067e-15\n",
            "=====================================\n",
            "Column:  Runtime.exec\n",
            "Chi2 value:  81.69718814809517\n",
            "P value:  1.5861900623395868e-19\n",
            "=====================================\n",
            "Column:  BIND_WALLPAPER\n",
            "Chi2 value:  84.84471830307234\n",
            "P value:  3.2274178202467134e-20\n",
            "=====================================\n",
            "Column:  RECEIVE_WAP_PUSH\n",
            "Chi2 value:  80.74907800033559\n",
            "P value:  2.56277576208714e-19\n",
            "=====================================\n",
            "Column:  DUMP\n",
            "Chi2 value:  51.98081416065478\n",
            "P value:  5.604558591790667e-13\n",
            "=====================================\n",
            "Column:  BATTERY_STATS\n",
            "Chi2 value:  65.5941461882085\n",
            "P value:  5.540307950398548e-16\n",
            "=====================================\n",
            "Column:  ACCESS_COARSE_LOCATION\n",
            "Chi2 value:  72.41829199251586\n",
            "P value:  1.7409277896058335e-17\n",
            "=====================================\n",
            "Column:  SET_TIME\n",
            "Chi2 value:  45.5169923227202\n",
            "P value:  1.5132034908070406e-11\n",
            "=====================================\n",
            "Column:  android.intent.action.SENDTO\n",
            "Chi2 value:  59.35688536950568\n",
            "P value:  1.315192087856745e-14\n",
            "=====================================\n",
            "Column:  WRITE_SOCIAL_STREAM\n",
            "Chi2 value:  42.08340293305244\n",
            "P value:  8.74623667550483e-11\n",
            "=====================================\n",
            "Column:  WRITE_SETTINGS\n",
            "Chi2 value:  64.51826335288476\n",
            "P value:  9.564171054043942e-16\n",
            "=====================================\n",
            "Column:  REBOOT\n",
            "Chi2 value:  55.346727966695745\n",
            "P value:  1.0103791514626753e-13\n",
            "=====================================\n",
            "Column:  BLUETOOTH_ADMIN\n",
            "Chi2 value:  61.60780415553267\n",
            "P value:  4.1915401768134644e-15\n",
            "=====================================\n",
            "Column:  TelephonyManager.getNetworkOperator\n",
            "Chi2 value:  64.94859645627092\n",
            "P value:  7.687756826787518e-16\n",
            "=====================================\n",
            "Column:  /system/bin\n",
            "Chi2 value:  58.218086234352185\n",
            "P value:  2.3461220250278905e-14\n",
            "=====================================\n",
            "Column:  MessengerService\n",
            "Chi2 value:  33.79446976913007\n",
            "P value:  6.1252738372843834e-09\n",
            "=====================================\n",
            "Column:  BIND_DEVICE_ADMIN\n",
            "Chi2 value:  47.29813286010775\n",
            "P value:  6.09702668048138e-12\n",
            "=====================================\n",
            "Column:  WRITE_GSERVICES\n",
            "Chi2 value:  33.107787190516305\n",
            "P value:  8.718883079059378e-09\n",
            "=====================================\n",
            "Column:  IRemoteService\n",
            "Chi2 value:  39.73622606428893\n",
            "P value:  2.9068343198505227e-10\n",
            "=====================================\n",
            "Column:  KILL_BACKGROUND_PROCESSES\n",
            "Chi2 value:  45.139689385105775\n",
            "P value:  1.8346911800513557e-11\n",
            "=====================================\n",
            "Column:  SET_ALARM\n",
            "Chi2 value:  49.64655079856732\n",
            "P value:  1.8409345079843403e-12\n",
            "=====================================\n",
            "Column:  ACCOUNT_MANAGER\n",
            "Chi2 value:  34.533261532521706\n",
            "P value:  4.190294088185474e-09\n",
            "=====================================\n",
            "Column:  /system/app\n",
            "Chi2 value:  44.64873372575542\n",
            "P value:  2.357500141999825e-11\n",
            "=====================================\n",
            "Column:  android.intent.action.CALL\n",
            "Chi2 value:  32.0480338628587\n",
            "P value:  1.5040724179795876e-08\n",
            "=====================================\n",
            "Column:  STATUS_BAR\n",
            "Chi2 value:  40.46863796585348\n",
            "P value:  1.997974375759662e-10\n",
            "=====================================\n",
            "Column:  TelephonyManager.getSimOperator\n",
            "Chi2 value:  41.170022132994795\n",
            "P value:  1.395464416717724e-10\n",
            "=====================================\n",
            "Column:  PERSISTENT_ACTIVITY\n",
            "Chi2 value:  33.238075326652506\n",
            "P value:  8.153823625705403e-09\n",
            "=====================================\n",
            "Column:  CHANGE_NETWORK_STATE\n",
            "Chi2 value:  38.699139807058756\n",
            "P value:  4.944269015426105e-10\n",
            "=====================================\n",
            "Column:  onBind\n",
            "Chi2 value:  39.471625252955974\n",
            "P value:  3.328610662032514e-10\n",
            "=====================================\n",
            "Column:  Process.start\n",
            "Chi2 value:  22.573652778076998\n",
            "P value:  2.0223917553592794e-06\n",
            "=====================================\n",
            "Column:  android.intent.action.SCREEN_ON\n",
            "Chi2 value:  29.61342444582749\n",
            "P value:  5.2738420043752826e-08\n",
            "=====================================\n",
            "Column:  Context.bindService\n",
            "Chi2 value:  20.80530166167517\n",
            "P value:  5.084202685739268e-06\n",
            "=====================================\n",
            "Column:  RECEIVE_MMS\n",
            "Chi2 value:  35.14358391756225\n",
            "P value:  3.062688225706867e-09\n",
            "=====================================\n",
            "Column:  SET_TIME_ZONE\n",
            "Chi2 value:  22.526149122507803\n",
            "P value:  2.0730239995284903e-06\n",
            "=====================================\n",
            "Column:  android.intent.action.BATTERY_OKAY\n",
            "Chi2 value:  30.573976975959035\n",
            "P value:  3.2137550753243856e-08\n",
            "=====================================\n",
            "Column:  CONTROL_LOCATION_UPDATES\n",
            "Chi2 value:  31.30084884059039\n",
            "P value:  2.2098300101528804e-08\n",
            "=====================================\n",
            "Column:  BROADCAST_WAP_PUSH\n",
            "Chi2 value:  24.864264842589115\n",
            "P value:  6.15121732359482e-07\n",
            "=====================================\n",
            "Column:  BIND_ACCESSIBILITY_SERVICE\n",
            "Chi2 value:  20.185011964453246\n",
            "P value:  7.030160893908488e-06\n",
            "=====================================\n",
            "Column:  ADD_VOICEMAIL\n",
            "Chi2 value:  16.095177228074988\n",
            "P value:  6.0237243465435705e-05\n",
            "=====================================\n",
            "Column:  CALL_PHONE\n",
            "Chi2 value:  27.38013884790793\n",
            "P value:  1.6713905668349944e-07\n",
            "=====================================\n",
            "Column:  ProcessBuilder\n",
            "Chi2 value:  26.046304246322627\n",
            "P value:  3.3332629182059453e-07\n",
            "=====================================\n",
            "Column:  BIND_APPWIDGET\n",
            "Chi2 value:  20.408633367253557\n",
            "P value:  6.254698934012118e-06\n",
            "=====================================\n",
            "Column:  FLASHLIGHT\n",
            "Chi2 value:  24.50974599332767\n",
            "P value:  7.39349118428825e-07\n",
            "=====================================\n",
            "Column:  READ_LOGS\n",
            "Chi2 value:  26.50981992315016\n",
            "P value:  2.622018631729169e-07\n",
            "=====================================\n",
            "Column:  Ljava.lang.Class.getResource\n",
            "Chi2 value:  25.74009229041124\n",
            "P value:  3.906272061514514e-07\n",
            "=====================================\n",
            "Column:  defineClass\n",
            "Chi2 value:  21.23142652213854\n",
            "P value:  4.070355383840516e-06\n",
            "=====================================\n",
            "Column:  SET_PROCESS_LIMIT\n",
            "Chi2 value:  14.939769203859324\n",
            "P value:  0.00011099831468071936\n",
            "=====================================\n",
            "Column:  android.intent.action.PACKAGE_RESTARTED\n",
            "Chi2 value:  18.723640177489127\n",
            "P value:  1.5109759944516594e-05\n",
            "=====================================\n",
            "Column:  MOUNT_UNMOUNT_FILESYSTEMS\n",
            "Chi2 value:  21.40862633588366\n",
            "P value:  3.710977917138143e-06\n",
            "=====================================\n",
            "Column:  BIND_TEXT_SERVICE\n",
            "Chi2 value:  11.982235999578634\n",
            "P value:  0.0005371009781797243\n",
            "=====================================\n",
            "Column:  INSTALL_LOCATION_PROVIDER\n",
            "Chi2 value:  13.779966740189748\n",
            "P value:  0.00020551607223566432\n",
            "=====================================\n",
            "Column:  android.intent.action.CALL_BUTTON\n",
            "Chi2 value:  14.549271417929713\n",
            "P value:  0.00013654144248924672\n",
            "=====================================\n",
            "Column:  android.intent.action.SCREEN_OFF\n",
            "Chi2 value:  17.360869577011062\n",
            "P value:  3.0912522114083926e-05\n",
            "=====================================\n",
            "Column:  findClass\n",
            "Chi2 value:  19.765665449596245\n",
            "P value:  8.754120804965291e-06\n",
            "=====================================\n",
            "Column:  SYSTEM_ALERT_WINDOW\n",
            "Chi2 value:  18.047101793814814\n",
            "P value:  2.1550645603798546e-05\n",
            "=====================================\n",
            "Column:  MOUNT_FORMAT_FILESYSTEMS\n",
            "Chi2 value:  13.726324581592898\n",
            "P value:  0.00021146957791792978\n",
            "=====================================\n",
            "Column:  CHANGE_CONFIGURATION\n",
            "Chi2 value:  18.899460980077453\n",
            "P value:  1.3779159664017704e-05\n",
            "=====================================\n",
            "Column:  CLEAR_APP_USER_DATA\n",
            "Chi2 value:  13.564406991311525\n",
            "P value:  0.00023051523083055924\n",
            "=====================================\n",
            "Column:  intent.action.RUN\n",
            "Chi2 value:  13.564406991311525\n",
            "P value:  0.00023051523083055924\n",
            "=====================================\n",
            "Column:  android.intent.action.SET_WALLPAPER\n",
            "Chi2 value:  14.788880171053439\n",
            "P value:  0.00012024245019115967\n",
            "=====================================\n",
            "Column:  CHANGE_WIFI_STATE\n",
            "Chi2 value:  14.861883739114438\n",
            "P value:  0.00011567695267302706\n",
            "=====================================\n",
            "Column:  READ_FRAME_BUFFER\n",
            "Chi2 value:  12.931432131725646\n",
            "P value:  0.00032311048957633584\n",
            "=====================================\n",
            "Column:  ACCESS_SURFACE_FLINGER\n",
            "Chi2 value:  10.837925744827846\n",
            "P value:  0.0009944206657341338\n",
            "=====================================\n",
            "Column:  Runtime.loadLibrary\n",
            "Chi2 value:  7.298871531562698\n",
            "P value:  0.006899793203861758\n",
            "=====================================\n",
            "Column:  BROADCAST_SMS\n",
            "Chi2 value:  11.759039483141557\n",
            "P value:  0.0006054846351888054\n",
            "=====================================\n",
            "Column:  EXPAND_STATUS_BAR\n",
            "Chi2 value:  11.203997955855279\n",
            "P value:  0.0008162128962744251\n",
            "=====================================\n",
            "Column:  INTERNAL_SYSTEM_WINDOW\n",
            "Chi2 value:  9.365433337387643\n",
            "P value:  0.0022111571725140426\n",
            "=====================================\n",
            "Column:  android.intent.action.BATTERY_LOW\n",
            "Chi2 value:  10.375117104822149\n",
            "P value:  0.0012772504549163927\n",
            "=====================================\n",
            "Column:  SET_ACTIVITY_WATCHER\n",
            "Chi2 value:  5.2418373207715945\n",
            "P value:  0.022049974807334515\n",
            "=====================================\n",
            "Column:  WRITE_CONTACTS\n",
            "Chi2 value:  7.969985914557932\n",
            "P value:  0.004755930885947485\n",
            "=====================================\n",
            "Column:  android.intent.action.ACTION_POWER_CONNECTED\n",
            "Chi2 value:  7.397327334688516\n",
            "P value:  0.006532085627441207\n",
            "=====================================\n",
            "Column:  BIND_VPN_SERVICE\n",
            "Chi2 value:  3.2458421631723464\n",
            "P value:  0.07160488301749193\n",
            "=====================================\n",
            "Column:  DISABLE_KEYGUARD\n",
            "Chi2 value:  6.656836386738652\n",
            "P value:  0.009877612222296628\n",
            "=====================================\n",
            "Column:  ACCESS_MOCK_LOCATION\n",
            "Chi2 value:  5.910178136364463\n",
            "P value:  0.015053649540605769\n",
            "=====================================\n",
            "Column:  GET_PACKAGE_SIZE\n",
            "Chi2 value:  0.059517662116869166\n",
            "P value:  0.807259925534455\n",
            "=====================================\n",
            "Column:  MODIFY_PHONE_STATE\n",
            "Chi2 value:  2.9859279045512332\n",
            "P value:  0.08399113445073668\n",
            "=====================================\n",
            "Column:  CHANGE_COMPONENT_ENABLED_STATE\n",
            "Chi2 value:  1.6592850819308556\n",
            "P value:  0.19769987830328636\n",
            "=====================================\n",
            "Column:  CLEAR_APP_CACHE\n",
            "Chi2 value:  0.018774072329187846\n",
            "P value:  0.8910161635255367\n",
            "=====================================\n",
            "Column:  SET_ORIENTATION\n",
            "Chi2 value:  4.678666685096859\n",
            "P value:  0.030539442892918878\n",
            "=====================================\n",
            "Column:  READ_CONTACTS\n",
            "Chi2 value:  0.000902449475457065\n",
            "P value:  0.9760345166587009\n",
            "=====================================\n",
            "Column:  DEVICE_POWER\n",
            "Chi2 value:  0.4903203182362084\n",
            "P value:  0.4837844526162153\n",
            "=====================================\n",
            "Column:  HARDWARE_TEST\n",
            "Chi2 value:  4.120995347165816\n",
            "P value:  0.04235415220582503\n",
            "=====================================\n",
            "Column:  ACCESS_WIFI_STATE\n",
            "Chi2 value:  0.2856008729937945\n",
            "P value:  0.5930534850294455\n",
            "=====================================\n",
            "Column:  WRITE_EXTERNAL_STORAGE\n",
            "Chi2 value:  0.5695439477093744\n",
            "P value:  0.45044019632935983\n",
            "=====================================\n",
            "Column:  ACCESS_FINE_LOCATION\n",
            "Chi2 value:  4.242257315167895\n",
            "P value:  0.039429708970224124\n",
            "=====================================\n",
            "Column:  SET_WALLPAPER_HINTS\n",
            "Chi2 value:  3.3736051208694082\n",
            "P value:  0.06624863727786948\n",
            "=====================================\n",
            "Column:  SET_PREFERRED_APPLICATIONS\n",
            "Chi2 value:  1.6108606307630637\n",
            "P value:  0.2043708661366493\n",
            "=====================================\n",
            "Column:  WRITE_SECURE_SETTINGS\n",
            "Chi2 value:  0.4890945576192842\n",
            "P value:  0.48433147976376556\n",
            "=====================================\n"
          ]
        }
      ],
      "source": [
        "for column in input_columns:\n",
        "    contingency_table = pd.crosstab(data[column], data[output_column])\n",
        "    chi2, p, _, _ = chi2_contingency(contingency_table)\n",
        "    print(\"Column: \", column)\n",
        "    print(\"Chi2 value: \", chi2)\n",
        "    print(\"P value: \", p)\n",
        "    print(\"=====================================\")\n",
        "    chi2_p[column] = (chi2, p)"
      ]
    },
    {
      "cell_type": "code",
      "execution_count": 10,
      "metadata": {},
      "outputs": [
        {
          "data": {
            "text/plain": [
              "215"
            ]
          },
          "execution_count": 10,
          "metadata": {},
          "output_type": "execute_result"
        }
      ],
      "source": [
        "len(chi2_p)"
      ]
    },
    {
      "cell_type": "code",
      "execution_count": 11,
      "metadata": {},
      "outputs": [
        {
          "data": {
            "text/plain": [
              "203"
            ]
          },
          "execution_count": 11,
          "metadata": {},
          "output_type": "execute_result"
        }
      ],
      "source": [
        "sum([1 for key, val in chi2_p.items() if val[1] < 0.05])    # p==0.05 is the threshold"
      ]
    },
    {
      "cell_type": "code",
      "execution_count": 12,
      "metadata": {},
      "outputs": [
        {
          "data": {
            "text/plain": [
              "{'transact': (4889.188627757803, 0.0),\n",
              " 'onServiceConnected': (4735.446265536381, 0.0),\n",
              " 'bindService': (4697.901403097391, 0.0),\n",
              " 'attachInterface': (4574.506563467601, 0.0),\n",
              " 'ServiceConnection': (4674.157449714762, 0.0),\n",
              " 'android.os.Binder': (4611.4626717692745, 0.0),\n",
              " 'SEND_SMS': (4469.596590986639, 0.0),\n",
              " 'Ljava.lang.Class.getCanonicalName': (3288.926104853883, 0.0),\n",
              " 'Ljava.lang.Class.getMethods': (2863.767280520132, 0.0),\n",
              " 'Ljava.lang.Class.cast': (2924.6314282082376, 0.0),\n",
              " 'Ljava.net.URLDecoder': (2969.466033130396, 0.0),\n",
              " 'android.content.pm.Signature': (2856.991269694143, 0.0),\n",
              " 'android.telephony.SmsManager': (2837.9435318902424, 0.0),\n",
              " 'READ_PHONE_STATE': (2502.447436503508, 0.0),\n",
              " 'getBinder': (1925.9694182821195, 0.0),\n",
              " 'ClassLoader': (2435.8983936768395, 0.0),\n",
              " 'Landroid.content.Context.registerReceiver': (2378.6479497458386, 0.0),\n",
              " 'Ljava.lang.Class.getField': (2322.4774646626965, 0.0),\n",
              " 'Landroid.content.Context.unregisterReceiver': (2302.764632998597, 0.0),\n",
              " 'GET_ACCOUNTS': (2018.6877463341589, 0.0),\n",
              " 'RECEIVE_SMS': (2258.956039435713, 0.0),\n",
              " 'Ljava.lang.Class.getDeclaredField': (2034.7315827974508, 0.0),\n",
              " 'READ_SMS': (2054.2004808238707, 0.0),\n",
              " 'getCallingUid': (1192.014657167695, 3.316971272998418e-261),\n",
              " 'Ljavax.crypto.spec.SecretKeySpec': (1592.573312618171, 0.0),\n",
              " 'android.intent.action.BOOT_COMPLETED': (1475.0428070332543, 0.0),\n",
              " 'USE_CREDENTIALS': (980.4606436372844, 3.172922947321898e-215),\n",
              " 'MANAGE_ACCOUNTS': (988.7224204670001, 5.077139027382261e-217),\n",
              " 'android.content.pm.PackageInfo': (1452.4510738863755, 0.0),\n",
              " 'KeySpec': (1353.0050054585809, 3.4250430658091307e-296),\n",
              " 'TelephonyManager.getLine1Number': (1400.4676435559136,\n",
              "  1.6626817370596136e-306),\n",
              " 'DexClassLoader': (1175.2383766836228, 1.468038236341246e-257),\n",
              " 'HttpGet.init': (1323.4859799412436, 8.900694188445852e-290),\n",
              " 'SecretKey': (1238.215908364285, 3.020116049561133e-271),\n",
              " 'Ljava.lang.Class.getMethod': (1264.4595777467637, 5.980482138456423e-277),\n",
              " 'System.loadLibrary': (1139.1391815930624, 1.0288235784392834e-249),\n",
              " 'android.intent.action.SEND': (881.9094498803465, 8.404912431373708e-194),\n",
              " 'Ljavax.crypto.Cipher': (1055.1387567155343, 1.8595369099265806e-231),\n",
              " 'WRITE_SMS': (1071.0664390041834, 6.419559282172909e-235),\n",
              " 'READ_SYNC_SETTINGS': (699.7186588953159, 3.4425768534554064e-154),\n",
              " 'AUTHENTICATE_ACCOUNTS': (602.3708176805948, 5.106566632220466e-133),\n",
              " 'android.telephony.gsm.SmsManager': (869.2783716462973,\n",
              "  4.6823344122794465e-191),\n",
              " 'WRITE_HISTORY_BOOKMARKS': (879.8445650483505, 2.362789913355561e-193),\n",
              " 'TelephonyManager.getSubscriberId': (872.3337630092765,\n",
              "  1.0144542346395733e-191),\n",
              " 'mount': (823.9716375961658, 3.313528564451556e-181),\n",
              " 'INSTALL_PACKAGES': (830.962640609099, 1.000883415077365e-182),\n",
              " 'Runtime.getRuntime': (787.806524796969, 2.4163925020967474e-173),\n",
              " 'CAMERA': (673.416656474792, 1.805454860845212e-148),\n",
              " 'Ljava.lang.Object.getClass': (808.5965709455564, 7.294982325375937e-178),\n",
              " 'WRITE_SYNC_SETTINGS': (589.1287130206798, 3.876379517237066e-130),\n",
              " 'READ_HISTORY_BOOKMARKS': (800.1901557756589, 4.905890406841268e-176),\n",
              " 'Ljava.lang.Class.forName': (756.8885174456657, 1.275260551546965e-166),\n",
              " 'INTERNET': (612.185865232631, 3.743865909156876e-135),\n",
              " 'android.intent.action.PACKAGE_REPLACED': (530.2872329880925,\n",
              "  2.446018663567892e-117),\n",
              " 'Binder': (676.9336769905758, 3.1027553021155037e-149),\n",
              " 'android.intent.action.SEND_MULTIPLE': (435.5917795855369,\n",
              "  9.859519320358424e-97),\n",
              " 'RECORD_AUDIO': (500.5031050505153, 7.387625985304048e-111),\n",
              " 'IBinder': (606.3425864890186, 6.986311966446762e-134),\n",
              " 'android.os.IBinder': (605.4599752523147, 1.0869757382696448e-133),\n",
              " 'createSubprocess': (516.3031231728851, 2.696819417400219e-114),\n",
              " 'NFC': (374.0929349086914, 2.4046305735195197e-83),\n",
              " 'ACCESS_LOCATION_EXTRA_COMMANDS': (581.1498271306568,\n",
              "  2.1084841942426317e-128),\n",
              " 'URLClassLoader': (393.1850155065071, 1.6768826185389244e-87),\n",
              " 'WRITE_APN_SETTINGS': (561.5622288072366, 3.843992693298821e-124),\n",
              " 'abortBroadcast': (549.418536250012, 1.6845435232992675e-121),\n",
              " 'BIND_REMOTEVIEWS': (339.87054166873804, 6.808702178572269e-76),\n",
              " 'android.intent.action.TIME_SET': (364.4697714041689, 2.994473813685065e-81),\n",
              " 'READ_PROFILE': (317.75795514363847, 4.459359026430487e-71),\n",
              " 'TelephonyManager.getDeviceId': (480.6523474253478, 1.540971218307666e-106),\n",
              " 'MODIFY_AUDIO_SETTINGS': (389.97315358157016, 8.389223391995507e-87),\n",
              " 'getCallingPid': (335.55699603616955, 5.922380350877619e-75),\n",
              " 'READ_SYNC_STATS': (311.33685314201097, 1.1168689637728635e-69),\n",
              " 'BROADCAST_STICKY': (361.57214374964775, 1.280136335541479e-80),\n",
              " 'android.intent.action.PACKAGE_REMOVED': (359.1799162343346,\n",
              "  4.247715274050633e-80),\n",
              " 'android.intent.action.TIMEZONE_CHANGED': (267.98659198910093,\n",
              "  3.1169420664570116e-60),\n",
              " 'WAKE_LOCK': (382.41431449313563, 3.7096365694974375e-85),\n",
              " 'RECEIVE_BOOT_COMPLETED': (381.06615688660463, 7.291938257989626e-85),\n",
              " 'RESTART_PACKAGES': (371.10441508631857, 1.0757953557822089e-82),\n",
              " 'Ljava.lang.Class.getPackage': (332.0741901018042, 3.3964889622750172e-74),\n",
              " 'chmod': (320.1221531893096, 1.3623655305896753e-71),\n",
              " 'Ljava.lang.Class.getDeclaredClasses': (217.47619311322867,\n",
              "  3.2129529831061356e-49),\n",
              " 'android.intent.action.ACTION_POWER_DISCONNECTED': (216.29141657695655,\n",
              "  5.825736668686112e-49),\n",
              " 'android.intent.action.PACKAGE_ADDED': (263.1725336305988,\n",
              "  3.491365945189337e-59),\n",
              " 'PathClassLoader': (203.3016034586681, 3.975363377548667e-46),\n",
              " 'TelephonyManager.getSimSerialNumber': (272.070327325757,\n",
              "  4.01510307298167e-61),\n",
              " 'Runtime.load': (165.52310487544156, 7.031369780195395e-38),\n",
              " 'TelephonyManager.getCallState': (216.77825198520895, 4.561966380894822e-49),\n",
              " 'BLUETOOTH': (213.58012013316406, 2.2741321889268673e-48),\n",
              " 'READ_CALENDAR': (192.51090150585554, 9.000650688977277e-44),\n",
              " 'READ_CALL_LOG': (144.01763879635837, 3.521554213093406e-33),\n",
              " 'SUBSCRIBED_FEEDS_WRITE': (140.22061062604914, 2.3821634693265972e-32),\n",
              " 'READ_EXTERNAL_STORAGE': (192.67653441629324, 8.281753869770189e-44),\n",
              " 'TelephonyManager.getSimCountryIso': (195.55613672776622,\n",
              "  1.948209594257985e-44),\n",
              " 'sendMultipartTextMessage': (135.12203965968297, 3.104861083234353e-31),\n",
              " 'PackageInstaller': (192.93672458840373, 7.266623642117926e-44),\n",
              " 'VIBRATE': (181.16356540691766, 2.700046268739516e-41),\n",
              " 'remount': (189.74782628586013, 3.60890378733907e-43),\n",
              " 'android.intent.action.ACTION_SHUTDOWN': (132.84456900632404,\n",
              "  9.777474343153317e-31),\n",
              " 'sendDataMessage': (180.01337285899564, 4.813937862353661e-41),\n",
              " 'ACCESS_NETWORK_STATE': (172.15237590225857, 2.5065882202762033e-39),\n",
              " 'chown': (171.7147310750501, 3.1236534402841494e-39),\n",
              " 'HttpPost.init': (168.8499984047057, 1.319298851309144e-38),\n",
              " 'Ljava.lang.Class.getClasses': (141.10597581033485, 1.5253480595905308e-32),\n",
              " 'SUBSCRIBED_FEEDS_READ': (115.5072992979079, 6.093435356947541e-27),\n",
              " 'TelephonyManager.isNetworkRoaming': (139.16002292288812,\n",
              "  4.0635081310138403e-32),\n",
              " 'CHANGE_WIFI_MULTICAST_STATE': (103.8892878968205, 2.139430628551451e-24),\n",
              " 'WRITE_CALENDAR': (130.79085724561833, 2.751175200237988e-30),\n",
              " 'android.intent.action.PACKAGE_DATA_CLEARED': (93.35637931998127,\n",
              "  4.367715216396059e-22),\n",
              " 'MASTER_CLEAR': (99.0857060321649, 2.4180724057702723e-23),\n",
              " 'HttpUriRequest': (144.72107720321873, 2.471387203680571e-33),\n",
              " 'UPDATE_DEVICE_STATS': (140.02066495675365, 2.634479340670096e-32),\n",
              " 'WRITE_CALL_LOG': (84.96864267948735, 3.031345807187407e-20),\n",
              " 'DELETE_PACKAGES': (139.32889920796356, 3.7322472798549924e-32),\n",
              " 'GET_TASKS': (116.20537974604804, 4.285378952090007e-27),\n",
              " 'GLOBAL_SEARCH': (101.1927497770929, 8.345423586207035e-24),\n",
              " 'DELETE_CACHE_FILES': (116.81936081511229, 3.1444123297325526e-27),\n",
              " 'WRITE_USER_DICTIONARY': (70.6266312262855, 4.3165062391478386e-17),\n",
              " 'android.intent.action.PACKAGE_CHANGED': (87.18559795289859,\n",
              "  9.88006336153848e-21),\n",
              " 'android.intent.action.NEW_OUTGOING_CALL': (108.95692402561686,\n",
              "  1.6585128776618996e-25),\n",
              " 'REORDER_TASKS': (79.6226627201743, 4.531972662609562e-19),\n",
              " 'WRITE_PROFILE': (62.877556562501475, 2.199644714899674e-15),\n",
              " 'SET_WALLPAPER': (100.39106341254883, 1.250912268952111e-23),\n",
              " 'BIND_INPUT_METHOD': (71.82645979187281, 2.3498010626344666e-17),\n",
              " 'divideMessage': (100.54278689955375, 1.1586674547390828e-23),\n",
              " 'READ_SOCIAL_STREAM': (55.142247058077814, 1.121150256454339e-13),\n",
              " 'READ_USER_DICTIONARY': (57.38167556385686, 3.589358594405918e-14),\n",
              " 'PROCESS_OUTGOING_CALLS': (86.32117330119388, 1.529620293438112e-20),\n",
              " 'CALL_PRIVILEGED': (61.104611840173, 5.412121161548067e-15),\n",
              " 'Runtime.exec': (81.69718814809517, 1.5861900623395868e-19),\n",
              " 'BIND_WALLPAPER': (84.84471830307234, 3.2274178202467134e-20),\n",
              " 'RECEIVE_WAP_PUSH': (80.74907800033559, 2.56277576208714e-19),\n",
              " 'DUMP': (51.98081416065478, 5.604558591790667e-13),\n",
              " 'BATTERY_STATS': (65.5941461882085, 5.540307950398548e-16),\n",
              " 'ACCESS_COARSE_LOCATION': (72.41829199251586, 1.7409277896058335e-17),\n",
              " 'SET_TIME': (45.5169923227202, 1.5132034908070406e-11),\n",
              " 'android.intent.action.SENDTO': (59.35688536950568, 1.315192087856745e-14),\n",
              " 'WRITE_SOCIAL_STREAM': (42.08340293305244, 8.74623667550483e-11),\n",
              " 'WRITE_SETTINGS': (64.51826335288476, 9.564171054043942e-16),\n",
              " 'REBOOT': (55.346727966695745, 1.0103791514626753e-13),\n",
              " 'BLUETOOTH_ADMIN': (61.60780415553267, 4.1915401768134644e-15),\n",
              " 'TelephonyManager.getNetworkOperator': (64.94859645627092,\n",
              "  7.687756826787518e-16),\n",
              " '/system/bin': (58.218086234352185, 2.3461220250278905e-14),\n",
              " 'MessengerService': (33.79446976913007, 6.1252738372843834e-09),\n",
              " 'BIND_DEVICE_ADMIN': (47.29813286010775, 6.09702668048138e-12),\n",
              " 'WRITE_GSERVICES': (33.107787190516305, 8.718883079059378e-09),\n",
              " 'IRemoteService': (39.73622606428893, 2.9068343198505227e-10),\n",
              " 'KILL_BACKGROUND_PROCESSES': (45.139689385105775, 1.8346911800513557e-11),\n",
              " 'SET_ALARM': (49.64655079856732, 1.8409345079843403e-12),\n",
              " 'ACCOUNT_MANAGER': (34.533261532521706, 4.190294088185474e-09),\n",
              " '/system/app': (44.64873372575542, 2.357500141999825e-11),\n",
              " 'android.intent.action.CALL': (32.0480338628587, 1.5040724179795876e-08),\n",
              " 'STATUS_BAR': (40.46863796585348, 1.997974375759662e-10),\n",
              " 'TelephonyManager.getSimOperator': (41.170022132994795,\n",
              "  1.395464416717724e-10),\n",
              " 'PERSISTENT_ACTIVITY': (33.238075326652506, 8.153823625705403e-09),\n",
              " 'CHANGE_NETWORK_STATE': (38.699139807058756, 4.944269015426105e-10),\n",
              " 'onBind': (39.471625252955974, 3.328610662032514e-10),\n",
              " 'Process.start': (22.573652778076998, 2.0223917553592794e-06),\n",
              " 'android.intent.action.SCREEN_ON': (29.61342444582749,\n",
              "  5.2738420043752826e-08),\n",
              " 'Context.bindService': (20.80530166167517, 5.084202685739268e-06),\n",
              " 'RECEIVE_MMS': (35.14358391756225, 3.062688225706867e-09),\n",
              " 'SET_TIME_ZONE': (22.526149122507803, 2.0730239995284903e-06),\n",
              " 'android.intent.action.BATTERY_OKAY': (30.573976975959035,\n",
              "  3.2137550753243856e-08),\n",
              " 'CONTROL_LOCATION_UPDATES': (31.30084884059039, 2.2098300101528804e-08),\n",
              " 'BROADCAST_WAP_PUSH': (24.864264842589115, 6.15121732359482e-07),\n",
              " 'BIND_ACCESSIBILITY_SERVICE': (20.185011964453246, 7.030160893908488e-06),\n",
              " 'ADD_VOICEMAIL': (16.095177228074988, 6.0237243465435705e-05),\n",
              " 'CALL_PHONE': (27.38013884790793, 1.6713905668349944e-07),\n",
              " 'ProcessBuilder': (26.046304246322627, 3.3332629182059453e-07),\n",
              " 'BIND_APPWIDGET': (20.408633367253557, 6.254698934012118e-06),\n",
              " 'FLASHLIGHT': (24.50974599332767, 7.39349118428825e-07),\n",
              " 'READ_LOGS': (26.50981992315016, 2.622018631729169e-07),\n",
              " 'Ljava.lang.Class.getResource': (25.74009229041124, 3.906272061514514e-07),\n",
              " 'defineClass': (21.23142652213854, 4.070355383840516e-06),\n",
              " 'SET_PROCESS_LIMIT': (14.939769203859324, 0.00011099831468071936),\n",
              " 'android.intent.action.PACKAGE_RESTARTED': (18.723640177489127,\n",
              "  1.5109759944516594e-05),\n",
              " 'MOUNT_UNMOUNT_FILESYSTEMS': (21.40862633588366, 3.710977917138143e-06),\n",
              " 'BIND_TEXT_SERVICE': (11.982235999578634, 0.0005371009781797243),\n",
              " 'INSTALL_LOCATION_PROVIDER': (13.779966740189748, 0.00020551607223566432),\n",
              " 'android.intent.action.CALL_BUTTON': (14.549271417929713,\n",
              "  0.00013654144248924672),\n",
              " 'android.intent.action.SCREEN_OFF': (17.360869577011062,\n",
              "  3.0912522114083926e-05),\n",
              " 'findClass': (19.765665449596245, 8.754120804965291e-06),\n",
              " 'SYSTEM_ALERT_WINDOW': (18.047101793814814, 2.1550645603798546e-05),\n",
              " 'MOUNT_FORMAT_FILESYSTEMS': (13.726324581592898, 0.00021146957791792978),\n",
              " 'CHANGE_CONFIGURATION': (18.899460980077453, 1.3779159664017704e-05),\n",
              " 'CLEAR_APP_USER_DATA': (13.564406991311525, 0.00023051523083055924),\n",
              " 'intent.action.RUN': (13.564406991311525, 0.00023051523083055924),\n",
              " 'android.intent.action.SET_WALLPAPER': (14.788880171053439,\n",
              "  0.00012024245019115967),\n",
              " 'CHANGE_WIFI_STATE': (14.861883739114438, 0.00011567695267302706),\n",
              " 'READ_FRAME_BUFFER': (12.931432131725646, 0.00032311048957633584),\n",
              " 'ACCESS_SURFACE_FLINGER': (10.837925744827846, 0.0009944206657341338),\n",
              " 'Runtime.loadLibrary': (7.298871531562698, 0.006899793203861758),\n",
              " 'BROADCAST_SMS': (11.759039483141557, 0.0006054846351888054),\n",
              " 'EXPAND_STATUS_BAR': (11.203997955855279, 0.0008162128962744251),\n",
              " 'INTERNAL_SYSTEM_WINDOW': (9.365433337387643, 0.0022111571725140426),\n",
              " 'android.intent.action.BATTERY_LOW': (10.375117104822149,\n",
              "  0.0012772504549163927),\n",
              " 'SET_ACTIVITY_WATCHER': (5.2418373207715945, 0.022049974807334515),\n",
              " 'WRITE_CONTACTS': (7.969985914557932, 0.004755930885947485),\n",
              " 'android.intent.action.ACTION_POWER_CONNECTED': (7.397327334688516,\n",
              "  0.006532085627441207),\n",
              " 'DISABLE_KEYGUARD': (6.656836386738652, 0.009877612222296628),\n",
              " 'ACCESS_MOCK_LOCATION': (5.910178136364463, 0.015053649540605769),\n",
              " 'SET_ORIENTATION': (4.678666685096859, 0.030539442892918878),\n",
              " 'HARDWARE_TEST': (4.120995347165816, 0.04235415220582503),\n",
              " 'ACCESS_FINE_LOCATION': (4.242257315167895, 0.039429708970224124)}"
            ]
          },
          "execution_count": 12,
          "metadata": {},
          "output_type": "execute_result"
        }
      ],
      "source": [
        "new_chi2_p = {key: val for key, val in chi2_p.items() if val[1] < 0.05}\n",
        "new_chi2_p"
      ]
    },
    {
      "cell_type": "code",
      "execution_count": 13,
      "metadata": {},
      "outputs": [
        {
          "data": {
            "text/plain": [
              "[4889.188627757803,\n",
              " 4735.446265536381,\n",
              " 4697.901403097391,\n",
              " 4574.506563467601,\n",
              " 4674.157449714762,\n",
              " 4611.4626717692745,\n",
              " 4469.596590986639,\n",
              " 3288.926104853883,\n",
              " 2863.767280520132,\n",
              " 2924.6314282082376,\n",
              " 2969.466033130396,\n",
              " 2856.991269694143,\n",
              " 2837.9435318902424,\n",
              " 2502.447436503508,\n",
              " 1925.9694182821195,\n",
              " 2435.8983936768395,\n",
              " 2378.6479497458386,\n",
              " 2322.4774646626965,\n",
              " 2302.764632998597,\n",
              " 2018.6877463341589,\n",
              " 2258.956039435713,\n",
              " 2034.7315827974508,\n",
              " 2054.2004808238707,\n",
              " 1192.014657167695,\n",
              " 1592.573312618171,\n",
              " 1475.0428070332543,\n",
              " 980.4606436372844,\n",
              " 988.7224204670001,\n",
              " 1452.4510738863755,\n",
              " 1353.0050054585809,\n",
              " 1400.4676435559136,\n",
              " 1175.2383766836228,\n",
              " 1323.4859799412436,\n",
              " 1238.215908364285,\n",
              " 1264.4595777467637,\n",
              " 1139.1391815930624,\n",
              " 881.9094498803465,\n",
              " 1055.1387567155343,\n",
              " 1071.0664390041834,\n",
              " 699.7186588953159,\n",
              " 602.3708176805948,\n",
              " 869.2783716462973,\n",
              " 879.8445650483505,\n",
              " 872.3337630092765,\n",
              " 823.9716375961658,\n",
              " 830.962640609099,\n",
              " 787.806524796969,\n",
              " 673.416656474792,\n",
              " 808.5965709455564,\n",
              " 589.1287130206798,\n",
              " 800.1901557756589,\n",
              " 756.8885174456657,\n",
              " 612.185865232631,\n",
              " 530.2872329880925,\n",
              " 676.9336769905758,\n",
              " 435.5917795855369,\n",
              " 500.5031050505153,\n",
              " 606.3425864890186,\n",
              " 605.4599752523147,\n",
              " 516.3031231728851,\n",
              " 374.0929349086914,\n",
              " 581.1498271306568,\n",
              " 393.1850155065071,\n",
              " 561.5622288072366,\n",
              " 549.418536250012,\n",
              " 339.87054166873804,\n",
              " 364.4697714041689,\n",
              " 317.75795514363847,\n",
              " 480.6523474253478,\n",
              " 389.97315358157016,\n",
              " 335.55699603616955,\n",
              " 311.33685314201097,\n",
              " 361.57214374964775,\n",
              " 359.1799162343346,\n",
              " 267.98659198910093,\n",
              " 382.41431449313563,\n",
              " 381.06615688660463,\n",
              " 371.10441508631857,\n",
              " 332.0741901018042,\n",
              " 320.1221531893096,\n",
              " 217.47619311322867,\n",
              " 216.29141657695655,\n",
              " 263.1725336305988,\n",
              " 203.3016034586681,\n",
              " 272.070327325757,\n",
              " 165.52310487544156,\n",
              " 216.77825198520895,\n",
              " 213.58012013316406,\n",
              " 192.51090150585554,\n",
              " 144.01763879635837,\n",
              " 140.22061062604914,\n",
              " 192.67653441629324,\n",
              " 195.55613672776622,\n",
              " 135.12203965968297,\n",
              " 192.93672458840373,\n",
              " 181.16356540691766,\n",
              " 189.74782628586013,\n",
              " 132.84456900632404,\n",
              " 180.01337285899564,\n",
              " 172.15237590225857,\n",
              " 171.7147310750501,\n",
              " 168.8499984047057,\n",
              " 141.10597581033485,\n",
              " 115.5072992979079,\n",
              " 139.16002292288812,\n",
              " 103.8892878968205,\n",
              " 130.79085724561833,\n",
              " 93.35637931998127,\n",
              " 99.0857060321649,\n",
              " 144.72107720321873,\n",
              " 140.02066495675365,\n",
              " 84.96864267948735,\n",
              " 139.32889920796356,\n",
              " 116.20537974604804,\n",
              " 101.1927497770929,\n",
              " 116.81936081511229,\n",
              " 70.6266312262855,\n",
              " 87.18559795289859,\n",
              " 108.95692402561686,\n",
              " 79.6226627201743,\n",
              " 62.877556562501475,\n",
              " 100.39106341254883,\n",
              " 71.82645979187281,\n",
              " 100.54278689955375,\n",
              " 55.142247058077814,\n",
              " 57.38167556385686,\n",
              " 86.32117330119388,\n",
              " 61.104611840173,\n",
              " 81.69718814809517,\n",
              " 84.84471830307234,\n",
              " 80.74907800033559,\n",
              " 51.98081416065478,\n",
              " 65.5941461882085,\n",
              " 72.41829199251586,\n",
              " 45.5169923227202,\n",
              " 59.35688536950568,\n",
              " 42.08340293305244,\n",
              " 64.51826335288476,\n",
              " 55.346727966695745,\n",
              " 61.60780415553267,\n",
              " 64.94859645627092,\n",
              " 58.218086234352185,\n",
              " 33.79446976913007,\n",
              " 47.29813286010775,\n",
              " 33.107787190516305,\n",
              " 39.73622606428893,\n",
              " 45.139689385105775,\n",
              " 49.64655079856732,\n",
              " 34.533261532521706,\n",
              " 44.64873372575542,\n",
              " 32.0480338628587,\n",
              " 40.46863796585348,\n",
              " 41.170022132994795,\n",
              " 33.238075326652506,\n",
              " 38.699139807058756,\n",
              " 39.471625252955974,\n",
              " 22.573652778076998,\n",
              " 29.61342444582749,\n",
              " 20.80530166167517,\n",
              " 35.14358391756225,\n",
              " 22.526149122507803,\n",
              " 30.573976975959035,\n",
              " 31.30084884059039,\n",
              " 24.864264842589115,\n",
              " 20.185011964453246,\n",
              " 16.095177228074988,\n",
              " 27.38013884790793,\n",
              " 26.046304246322627,\n",
              " 20.408633367253557,\n",
              " 24.50974599332767,\n",
              " 26.50981992315016,\n",
              " 25.74009229041124,\n",
              " 21.23142652213854,\n",
              " 14.939769203859324,\n",
              " 18.723640177489127,\n",
              " 21.40862633588366,\n",
              " 11.982235999578634,\n",
              " 13.779966740189748,\n",
              " 14.549271417929713,\n",
              " 17.360869577011062,\n",
              " 19.765665449596245,\n",
              " 18.047101793814814,\n",
              " 13.726324581592898,\n",
              " 18.899460980077453,\n",
              " 13.564406991311525,\n",
              " 13.564406991311525,\n",
              " 14.788880171053439,\n",
              " 14.861883739114438,\n",
              " 12.931432131725646,\n",
              " 10.837925744827846,\n",
              " 7.298871531562698,\n",
              " 11.759039483141557,\n",
              " 11.203997955855279,\n",
              " 9.365433337387643,\n",
              " 10.375117104822149,\n",
              " 5.2418373207715945,\n",
              " 7.969985914557932,\n",
              " 7.397327334688516,\n",
              " 6.656836386738652,\n",
              " 5.910178136364463,\n",
              " 4.678666685096859,\n",
              " 4.120995347165816,\n",
              " 4.242257315167895]"
            ]
          },
          "execution_count": 13,
          "metadata": {},
          "output_type": "execute_result"
        }
      ],
      "source": [
        "chi2_vals = [val[0] for val in new_chi2_p.values()]\n",
        "chi2_vals"
      ]
    },
    {
      "cell_type": "code",
      "execution_count": 14,
      "metadata": {},
      "outputs": [
        {
          "data": {
            "text/plain": [
              "[4889.188627757803,\n",
              " 4735.446265536381,\n",
              " 4697.901403097391,\n",
              " 4674.157449714762,\n",
              " 4611.4626717692745,\n",
              " 4574.506563467601,\n",
              " 4469.596590986639,\n",
              " 3288.926104853883,\n",
              " 2969.466033130396,\n",
              " 2924.6314282082376,\n",
              " 2863.767280520132,\n",
              " 2856.991269694143,\n",
              " 2837.9435318902424,\n",
              " 2502.447436503508,\n",
              " 2435.8983936768395,\n",
              " 2378.6479497458386,\n",
              " 2322.4774646626965,\n",
              " 2302.764632998597,\n",
              " 2258.956039435713,\n",
              " 2054.2004808238707,\n",
              " 2034.7315827974508,\n",
              " 2018.6877463341589,\n",
              " 1925.9694182821195,\n",
              " 1592.573312618171,\n",
              " 1475.0428070332543,\n",
              " 1452.4510738863755,\n",
              " 1400.4676435559136,\n",
              " 1353.0050054585809,\n",
              " 1323.4859799412436,\n",
              " 1264.4595777467637,\n",
              " 1238.215908364285,\n",
              " 1192.014657167695,\n",
              " 1175.2383766836228,\n",
              " 1139.1391815930624,\n",
              " 1071.0664390041834,\n",
              " 1055.1387567155343,\n",
              " 988.7224204670001,\n",
              " 980.4606436372844,\n",
              " 881.9094498803465,\n",
              " 879.8445650483505,\n",
              " 872.3337630092765,\n",
              " 869.2783716462973,\n",
              " 830.962640609099,\n",
              " 823.9716375961658,\n",
              " 808.5965709455564,\n",
              " 800.1901557756589,\n",
              " 787.806524796969,\n",
              " 756.8885174456657,\n",
              " 699.7186588953159,\n",
              " 676.9336769905758]"
            ]
          },
          "execution_count": 14,
          "metadata": {},
          "output_type": "execute_result"
        }
      ],
      "source": [
        "chi2_vals.sort(reverse=True)\n",
        "chi2_vals[:50]"
      ]
    },
    {
      "cell_type": "code",
      "execution_count": 15,
      "metadata": {},
      "outputs": [
        {
          "data": {
            "text/plain": [
              "{'transact': (4889.188627757803, 0.0),\n",
              " 'onServiceConnected': (4735.446265536381, 0.0),\n",
              " 'bindService': (4697.901403097391, 0.0),\n",
              " 'attachInterface': (4574.506563467601, 0.0),\n",
              " 'ServiceConnection': (4674.157449714762, 0.0),\n",
              " 'android.os.Binder': (4611.4626717692745, 0.0),\n",
              " 'SEND_SMS': (4469.596590986639, 0.0),\n",
              " 'Ljava.lang.Class.getCanonicalName': (3288.926104853883, 0.0),\n",
              " 'Ljava.lang.Class.getMethods': (2863.767280520132, 0.0),\n",
              " 'Ljava.lang.Class.cast': (2924.6314282082376, 0.0),\n",
              " 'Ljava.net.URLDecoder': (2969.466033130396, 0.0),\n",
              " 'android.content.pm.Signature': (2856.991269694143, 0.0),\n",
              " 'android.telephony.SmsManager': (2837.9435318902424, 0.0),\n",
              " 'READ_PHONE_STATE': (2502.447436503508, 0.0),\n",
              " 'getBinder': (1925.9694182821195, 0.0),\n",
              " 'ClassLoader': (2435.8983936768395, 0.0),\n",
              " 'Landroid.content.Context.registerReceiver': (2378.6479497458386, 0.0),\n",
              " 'Ljava.lang.Class.getField': (2322.4774646626965, 0.0),\n",
              " 'Landroid.content.Context.unregisterReceiver': (2302.764632998597, 0.0),\n",
              " 'GET_ACCOUNTS': (2018.6877463341589, 0.0),\n",
              " 'RECEIVE_SMS': (2258.956039435713, 0.0),\n",
              " 'Ljava.lang.Class.getDeclaredField': (2034.7315827974508, 0.0),\n",
              " 'READ_SMS': (2054.2004808238707, 0.0),\n",
              " 'getCallingUid': (1192.014657167695, 3.316971272998418e-261),\n",
              " 'Ljavax.crypto.spec.SecretKeySpec': (1592.573312618171, 0.0),\n",
              " 'android.intent.action.BOOT_COMPLETED': (1475.0428070332543, 0.0),\n",
              " 'USE_CREDENTIALS': (980.4606436372844, 3.172922947321898e-215),\n",
              " 'MANAGE_ACCOUNTS': (988.7224204670001, 5.077139027382261e-217),\n",
              " 'android.content.pm.PackageInfo': (1452.4510738863755, 0.0),\n",
              " 'KeySpec': (1353.0050054585809, 3.4250430658091307e-296),\n",
              " 'TelephonyManager.getLine1Number': (1400.4676435559136,\n",
              "  1.6626817370596136e-306),\n",
              " 'DexClassLoader': (1175.2383766836228, 1.468038236341246e-257),\n",
              " 'HttpGet.init': (1323.4859799412436, 8.900694188445852e-290),\n",
              " 'SecretKey': (1238.215908364285, 3.020116049561133e-271),\n",
              " 'Ljava.lang.Class.getMethod': (1264.4595777467637, 5.980482138456423e-277),\n",
              " 'System.loadLibrary': (1139.1391815930624, 1.0288235784392834e-249),\n",
              " 'android.intent.action.SEND': (881.9094498803465, 8.404912431373708e-194),\n",
              " 'Ljavax.crypto.Cipher': (1055.1387567155343, 1.8595369099265806e-231),\n",
              " 'WRITE_SMS': (1071.0664390041834, 6.419559282172909e-235),\n",
              " 'READ_SYNC_SETTINGS': (699.7186588953159, 3.4425768534554064e-154),\n",
              " 'android.telephony.gsm.SmsManager': (869.2783716462973,\n",
              "  4.6823344122794465e-191),\n",
              " 'WRITE_HISTORY_BOOKMARKS': (879.8445650483505, 2.362789913355561e-193),\n",
              " 'TelephonyManager.getSubscriberId': (872.3337630092765,\n",
              "  1.0144542346395733e-191),\n",
              " 'mount': (823.9716375961658, 3.313528564451556e-181),\n",
              " 'INSTALL_PACKAGES': (830.962640609099, 1.000883415077365e-182),\n",
              " 'Runtime.getRuntime': (787.806524796969, 2.4163925020967474e-173),\n",
              " 'Ljava.lang.Object.getClass': (808.5965709455564, 7.294982325375937e-178),\n",
              " 'READ_HISTORY_BOOKMARKS': (800.1901557756589, 4.905890406841268e-176),\n",
              " 'Ljava.lang.Class.forName': (756.8885174456657, 1.275260551546965e-166),\n",
              " 'Binder': (676.9336769905758, 3.1027553021155037e-149)}"
            ]
          },
          "execution_count": 15,
          "metadata": {},
          "output_type": "execute_result"
        }
      ],
      "source": [
        "final_chi2_p = {key: val for key, val in new_chi2_p.items() if val[0] > 675}\n",
        "final_chi2_p"
      ]
    },
    {
      "cell_type": "code",
      "execution_count": 16,
      "metadata": {},
      "outputs": [
        {
          "data": {
            "text/plain": [
              "(['transact',\n",
              "  'onServiceConnected',\n",
              "  'bindService',\n",
              "  'attachInterface',\n",
              "  'ServiceConnection',\n",
              "  'android.os.Binder',\n",
              "  'SEND_SMS',\n",
              "  'Ljava.lang.Class.getCanonicalName',\n",
              "  'Ljava.lang.Class.getMethods',\n",
              "  'Ljava.lang.Class.cast',\n",
              "  'Ljava.net.URLDecoder',\n",
              "  'android.content.pm.Signature',\n",
              "  'android.telephony.SmsManager',\n",
              "  'READ_PHONE_STATE',\n",
              "  'getBinder',\n",
              "  'ClassLoader',\n",
              "  'Landroid.content.Context.registerReceiver',\n",
              "  'Ljava.lang.Class.getField',\n",
              "  'Landroid.content.Context.unregisterReceiver',\n",
              "  'GET_ACCOUNTS',\n",
              "  'RECEIVE_SMS',\n",
              "  'Ljava.lang.Class.getDeclaredField',\n",
              "  'READ_SMS',\n",
              "  'getCallingUid',\n",
              "  'Ljavax.crypto.spec.SecretKeySpec',\n",
              "  'android.intent.action.BOOT_COMPLETED',\n",
              "  'USE_CREDENTIALS',\n",
              "  'MANAGE_ACCOUNTS',\n",
              "  'android.content.pm.PackageInfo',\n",
              "  'KeySpec',\n",
              "  'TelephonyManager.getLine1Number',\n",
              "  'DexClassLoader',\n",
              "  'HttpGet.init',\n",
              "  'SecretKey',\n",
              "  'Ljava.lang.Class.getMethod',\n",
              "  'System.loadLibrary',\n",
              "  'android.intent.action.SEND',\n",
              "  'Ljavax.crypto.Cipher',\n",
              "  'WRITE_SMS',\n",
              "  'READ_SYNC_SETTINGS',\n",
              "  'android.telephony.gsm.SmsManager',\n",
              "  'WRITE_HISTORY_BOOKMARKS',\n",
              "  'TelephonyManager.getSubscriberId',\n",
              "  'mount',\n",
              "  'INSTALL_PACKAGES',\n",
              "  'Runtime.getRuntime',\n",
              "  'Ljava.lang.Object.getClass',\n",
              "  'READ_HISTORY_BOOKMARKS',\n",
              "  'Ljava.lang.Class.forName',\n",
              "  'Binder',\n",
              "  'class'],\n",
              " 51)"
            ]
          },
          "execution_count": 16,
          "metadata": {},
          "output_type": "execute_result"
        }
      ],
      "source": [
        "imp_cols=list(final_chi2_p.keys())\n",
        "imp_cols+=['class']\n",
        "imp_cols, len(imp_cols)"
      ]
    },
    {
      "cell_type": "markdown",
      "metadata": {
        "id": "XrvdyJok_5bU"
      },
      "source": [
        "## Data with only important features"
      ]
    },
    {
      "cell_type": "code",
      "execution_count": 17,
      "metadata": {
        "colab": {
          "base_uri": "https://localhost:8080/",
          "height": 363
        },
        "id": "wN4IG-Fw_5bU",
        "outputId": "276579e5-2cd1-4dd2-c00a-d4f811af324f"
      },
      "outputs": [
        {
          "data": {
            "text/plain": [
              "(216, 2)"
            ]
          },
          "execution_count": 17,
          "metadata": {},
          "output_type": "execute_result"
        }
      ],
      "source": [
        "feature_df = pd.read_csv(\"features.csv\", header=None, names=[\"X\", \"Category\"])\n",
        "feature_df.shape"
      ]
    },
    {
      "cell_type": "code",
      "execution_count": 18,
      "metadata": {},
      "outputs": [
        {
          "data": {
            "text/plain": [
              "Category\n",
              "API call signature     36\n",
              "Manifest Permission    12\n",
              "Intent                  1\n",
              "Commands signature      1\n",
              "B=Benign; S=Malware     1\n",
              "Name: count, dtype: int64"
            ]
          },
          "execution_count": 18,
          "metadata": {},
          "output_type": "execute_result"
        }
      ],
      "source": [
        "feature_df=feature_df[feature_df['X'].isin(imp_cols)]  # only keep the important features\n",
        "feature_df['Category'].value_counts()"
      ]
    },
    {
      "cell_type": "code",
      "execution_count": 19,
      "metadata": {},
      "outputs": [
        {
          "data": {
            "text/plain": [
              "(51, 2)"
            ]
          },
          "execution_count": 19,
          "metadata": {},
          "output_type": "execute_result"
        }
      ],
      "source": [
        "feature_df.shape"
      ]
    },
    {
      "cell_type": "code",
      "execution_count": 20,
      "metadata": {},
      "outputs": [],
      "source": [
        "feature_df.to_csv(\"imp-features.csv\", index=False)"
      ]
    },
    {
      "cell_type": "code",
      "execution_count": 21,
      "metadata": {},
      "outputs": [
        {
          "data": {
            "text/plain": [
              "(15043, 51)"
            ]
          },
          "execution_count": 21,
          "metadata": {},
          "output_type": "execute_result"
        }
      ],
      "source": [
        "data=data.filter(feature_df['X'].tolist())\n",
        "data.shape"
      ]
    },
    {
      "cell_type": "code",
      "execution_count": 22,
      "metadata": {},
      "outputs": [
        {
          "data": {
            "text/html": [
              "<div>\n",
              "<style scoped>\n",
              "    .dataframe tbody tr th:only-of-type {\n",
              "        vertical-align: middle;\n",
              "    }\n",
              "\n",
              "    .dataframe tbody tr th {\n",
              "        vertical-align: top;\n",
              "    }\n",
              "\n",
              "    .dataframe thead th {\n",
              "        text-align: right;\n",
              "    }\n",
              "</style>\n",
              "<table border=\"1\" class=\"dataframe\">\n",
              "  <thead>\n",
              "    <tr style=\"text-align: right;\">\n",
              "      <th></th>\n",
              "      <th>transact</th>\n",
              "      <th>onServiceConnected</th>\n",
              "      <th>bindService</th>\n",
              "      <th>attachInterface</th>\n",
              "      <th>ServiceConnection</th>\n",
              "      <th>android.os.Binder</th>\n",
              "      <th>SEND_SMS</th>\n",
              "      <th>Ljava.lang.Class.getCanonicalName</th>\n",
              "      <th>Ljava.lang.Class.getMethods</th>\n",
              "      <th>Ljava.lang.Class.cast</th>\n",
              "      <th>...</th>\n",
              "      <th>WRITE_HISTORY_BOOKMARKS</th>\n",
              "      <th>TelephonyManager.getSubscriberId</th>\n",
              "      <th>mount</th>\n",
              "      <th>INSTALL_PACKAGES</th>\n",
              "      <th>Runtime.getRuntime</th>\n",
              "      <th>Ljava.lang.Object.getClass</th>\n",
              "      <th>READ_HISTORY_BOOKMARKS</th>\n",
              "      <th>Ljava.lang.Class.forName</th>\n",
              "      <th>Binder</th>\n",
              "      <th>class</th>\n",
              "    </tr>\n",
              "  </thead>\n",
              "  <tbody>\n",
              "  </tbody>\n",
              "</table>\n",
              "<p>0 rows × 51 columns</p>\n",
              "</div>"
            ],
            "text/plain": [
              "Empty DataFrame\n",
              "Columns: [transact, onServiceConnected, bindService, attachInterface, ServiceConnection, android.os.Binder, SEND_SMS, Ljava.lang.Class.getCanonicalName, Ljava.lang.Class.getMethods, Ljava.lang.Class.cast, Ljava.net.URLDecoder, android.content.pm.Signature, android.telephony.SmsManager, READ_PHONE_STATE, getBinder, ClassLoader, Landroid.content.Context.registerReceiver, Ljava.lang.Class.getField, Landroid.content.Context.unregisterReceiver, GET_ACCOUNTS, RECEIVE_SMS, Ljava.lang.Class.getDeclaredField, READ_SMS, getCallingUid, Ljavax.crypto.spec.SecretKeySpec, android.intent.action.BOOT_COMPLETED, USE_CREDENTIALS, MANAGE_ACCOUNTS, android.content.pm.PackageInfo, KeySpec, TelephonyManager.getLine1Number, DexClassLoader, HttpGet.init, SecretKey, Ljava.lang.Class.getMethod, System.loadLibrary, android.intent.action.SEND, Ljavax.crypto.Cipher, WRITE_SMS, READ_SYNC_SETTINGS, android.telephony.gsm.SmsManager, WRITE_HISTORY_BOOKMARKS, TelephonyManager.getSubscriberId, mount, INSTALL_PACKAGES, Runtime.getRuntime, Ljava.lang.Object.getClass, READ_HISTORY_BOOKMARKS, Ljava.lang.Class.forName, Binder, class]\n",
              "Index: []\n",
              "\n",
              "[0 rows x 51 columns]"
            ]
          },
          "execution_count": 22,
          "metadata": {},
          "output_type": "execute_result"
        }
      ],
      "source": [
        "x=data.head(0)\n",
        "x"
      ]
    },
    {
      "cell_type": "markdown",
      "metadata": {
        "id": "bj2gGq4W_5bU"
      },
      "source": [
        "## Types of indicators in the data"
      ]
    },
    {
      "cell_type": "markdown",
      "metadata": {
        "id": "_DmC9VI4_5bW"
      },
      "source": [
        "## Categories vise indicators"
      ]
    },
    {
      "cell_type": "code",
      "execution_count": 23,
      "metadata": {
        "colab": {
          "base_uri": "https://localhost:8080/",
          "height": 423
        },
        "id": "av3JxlwB_5bX",
        "outputId": "aef3f32f-7b6c-4b37-bab0-273abc1997e7"
      },
      "outputs": [
        {
          "data": {
            "text/html": [
              "<div>\n",
              "<style scoped>\n",
              "    .dataframe tbody tr th:only-of-type {\n",
              "        vertical-align: middle;\n",
              "    }\n",
              "\n",
              "    .dataframe tbody tr th {\n",
              "        vertical-align: top;\n",
              "    }\n",
              "\n",
              "    .dataframe thead th {\n",
              "        text-align: right;\n",
              "    }\n",
              "</style>\n",
              "<table border=\"1\" class=\"dataframe\">\n",
              "  <thead>\n",
              "    <tr style=\"text-align: right;\">\n",
              "      <th></th>\n",
              "      <th>X</th>\n",
              "      <th>Category</th>\n",
              "    </tr>\n",
              "  </thead>\n",
              "  <tbody>\n",
              "    <tr>\n",
              "      <th>6</th>\n",
              "      <td>SEND_SMS</td>\n",
              "      <td>Manifest Permission</td>\n",
              "    </tr>\n",
              "    <tr>\n",
              "      <th>13</th>\n",
              "      <td>READ_PHONE_STATE</td>\n",
              "      <td>Manifest Permission</td>\n",
              "    </tr>\n",
              "    <tr>\n",
              "      <th>19</th>\n",
              "      <td>GET_ACCOUNTS</td>\n",
              "      <td>Manifest Permission</td>\n",
              "    </tr>\n",
              "    <tr>\n",
              "      <th>20</th>\n",
              "      <td>RECEIVE_SMS</td>\n",
              "      <td>Manifest Permission</td>\n",
              "    </tr>\n",
              "    <tr>\n",
              "      <th>22</th>\n",
              "      <td>READ_SMS</td>\n",
              "      <td>Manifest Permission</td>\n",
              "    </tr>\n",
              "    <tr>\n",
              "      <th>26</th>\n",
              "      <td>USE_CREDENTIALS</td>\n",
              "      <td>Manifest Permission</td>\n",
              "    </tr>\n",
              "    <tr>\n",
              "      <th>27</th>\n",
              "      <td>MANAGE_ACCOUNTS</td>\n",
              "      <td>Manifest Permission</td>\n",
              "    </tr>\n",
              "    <tr>\n",
              "      <th>38</th>\n",
              "      <td>WRITE_SMS</td>\n",
              "      <td>Manifest Permission</td>\n",
              "    </tr>\n",
              "    <tr>\n",
              "      <th>39</th>\n",
              "      <td>READ_SYNC_SETTINGS</td>\n",
              "      <td>Manifest Permission</td>\n",
              "    </tr>\n",
              "    <tr>\n",
              "      <th>42</th>\n",
              "      <td>WRITE_HISTORY_BOOKMARKS</td>\n",
              "      <td>Manifest Permission</td>\n",
              "    </tr>\n",
              "    <tr>\n",
              "      <th>45</th>\n",
              "      <td>INSTALL_PACKAGES</td>\n",
              "      <td>Manifest Permission</td>\n",
              "    </tr>\n",
              "    <tr>\n",
              "      <th>50</th>\n",
              "      <td>READ_HISTORY_BOOKMARKS</td>\n",
              "      <td>Manifest Permission</td>\n",
              "    </tr>\n",
              "  </tbody>\n",
              "</table>\n",
              "</div>"
            ],
            "text/plain": [
              "                          X             Category\n",
              "6                  SEND_SMS  Manifest Permission\n",
              "13         READ_PHONE_STATE  Manifest Permission\n",
              "19             GET_ACCOUNTS  Manifest Permission\n",
              "20              RECEIVE_SMS  Manifest Permission\n",
              "22                 READ_SMS  Manifest Permission\n",
              "26          USE_CREDENTIALS  Manifest Permission\n",
              "27          MANAGE_ACCOUNTS  Manifest Permission\n",
              "38                WRITE_SMS  Manifest Permission\n",
              "39       READ_SYNC_SETTINGS  Manifest Permission\n",
              "42  WRITE_HISTORY_BOOKMARKS  Manifest Permission\n",
              "45         INSTALL_PACKAGES  Manifest Permission\n",
              "50   READ_HISTORY_BOOKMARKS  Manifest Permission"
            ]
          },
          "execution_count": 23,
          "metadata": {},
          "output_type": "execute_result"
        }
      ],
      "source": [
        "feature_df[feature_df[\"Category\"] == \"Manifest Permission\"]"
      ]
    },
    {
      "cell_type": "code",
      "execution_count": 24,
      "metadata": {
        "colab": {
          "base_uri": "https://localhost:8080/",
          "height": 423
        },
        "id": "lzr1VSYW_5bX",
        "outputId": "7eee43a5-938b-41ce-da51-f0463d7cf07b"
      },
      "outputs": [
        {
          "data": {
            "text/html": [
              "<div>\n",
              "<style scoped>\n",
              "    .dataframe tbody tr th:only-of-type {\n",
              "        vertical-align: middle;\n",
              "    }\n",
              "\n",
              "    .dataframe tbody tr th {\n",
              "        vertical-align: top;\n",
              "    }\n",
              "\n",
              "    .dataframe thead th {\n",
              "        text-align: right;\n",
              "    }\n",
              "</style>\n",
              "<table border=\"1\" class=\"dataframe\">\n",
              "  <thead>\n",
              "    <tr style=\"text-align: right;\">\n",
              "      <th></th>\n",
              "      <th>X</th>\n",
              "      <th>Category</th>\n",
              "    </tr>\n",
              "  </thead>\n",
              "  <tbody>\n",
              "    <tr>\n",
              "      <th>0</th>\n",
              "      <td>transact</td>\n",
              "      <td>API call signature</td>\n",
              "    </tr>\n",
              "    <tr>\n",
              "      <th>1</th>\n",
              "      <td>onServiceConnected</td>\n",
              "      <td>API call signature</td>\n",
              "    </tr>\n",
              "    <tr>\n",
              "      <th>2</th>\n",
              "      <td>bindService</td>\n",
              "      <td>API call signature</td>\n",
              "    </tr>\n",
              "    <tr>\n",
              "      <th>3</th>\n",
              "      <td>attachInterface</td>\n",
              "      <td>API call signature</td>\n",
              "    </tr>\n",
              "    <tr>\n",
              "      <th>4</th>\n",
              "      <td>ServiceConnection</td>\n",
              "      <td>API call signature</td>\n",
              "    </tr>\n",
              "    <tr>\n",
              "      <th>5</th>\n",
              "      <td>android.os.Binder</td>\n",
              "      <td>API call signature</td>\n",
              "    </tr>\n",
              "    <tr>\n",
              "      <th>7</th>\n",
              "      <td>Ljava.lang.Class.getCanonicalName</td>\n",
              "      <td>API call signature</td>\n",
              "    </tr>\n",
              "    <tr>\n",
              "      <th>8</th>\n",
              "      <td>Ljava.lang.Class.getMethods</td>\n",
              "      <td>API call signature</td>\n",
              "    </tr>\n",
              "    <tr>\n",
              "      <th>9</th>\n",
              "      <td>Ljava.lang.Class.cast</td>\n",
              "      <td>API call signature</td>\n",
              "    </tr>\n",
              "    <tr>\n",
              "      <th>10</th>\n",
              "      <td>Ljava.net.URLDecoder</td>\n",
              "      <td>API call signature</td>\n",
              "    </tr>\n",
              "    <tr>\n",
              "      <th>11</th>\n",
              "      <td>android.content.pm.Signature</td>\n",
              "      <td>API call signature</td>\n",
              "    </tr>\n",
              "    <tr>\n",
              "      <th>12</th>\n",
              "      <td>android.telephony.SmsManager</td>\n",
              "      <td>API call signature</td>\n",
              "    </tr>\n",
              "    <tr>\n",
              "      <th>14</th>\n",
              "      <td>getBinder</td>\n",
              "      <td>API call signature</td>\n",
              "    </tr>\n",
              "    <tr>\n",
              "      <th>15</th>\n",
              "      <td>ClassLoader</td>\n",
              "      <td>API call signature</td>\n",
              "    </tr>\n",
              "    <tr>\n",
              "      <th>16</th>\n",
              "      <td>Landroid.content.Context.registerReceiver</td>\n",
              "      <td>API call signature</td>\n",
              "    </tr>\n",
              "    <tr>\n",
              "      <th>17</th>\n",
              "      <td>Ljava.lang.Class.getField</td>\n",
              "      <td>API call signature</td>\n",
              "    </tr>\n",
              "    <tr>\n",
              "      <th>18</th>\n",
              "      <td>Landroid.content.Context.unregisterReceiver</td>\n",
              "      <td>API call signature</td>\n",
              "    </tr>\n",
              "    <tr>\n",
              "      <th>21</th>\n",
              "      <td>Ljava.lang.Class.getDeclaredField</td>\n",
              "      <td>API call signature</td>\n",
              "    </tr>\n",
              "    <tr>\n",
              "      <th>23</th>\n",
              "      <td>getCallingUid</td>\n",
              "      <td>API call signature</td>\n",
              "    </tr>\n",
              "    <tr>\n",
              "      <th>24</th>\n",
              "      <td>Ljavax.crypto.spec.SecretKeySpec</td>\n",
              "      <td>API call signature</td>\n",
              "    </tr>\n",
              "    <tr>\n",
              "      <th>28</th>\n",
              "      <td>android.content.pm.PackageInfo</td>\n",
              "      <td>API call signature</td>\n",
              "    </tr>\n",
              "    <tr>\n",
              "      <th>29</th>\n",
              "      <td>KeySpec</td>\n",
              "      <td>API call signature</td>\n",
              "    </tr>\n",
              "    <tr>\n",
              "      <th>30</th>\n",
              "      <td>TelephonyManager.getLine1Number</td>\n",
              "      <td>API call signature</td>\n",
              "    </tr>\n",
              "    <tr>\n",
              "      <th>31</th>\n",
              "      <td>DexClassLoader</td>\n",
              "      <td>API call signature</td>\n",
              "    </tr>\n",
              "    <tr>\n",
              "      <th>32</th>\n",
              "      <td>HttpGet.init</td>\n",
              "      <td>API call signature</td>\n",
              "    </tr>\n",
              "    <tr>\n",
              "      <th>33</th>\n",
              "      <td>SecretKey</td>\n",
              "      <td>API call signature</td>\n",
              "    </tr>\n",
              "    <tr>\n",
              "      <th>34</th>\n",
              "      <td>Ljava.lang.Class.getMethod</td>\n",
              "      <td>API call signature</td>\n",
              "    </tr>\n",
              "    <tr>\n",
              "      <th>35</th>\n",
              "      <td>System.loadLibrary</td>\n",
              "      <td>API call signature</td>\n",
              "    </tr>\n",
              "    <tr>\n",
              "      <th>36</th>\n",
              "      <td>android.intent.action.SEND</td>\n",
              "      <td>API call signature</td>\n",
              "    </tr>\n",
              "    <tr>\n",
              "      <th>37</th>\n",
              "      <td>Ljavax.crypto.Cipher</td>\n",
              "      <td>API call signature</td>\n",
              "    </tr>\n",
              "    <tr>\n",
              "      <th>41</th>\n",
              "      <td>android.telephony.gsm.SmsManager</td>\n",
              "      <td>API call signature</td>\n",
              "    </tr>\n",
              "    <tr>\n",
              "      <th>43</th>\n",
              "      <td>TelephonyManager.getSubscriberId</td>\n",
              "      <td>API call signature</td>\n",
              "    </tr>\n",
              "    <tr>\n",
              "      <th>46</th>\n",
              "      <td>Runtime.getRuntime</td>\n",
              "      <td>API call signature</td>\n",
              "    </tr>\n",
              "    <tr>\n",
              "      <th>48</th>\n",
              "      <td>Ljava.lang.Object.getClass</td>\n",
              "      <td>API call signature</td>\n",
              "    </tr>\n",
              "    <tr>\n",
              "      <th>51</th>\n",
              "      <td>Ljava.lang.Class.forName</td>\n",
              "      <td>API call signature</td>\n",
              "    </tr>\n",
              "    <tr>\n",
              "      <th>54</th>\n",
              "      <td>Binder</td>\n",
              "      <td>API call signature</td>\n",
              "    </tr>\n",
              "  </tbody>\n",
              "</table>\n",
              "</div>"
            ],
            "text/plain": [
              "                                              X            Category\n",
              "0                                      transact  API call signature\n",
              "1                            onServiceConnected  API call signature\n",
              "2                                   bindService  API call signature\n",
              "3                               attachInterface  API call signature\n",
              "4                             ServiceConnection  API call signature\n",
              "5                             android.os.Binder  API call signature\n",
              "7             Ljava.lang.Class.getCanonicalName  API call signature\n",
              "8                   Ljava.lang.Class.getMethods  API call signature\n",
              "9                         Ljava.lang.Class.cast  API call signature\n",
              "10                         Ljava.net.URLDecoder  API call signature\n",
              "11                 android.content.pm.Signature  API call signature\n",
              "12                 android.telephony.SmsManager  API call signature\n",
              "14                                    getBinder  API call signature\n",
              "15                                  ClassLoader  API call signature\n",
              "16    Landroid.content.Context.registerReceiver  API call signature\n",
              "17                    Ljava.lang.Class.getField  API call signature\n",
              "18  Landroid.content.Context.unregisterReceiver  API call signature\n",
              "21            Ljava.lang.Class.getDeclaredField  API call signature\n",
              "23                                getCallingUid  API call signature\n",
              "24             Ljavax.crypto.spec.SecretKeySpec  API call signature\n",
              "28               android.content.pm.PackageInfo  API call signature\n",
              "29                                      KeySpec  API call signature\n",
              "30              TelephonyManager.getLine1Number  API call signature\n",
              "31                               DexClassLoader  API call signature\n",
              "32                                 HttpGet.init  API call signature\n",
              "33                                    SecretKey  API call signature\n",
              "34                   Ljava.lang.Class.getMethod  API call signature\n",
              "35                           System.loadLibrary  API call signature\n",
              "36                   android.intent.action.SEND  API call signature\n",
              "37                         Ljavax.crypto.Cipher  API call signature\n",
              "41             android.telephony.gsm.SmsManager  API call signature\n",
              "43             TelephonyManager.getSubscriberId  API call signature\n",
              "46                           Runtime.getRuntime  API call signature\n",
              "48                   Ljava.lang.Object.getClass  API call signature\n",
              "51                     Ljava.lang.Class.forName  API call signature\n",
              "54                                       Binder  API call signature"
            ]
          },
          "execution_count": 24,
          "metadata": {},
          "output_type": "execute_result"
        }
      ],
      "source": [
        "feature_df[feature_df[\"Category\"] == \"API call signature\"]"
      ]
    },
    {
      "cell_type": "code",
      "execution_count": 25,
      "metadata": {
        "colab": {
          "base_uri": "https://localhost:8080/",
          "height": 770
        },
        "id": "0UY4qfjP_5bX",
        "outputId": "e5abfd02-a49b-41f5-d5b9-352bb82398e7"
      },
      "outputs": [
        {
          "data": {
            "text/html": [
              "<div>\n",
              "<style scoped>\n",
              "    .dataframe tbody tr th:only-of-type {\n",
              "        vertical-align: middle;\n",
              "    }\n",
              "\n",
              "    .dataframe tbody tr th {\n",
              "        vertical-align: top;\n",
              "    }\n",
              "\n",
              "    .dataframe thead th {\n",
              "        text-align: right;\n",
              "    }\n",
              "</style>\n",
              "<table border=\"1\" class=\"dataframe\">\n",
              "  <thead>\n",
              "    <tr style=\"text-align: right;\">\n",
              "      <th></th>\n",
              "      <th>X</th>\n",
              "      <th>Category</th>\n",
              "    </tr>\n",
              "  </thead>\n",
              "  <tbody>\n",
              "    <tr>\n",
              "      <th>25</th>\n",
              "      <td>android.intent.action.BOOT_COMPLETED</td>\n",
              "      <td>Intent</td>\n",
              "    </tr>\n",
              "  </tbody>\n",
              "</table>\n",
              "</div>"
            ],
            "text/plain": [
              "                                       X Category\n",
              "25  android.intent.action.BOOT_COMPLETED   Intent"
            ]
          },
          "execution_count": 25,
          "metadata": {},
          "output_type": "execute_result"
        }
      ],
      "source": [
        "feature_df[feature_df[\"Category\"] == \"Intent\"]"
      ]
    },
    {
      "cell_type": "code",
      "execution_count": 26,
      "metadata": {
        "colab": {
          "base_uri": "https://localhost:8080/",
          "height": 237
        },
        "id": "qEGbdMIm_5bX",
        "outputId": "48ae605a-619e-4009-e444-ecff7d493ab7"
      },
      "outputs": [
        {
          "data": {
            "text/html": [
              "<div>\n",
              "<style scoped>\n",
              "    .dataframe tbody tr th:only-of-type {\n",
              "        vertical-align: middle;\n",
              "    }\n",
              "\n",
              "    .dataframe tbody tr th {\n",
              "        vertical-align: top;\n",
              "    }\n",
              "\n",
              "    .dataframe thead th {\n",
              "        text-align: right;\n",
              "    }\n",
              "</style>\n",
              "<table border=\"1\" class=\"dataframe\">\n",
              "  <thead>\n",
              "    <tr style=\"text-align: right;\">\n",
              "      <th></th>\n",
              "      <th>X</th>\n",
              "      <th>Category</th>\n",
              "    </tr>\n",
              "  </thead>\n",
              "  <tbody>\n",
              "    <tr>\n",
              "      <th>44</th>\n",
              "      <td>mount</td>\n",
              "      <td>Commands signature</td>\n",
              "    </tr>\n",
              "  </tbody>\n",
              "</table>\n",
              "</div>"
            ],
            "text/plain": [
              "        X            Category\n",
              "44  mount  Commands signature"
            ]
          },
          "execution_count": 26,
          "metadata": {},
          "output_type": "execute_result"
        }
      ],
      "source": [
        "feature_df[feature_df[\"Category\"] == \"Commands signature\"]"
      ]
    },
    {
      "cell_type": "markdown",
      "metadata": {
        "id": "yVHYkNtp_5bY"
      },
      "source": [
        "## Data cleaning"
      ]
    },
    {
      "cell_type": "code",
      "execution_count": 27,
      "metadata": {
        "id": "vKl8IWgj_5bY"
      },
      "outputs": [],
      "source": [
        "data = data.dropna()  # drop rows with missing/null values"
      ]
    },
    {
      "cell_type": "code",
      "execution_count": 28,
      "metadata": {},
      "outputs": [],
      "source": [
        "data.drop_duplicates(keep=\"first\", inplace=True)  # drop duplicate rows"
      ]
    },
    {
      "cell_type": "code",
      "execution_count": 29,
      "metadata": {},
      "outputs": [
        {
          "data": {
            "text/html": [
              "<div>\n",
              "<style scoped>\n",
              "    .dataframe tbody tr th:only-of-type {\n",
              "        vertical-align: middle;\n",
              "    }\n",
              "\n",
              "    .dataframe tbody tr th {\n",
              "        vertical-align: top;\n",
              "    }\n",
              "\n",
              "    .dataframe thead th {\n",
              "        text-align: right;\n",
              "    }\n",
              "</style>\n",
              "<table border=\"1\" class=\"dataframe\">\n",
              "  <thead>\n",
              "    <tr style=\"text-align: right;\">\n",
              "      <th></th>\n",
              "      <th>transact</th>\n",
              "      <th>onServiceConnected</th>\n",
              "      <th>bindService</th>\n",
              "      <th>attachInterface</th>\n",
              "      <th>ServiceConnection</th>\n",
              "      <th>android.os.Binder</th>\n",
              "      <th>SEND_SMS</th>\n",
              "      <th>Ljava.lang.Class.getCanonicalName</th>\n",
              "      <th>Ljava.lang.Class.getMethods</th>\n",
              "      <th>Ljava.lang.Class.cast</th>\n",
              "      <th>...</th>\n",
              "      <th>WRITE_HISTORY_BOOKMARKS</th>\n",
              "      <th>TelephonyManager.getSubscriberId</th>\n",
              "      <th>mount</th>\n",
              "      <th>INSTALL_PACKAGES</th>\n",
              "      <th>Runtime.getRuntime</th>\n",
              "      <th>Ljava.lang.Object.getClass</th>\n",
              "      <th>READ_HISTORY_BOOKMARKS</th>\n",
              "      <th>Ljava.lang.Class.forName</th>\n",
              "      <th>Binder</th>\n",
              "      <th>class</th>\n",
              "    </tr>\n",
              "  </thead>\n",
              "  <tbody>\n",
              "    <tr>\n",
              "      <th>0</th>\n",
              "      <td>0</td>\n",
              "      <td>0</td>\n",
              "      <td>0</td>\n",
              "      <td>0</td>\n",
              "      <td>0</td>\n",
              "      <td>0</td>\n",
              "      <td>1</td>\n",
              "      <td>0</td>\n",
              "      <td>0</td>\n",
              "      <td>0</td>\n",
              "      <td>...</td>\n",
              "      <td>0</td>\n",
              "      <td>0</td>\n",
              "      <td>0</td>\n",
              "      <td>0</td>\n",
              "      <td>0</td>\n",
              "      <td>0</td>\n",
              "      <td>0</td>\n",
              "      <td>0</td>\n",
              "      <td>0</td>\n",
              "      <td>S</td>\n",
              "    </tr>\n",
              "    <tr>\n",
              "      <th>1</th>\n",
              "      <td>0</td>\n",
              "      <td>0</td>\n",
              "      <td>0</td>\n",
              "      <td>0</td>\n",
              "      <td>0</td>\n",
              "      <td>0</td>\n",
              "      <td>1</td>\n",
              "      <td>0</td>\n",
              "      <td>0</td>\n",
              "      <td>0</td>\n",
              "      <td>...</td>\n",
              "      <td>0</td>\n",
              "      <td>0</td>\n",
              "      <td>0</td>\n",
              "      <td>0</td>\n",
              "      <td>0</td>\n",
              "      <td>0</td>\n",
              "      <td>0</td>\n",
              "      <td>0</td>\n",
              "      <td>0</td>\n",
              "      <td>S</td>\n",
              "    </tr>\n",
              "    <tr>\n",
              "      <th>2</th>\n",
              "      <td>0</td>\n",
              "      <td>0</td>\n",
              "      <td>0</td>\n",
              "      <td>0</td>\n",
              "      <td>0</td>\n",
              "      <td>0</td>\n",
              "      <td>1</td>\n",
              "      <td>0</td>\n",
              "      <td>0</td>\n",
              "      <td>0</td>\n",
              "      <td>...</td>\n",
              "      <td>0</td>\n",
              "      <td>0</td>\n",
              "      <td>0</td>\n",
              "      <td>0</td>\n",
              "      <td>0</td>\n",
              "      <td>1</td>\n",
              "      <td>0</td>\n",
              "      <td>1</td>\n",
              "      <td>0</td>\n",
              "      <td>S</td>\n",
              "    </tr>\n",
              "    <tr>\n",
              "      <th>3</th>\n",
              "      <td>0</td>\n",
              "      <td>0</td>\n",
              "      <td>0</td>\n",
              "      <td>0</td>\n",
              "      <td>0</td>\n",
              "      <td>0</td>\n",
              "      <td>0</td>\n",
              "      <td>0</td>\n",
              "      <td>0</td>\n",
              "      <td>1</td>\n",
              "      <td>...</td>\n",
              "      <td>0</td>\n",
              "      <td>1</td>\n",
              "      <td>1</td>\n",
              "      <td>1</td>\n",
              "      <td>1</td>\n",
              "      <td>1</td>\n",
              "      <td>0</td>\n",
              "      <td>1</td>\n",
              "      <td>1</td>\n",
              "      <td>S</td>\n",
              "    </tr>\n",
              "    <tr>\n",
              "      <th>4</th>\n",
              "      <td>0</td>\n",
              "      <td>0</td>\n",
              "      <td>0</td>\n",
              "      <td>0</td>\n",
              "      <td>0</td>\n",
              "      <td>0</td>\n",
              "      <td>0</td>\n",
              "      <td>0</td>\n",
              "      <td>0</td>\n",
              "      <td>0</td>\n",
              "      <td>...</td>\n",
              "      <td>1</td>\n",
              "      <td>0</td>\n",
              "      <td>1</td>\n",
              "      <td>0</td>\n",
              "      <td>0</td>\n",
              "      <td>1</td>\n",
              "      <td>1</td>\n",
              "      <td>1</td>\n",
              "      <td>0</td>\n",
              "      <td>S</td>\n",
              "    </tr>\n",
              "    <tr>\n",
              "      <th>...</th>\n",
              "      <td>...</td>\n",
              "      <td>...</td>\n",
              "      <td>...</td>\n",
              "      <td>...</td>\n",
              "      <td>...</td>\n",
              "      <td>...</td>\n",
              "      <td>...</td>\n",
              "      <td>...</td>\n",
              "      <td>...</td>\n",
              "      <td>...</td>\n",
              "      <td>...</td>\n",
              "      <td>...</td>\n",
              "      <td>...</td>\n",
              "      <td>...</td>\n",
              "      <td>...</td>\n",
              "      <td>...</td>\n",
              "      <td>...</td>\n",
              "      <td>...</td>\n",
              "      <td>...</td>\n",
              "      <td>...</td>\n",
              "      <td>...</td>\n",
              "    </tr>\n",
              "    <tr>\n",
              "      <th>5316</th>\n",
              "      <td>1</td>\n",
              "      <td>0</td>\n",
              "      <td>0</td>\n",
              "      <td>1</td>\n",
              "      <td>0</td>\n",
              "      <td>1</td>\n",
              "      <td>1</td>\n",
              "      <td>0</td>\n",
              "      <td>0</td>\n",
              "      <td>0</td>\n",
              "      <td>...</td>\n",
              "      <td>1</td>\n",
              "      <td>1</td>\n",
              "      <td>1</td>\n",
              "      <td>0</td>\n",
              "      <td>1</td>\n",
              "      <td>1</td>\n",
              "      <td>0</td>\n",
              "      <td>1</td>\n",
              "      <td>1</td>\n",
              "      <td>B</td>\n",
              "    </tr>\n",
              "    <tr>\n",
              "      <th>5317</th>\n",
              "      <td>1</td>\n",
              "      <td>1</td>\n",
              "      <td>1</td>\n",
              "      <td>1</td>\n",
              "      <td>1</td>\n",
              "      <td>1</td>\n",
              "      <td>0</td>\n",
              "      <td>1</td>\n",
              "      <td>0</td>\n",
              "      <td>0</td>\n",
              "      <td>...</td>\n",
              "      <td>0</td>\n",
              "      <td>1</td>\n",
              "      <td>1</td>\n",
              "      <td>0</td>\n",
              "      <td>1</td>\n",
              "      <td>1</td>\n",
              "      <td>0</td>\n",
              "      <td>1</td>\n",
              "      <td>1</td>\n",
              "      <td>B</td>\n",
              "    </tr>\n",
              "    <tr>\n",
              "      <th>5318</th>\n",
              "      <td>1</td>\n",
              "      <td>1</td>\n",
              "      <td>1</td>\n",
              "      <td>1</td>\n",
              "      <td>1</td>\n",
              "      <td>1</td>\n",
              "      <td>0</td>\n",
              "      <td>1</td>\n",
              "      <td>0</td>\n",
              "      <td>1</td>\n",
              "      <td>...</td>\n",
              "      <td>0</td>\n",
              "      <td>0</td>\n",
              "      <td>1</td>\n",
              "      <td>0</td>\n",
              "      <td>0</td>\n",
              "      <td>1</td>\n",
              "      <td>0</td>\n",
              "      <td>1</td>\n",
              "      <td>1</td>\n",
              "      <td>B</td>\n",
              "    </tr>\n",
              "    <tr>\n",
              "      <th>5319</th>\n",
              "      <td>1</td>\n",
              "      <td>1</td>\n",
              "      <td>1</td>\n",
              "      <td>1</td>\n",
              "      <td>1</td>\n",
              "      <td>1</td>\n",
              "      <td>0</td>\n",
              "      <td>0</td>\n",
              "      <td>0</td>\n",
              "      <td>0</td>\n",
              "      <td>...</td>\n",
              "      <td>0</td>\n",
              "      <td>0</td>\n",
              "      <td>1</td>\n",
              "      <td>0</td>\n",
              "      <td>1</td>\n",
              "      <td>1</td>\n",
              "      <td>0</td>\n",
              "      <td>1</td>\n",
              "      <td>1</td>\n",
              "      <td>B</td>\n",
              "    </tr>\n",
              "    <tr>\n",
              "      <th>5320</th>\n",
              "      <td>0</td>\n",
              "      <td>0</td>\n",
              "      <td>0</td>\n",
              "      <td>0</td>\n",
              "      <td>0</td>\n",
              "      <td>0</td>\n",
              "      <td>0</td>\n",
              "      <td>0</td>\n",
              "      <td>0</td>\n",
              "      <td>0</td>\n",
              "      <td>...</td>\n",
              "      <td>0</td>\n",
              "      <td>0</td>\n",
              "      <td>1</td>\n",
              "      <td>0</td>\n",
              "      <td>0</td>\n",
              "      <td>1</td>\n",
              "      <td>0</td>\n",
              "      <td>0</td>\n",
              "      <td>1</td>\n",
              "      <td>B</td>\n",
              "    </tr>\n",
              "  </tbody>\n",
              "</table>\n",
              "<p>5321 rows × 51 columns</p>\n",
              "</div>"
            ],
            "text/plain": [
              "      transact  onServiceConnected  bindService  attachInterface  \\\n",
              "0            0                   0            0                0   \n",
              "1            0                   0            0                0   \n",
              "2            0                   0            0                0   \n",
              "3            0                   0            0                0   \n",
              "4            0                   0            0                0   \n",
              "...        ...                 ...          ...              ...   \n",
              "5316         1                   0            0                1   \n",
              "5317         1                   1            1                1   \n",
              "5318         1                   1            1                1   \n",
              "5319         1                   1            1                1   \n",
              "5320         0                   0            0                0   \n",
              "\n",
              "      ServiceConnection  android.os.Binder  SEND_SMS  \\\n",
              "0                     0                  0         1   \n",
              "1                     0                  0         1   \n",
              "2                     0                  0         1   \n",
              "3                     0                  0         0   \n",
              "4                     0                  0         0   \n",
              "...                 ...                ...       ...   \n",
              "5316                  0                  1         1   \n",
              "5317                  1                  1         0   \n",
              "5318                  1                  1         0   \n",
              "5319                  1                  1         0   \n",
              "5320                  0                  0         0   \n",
              "\n",
              "      Ljava.lang.Class.getCanonicalName  Ljava.lang.Class.getMethods  \\\n",
              "0                                     0                            0   \n",
              "1                                     0                            0   \n",
              "2                                     0                            0   \n",
              "3                                     0                            0   \n",
              "4                                     0                            0   \n",
              "...                                 ...                          ...   \n",
              "5316                                  0                            0   \n",
              "5317                                  1                            0   \n",
              "5318                                  1                            0   \n",
              "5319                                  0                            0   \n",
              "5320                                  0                            0   \n",
              "\n",
              "      Ljava.lang.Class.cast  ...  WRITE_HISTORY_BOOKMARKS  \\\n",
              "0                         0  ...                        0   \n",
              "1                         0  ...                        0   \n",
              "2                         0  ...                        0   \n",
              "3                         1  ...                        0   \n",
              "4                         0  ...                        1   \n",
              "...                     ...  ...                      ...   \n",
              "5316                      0  ...                        1   \n",
              "5317                      0  ...                        0   \n",
              "5318                      1  ...                        0   \n",
              "5319                      0  ...                        0   \n",
              "5320                      0  ...                        0   \n",
              "\n",
              "      TelephonyManager.getSubscriberId  mount  INSTALL_PACKAGES  \\\n",
              "0                                    0      0                 0   \n",
              "1                                    0      0                 0   \n",
              "2                                    0      0                 0   \n",
              "3                                    1      1                 1   \n",
              "4                                    0      1                 0   \n",
              "...                                ...    ...               ...   \n",
              "5316                                 1      1                 0   \n",
              "5317                                 1      1                 0   \n",
              "5318                                 0      1                 0   \n",
              "5319                                 0      1                 0   \n",
              "5320                                 0      1                 0   \n",
              "\n",
              "      Runtime.getRuntime  Ljava.lang.Object.getClass  READ_HISTORY_BOOKMARKS  \\\n",
              "0                      0                           0                       0   \n",
              "1                      0                           0                       0   \n",
              "2                      0                           1                       0   \n",
              "3                      1                           1                       0   \n",
              "4                      0                           1                       1   \n",
              "...                  ...                         ...                     ...   \n",
              "5316                   1                           1                       0   \n",
              "5317                   1                           1                       0   \n",
              "5318                   0                           1                       0   \n",
              "5319                   1                           1                       0   \n",
              "5320                   0                           1                       0   \n",
              "\n",
              "      Ljava.lang.Class.forName  Binder  class  \n",
              "0                            0       0      S  \n",
              "1                            0       0      S  \n",
              "2                            1       0      S  \n",
              "3                            1       1      S  \n",
              "4                            1       0      S  \n",
              "...                        ...     ...    ...  \n",
              "5316                         1       1      B  \n",
              "5317                         1       1      B  \n",
              "5318                         1       1      B  \n",
              "5319                         1       1      B  \n",
              "5320                         0       1      B  \n",
              "\n",
              "[5321 rows x 51 columns]"
            ]
          },
          "execution_count": 29,
          "metadata": {},
          "output_type": "execute_result"
        }
      ],
      "source": [
        "data.index = range(data.shape[0])  # reset index\n",
        "data"
      ]
    },
    {
      "cell_type": "markdown",
      "metadata": {
        "id": "BpEoAJze_5bY"
      },
      "source": [
        "## Imbalanced Data"
      ]
    },
    {
      "cell_type": "code",
      "execution_count": 28,
      "metadata": {
        "colab": {
          "base_uri": "https://localhost:8080/",
          "height": 449
        },
        "id": "j0WCX6IK_5bY",
        "outputId": "9580d66b-3913-4e72-85e0-3fa45ea3371d"
      },
      "outputs": [
        {
          "data": {
            "image/png": "[encoded data removed]",
            "text/plain": [
              "<Figure size 640x480 with 1 Axes>"
            ]
          },
          "metadata": {},
          "output_type": "display_data"
        }
      ],
      "source": [
        "plt.figure()\n",
        "colors={'B': 'blue', 'S': 'red'}\n",
        "ax = sns.countplot(data=data, x=\"class\", palette=colors)\n",
        "for container in ax.containers:\n",
        "    ax.bar_label(container)\n",
        "\n",
        "plt.show()"
      ]
    },
    {
      "cell_type": "markdown",
      "metadata": {
        "id": "zt4oJxr__5bY"
      },
      "source": [
        "## Encode characters to value"
      ]
    },
    {
      "cell_type": "code",
      "execution_count": 29,
      "metadata": {
        "id": "k5hJ6kFy_5bZ"
      },
      "outputs": [],
      "source": [
        "data[\"class\"] = data[\"class\"].map({\"B\": 0, \"S\": 1})"
      ]
    },
    {
      "cell_type": "code",
      "execution_count": 30,
      "metadata": {
        "colab": {
          "base_uri": "https://localhost:8080/",
          "height": 412
        },
        "id": "ECAixoS2_5bZ",
        "outputId": "a273486c-1590-4df7-9c18-c12022c66ae7"
      },
      "outputs": [
        {
          "data": {
            "text/html": [
              "<div>\n",
              "<style scoped>\n",
              "    .dataframe tbody tr th:only-of-type {\n",
              "        vertical-align: middle;\n",
              "    }\n",
              "\n",
              "    .dataframe tbody tr th {\n",
              "        vertical-align: top;\n",
              "    }\n",
              "\n",
              "    .dataframe thead th {\n",
              "        text-align: right;\n",
              "    }\n",
              "</style>\n",
              "<table border=\"1\" class=\"dataframe\">\n",
              "  <thead>\n",
              "    <tr style=\"text-align: right;\">\n",
              "      <th></th>\n",
              "      <th>transact</th>\n",
              "      <th>onServiceConnected</th>\n",
              "      <th>bindService</th>\n",
              "      <th>attachInterface</th>\n",
              "      <th>ServiceConnection</th>\n",
              "      <th>android.os.Binder</th>\n",
              "      <th>SEND_SMS</th>\n",
              "      <th>Ljava.lang.Class.getCanonicalName</th>\n",
              "      <th>Ljava.lang.Class.getMethods</th>\n",
              "      <th>Ljava.lang.Class.cast</th>\n",
              "      <th>...</th>\n",
              "      <th>WRITE_HISTORY_BOOKMARKS</th>\n",
              "      <th>TelephonyManager.getSubscriberId</th>\n",
              "      <th>mount</th>\n",
              "      <th>INSTALL_PACKAGES</th>\n",
              "      <th>Runtime.getRuntime</th>\n",
              "      <th>Ljava.lang.Object.getClass</th>\n",
              "      <th>READ_HISTORY_BOOKMARKS</th>\n",
              "      <th>Ljava.lang.Class.forName</th>\n",
              "      <th>Binder</th>\n",
              "      <th>class</th>\n",
              "    </tr>\n",
              "  </thead>\n",
              "  <tbody>\n",
              "    <tr>\n",
              "      <th>0</th>\n",
              "      <td>0</td>\n",
              "      <td>0</td>\n",
              "      <td>0</td>\n",
              "      <td>0</td>\n",
              "      <td>0</td>\n",
              "      <td>0</td>\n",
              "      <td>1</td>\n",
              "      <td>0</td>\n",
              "      <td>0</td>\n",
              "      <td>0</td>\n",
              "      <td>...</td>\n",
              "      <td>0</td>\n",
              "      <td>0</td>\n",
              "      <td>0</td>\n",
              "      <td>0</td>\n",
              "      <td>0</td>\n",
              "      <td>0</td>\n",
              "      <td>0</td>\n",
              "      <td>0</td>\n",
              "      <td>0</td>\n",
              "      <td>1</td>\n",
              "    </tr>\n",
              "    <tr>\n",
              "      <th>1</th>\n",
              "      <td>0</td>\n",
              "      <td>0</td>\n",
              "      <td>0</td>\n",
              "      <td>0</td>\n",
              "      <td>0</td>\n",
              "      <td>0</td>\n",
              "      <td>1</td>\n",
              "      <td>0</td>\n",
              "      <td>0</td>\n",
              "      <td>0</td>\n",
              "      <td>...</td>\n",
              "      <td>0</td>\n",
              "      <td>0</td>\n",
              "      <td>0</td>\n",
              "      <td>0</td>\n",
              "      <td>0</td>\n",
              "      <td>0</td>\n",
              "      <td>0</td>\n",
              "      <td>0</td>\n",
              "      <td>0</td>\n",
              "      <td>1</td>\n",
              "    </tr>\n",
              "    <tr>\n",
              "      <th>2</th>\n",
              "      <td>0</td>\n",
              "      <td>0</td>\n",
              "      <td>0</td>\n",
              "      <td>0</td>\n",
              "      <td>0</td>\n",
              "      <td>0</td>\n",
              "      <td>1</td>\n",
              "      <td>0</td>\n",
              "      <td>0</td>\n",
              "      <td>0</td>\n",
              "      <td>...</td>\n",
              "      <td>0</td>\n",
              "      <td>0</td>\n",
              "      <td>0</td>\n",
              "      <td>0</td>\n",
              "      <td>0</td>\n",
              "      <td>1</td>\n",
              "      <td>0</td>\n",
              "      <td>1</td>\n",
              "      <td>0</td>\n",
              "      <td>1</td>\n",
              "    </tr>\n",
              "    <tr>\n",
              "      <th>3</th>\n",
              "      <td>0</td>\n",
              "      <td>0</td>\n",
              "      <td>0</td>\n",
              "      <td>0</td>\n",
              "      <td>0</td>\n",
              "      <td>0</td>\n",
              "      <td>0</td>\n",
              "      <td>0</td>\n",
              "      <td>0</td>\n",
              "      <td>1</td>\n",
              "      <td>...</td>\n",
              "      <td>0</td>\n",
              "      <td>1</td>\n",
              "      <td>1</td>\n",
              "      <td>1</td>\n",
              "      <td>1</td>\n",
              "      <td>1</td>\n",
              "      <td>0</td>\n",
              "      <td>1</td>\n",
              "      <td>1</td>\n",
              "      <td>1</td>\n",
              "    </tr>\n",
              "    <tr>\n",
              "      <th>4</th>\n",
              "      <td>0</td>\n",
              "      <td>0</td>\n",
              "      <td>0</td>\n",
              "      <td>0</td>\n",
              "      <td>0</td>\n",
              "      <td>0</td>\n",
              "      <td>0</td>\n",
              "      <td>0</td>\n",
              "      <td>0</td>\n",
              "      <td>0</td>\n",
              "      <td>...</td>\n",
              "      <td>1</td>\n",
              "      <td>0</td>\n",
              "      <td>1</td>\n",
              "      <td>0</td>\n",
              "      <td>0</td>\n",
              "      <td>1</td>\n",
              "      <td>1</td>\n",
              "      <td>1</td>\n",
              "      <td>0</td>\n",
              "      <td>1</td>\n",
              "    </tr>\n",
              "    <tr>\n",
              "      <th>5</th>\n",
              "      <td>0</td>\n",
              "      <td>0</td>\n",
              "      <td>0</td>\n",
              "      <td>0</td>\n",
              "      <td>0</td>\n",
              "      <td>0</td>\n",
              "      <td>0</td>\n",
              "      <td>0</td>\n",
              "      <td>0</td>\n",
              "      <td>0</td>\n",
              "      <td>...</td>\n",
              "      <td>0</td>\n",
              "      <td>1</td>\n",
              "      <td>1</td>\n",
              "      <td>0</td>\n",
              "      <td>1</td>\n",
              "      <td>1</td>\n",
              "      <td>0</td>\n",
              "      <td>0</td>\n",
              "      <td>1</td>\n",
              "      <td>1</td>\n",
              "    </tr>\n",
              "    <tr>\n",
              "      <th>6</th>\n",
              "      <td>0</td>\n",
              "      <td>1</td>\n",
              "      <td>1</td>\n",
              "      <td>0</td>\n",
              "      <td>1</td>\n",
              "      <td>1</td>\n",
              "      <td>0</td>\n",
              "      <td>0</td>\n",
              "      <td>0</td>\n",
              "      <td>0</td>\n",
              "      <td>...</td>\n",
              "      <td>0</td>\n",
              "      <td>1</td>\n",
              "      <td>1</td>\n",
              "      <td>0</td>\n",
              "      <td>1</td>\n",
              "      <td>1</td>\n",
              "      <td>0</td>\n",
              "      <td>1</td>\n",
              "      <td>1</td>\n",
              "      <td>1</td>\n",
              "    </tr>\n",
              "    <tr>\n",
              "      <th>7</th>\n",
              "      <td>0</td>\n",
              "      <td>0</td>\n",
              "      <td>0</td>\n",
              "      <td>0</td>\n",
              "      <td>0</td>\n",
              "      <td>0</td>\n",
              "      <td>1</td>\n",
              "      <td>0</td>\n",
              "      <td>0</td>\n",
              "      <td>0</td>\n",
              "      <td>...</td>\n",
              "      <td>0</td>\n",
              "      <td>0</td>\n",
              "      <td>0</td>\n",
              "      <td>0</td>\n",
              "      <td>0</td>\n",
              "      <td>0</td>\n",
              "      <td>0</td>\n",
              "      <td>0</td>\n",
              "      <td>1</td>\n",
              "      <td>1</td>\n",
              "    </tr>\n",
              "    <tr>\n",
              "      <th>8</th>\n",
              "      <td>0</td>\n",
              "      <td>0</td>\n",
              "      <td>0</td>\n",
              "      <td>0</td>\n",
              "      <td>0</td>\n",
              "      <td>0</td>\n",
              "      <td>1</td>\n",
              "      <td>0</td>\n",
              "      <td>0</td>\n",
              "      <td>0</td>\n",
              "      <td>...</td>\n",
              "      <td>0</td>\n",
              "      <td>1</td>\n",
              "      <td>1</td>\n",
              "      <td>0</td>\n",
              "      <td>0</td>\n",
              "      <td>1</td>\n",
              "      <td>0</td>\n",
              "      <td>0</td>\n",
              "      <td>0</td>\n",
              "      <td>1</td>\n",
              "    </tr>\n",
              "    <tr>\n",
              "      <th>9</th>\n",
              "      <td>1</td>\n",
              "      <td>0</td>\n",
              "      <td>0</td>\n",
              "      <td>1</td>\n",
              "      <td>0</td>\n",
              "      <td>1</td>\n",
              "      <td>1</td>\n",
              "      <td>1</td>\n",
              "      <td>0</td>\n",
              "      <td>0</td>\n",
              "      <td>...</td>\n",
              "      <td>0</td>\n",
              "      <td>0</td>\n",
              "      <td>1</td>\n",
              "      <td>0</td>\n",
              "      <td>1</td>\n",
              "      <td>1</td>\n",
              "      <td>0</td>\n",
              "      <td>1</td>\n",
              "      <td>1</td>\n",
              "      <td>1</td>\n",
              "    </tr>\n",
              "  </tbody>\n",
              "</table>\n",
              "<p>10 rows × 51 columns</p>\n",
              "</div>"
            ],
            "text/plain": [
              "   transact  onServiceConnected  bindService  attachInterface  \\\n",
              "0         0                   0            0                0   \n",
              "1         0                   0            0                0   \n",
              "2         0                   0            0                0   \n",
              "3         0                   0            0                0   \n",
              "4         0                   0            0                0   \n",
              "5         0                   0            0                0   \n",
              "6         0                   1            1                0   \n",
              "7         0                   0            0                0   \n",
              "8         0                   0            0                0   \n",
              "9         1                   0            0                1   \n",
              "\n",
              "   ServiceConnection  android.os.Binder  SEND_SMS  \\\n",
              "0                  0                  0         1   \n",
              "1                  0                  0         1   \n",
              "2                  0                  0         1   \n",
              "3                  0                  0         0   \n",
              "4                  0                  0         0   \n",
              "5                  0                  0         0   \n",
              "6                  1                  1         0   \n",
              "7                  0                  0         1   \n",
              "8                  0                  0         1   \n",
              "9                  0                  1         1   \n",
              "\n",
              "   Ljava.lang.Class.getCanonicalName  Ljava.lang.Class.getMethods  \\\n",
              "0                                  0                            0   \n",
              "1                                  0                            0   \n",
              "2                                  0                            0   \n",
              "3                                  0                            0   \n",
              "4                                  0                            0   \n",
              "5                                  0                            0   \n",
              "6                                  0                            0   \n",
              "7                                  0                            0   \n",
              "8                                  0                            0   \n",
              "9                                  1                            0   \n",
              "\n",
              "   Ljava.lang.Class.cast  ...  WRITE_HISTORY_BOOKMARKS  \\\n",
              "0                      0  ...                        0   \n",
              "1                      0  ...                        0   \n",
              "2                      0  ...                        0   \n",
              "3                      1  ...                        0   \n",
              "4                      0  ...                        1   \n",
              "5                      0  ...                        0   \n",
              "6                      0  ...                        0   \n",
              "7                      0  ...                        0   \n",
              "8                      0  ...                        0   \n",
              "9                      0  ...                        0   \n",
              "\n",
              "   TelephonyManager.getSubscriberId  mount  INSTALL_PACKAGES  \\\n",
              "0                                 0      0                 0   \n",
              "1                                 0      0                 0   \n",
              "2                                 0      0                 0   \n",
              "3                                 1      1                 1   \n",
              "4                                 0      1                 0   \n",
              "5                                 1      1                 0   \n",
              "6                                 1      1                 0   \n",
              "7                                 0      0                 0   \n",
              "8                                 1      1                 0   \n",
              "9                                 0      1                 0   \n",
              "\n",
              "   Runtime.getRuntime  Ljava.lang.Object.getClass  READ_HISTORY_BOOKMARKS  \\\n",
              "0                   0                           0                       0   \n",
              "1                   0                           0                       0   \n",
              "2                   0                           1                       0   \n",
              "3                   1                           1                       0   \n",
              "4                   0                           1                       1   \n",
              "5                   1                           1                       0   \n",
              "6                   1                           1                       0   \n",
              "7                   0                           0                       0   \n",
              "8                   0                           1                       0   \n",
              "9                   1                           1                       0   \n",
              "\n",
              "   Ljava.lang.Class.forName  Binder  class  \n",
              "0                         0       0      1  \n",
              "1                         0       0      1  \n",
              "2                         1       0      1  \n",
              "3                         1       1      1  \n",
              "4                         1       0      1  \n",
              "5                         0       1      1  \n",
              "6                         1       1      1  \n",
              "7                         0       1      1  \n",
              "8                         0       0      1  \n",
              "9                         1       1      1  \n",
              "\n",
              "[10 rows x 51 columns]"
            ]
          },
          "execution_count": 30,
          "metadata": {},
          "output_type": "execute_result"
        }
      ],
      "source": [
        "data.head(10)"
      ]
    },
    {
      "cell_type": "code",
      "execution_count": 31,
      "metadata": {
        "id": "mjqHnB47_5bZ"
      },
      "outputs": [],
      "source": [
        "X = data.drop(\"class\", axis=1)\n",
        "y = data[\"class\"]"
      ]
    },
    {
      "cell_type": "code",
      "execution_count": 32,
      "metadata": {
        "id": "CvDeuSxW_5bZ"
      },
      "outputs": [],
      "source": [
        "X_train, X_test, y_train, y_test = train_test_split(X, y, train_size=0.8, random_state=42)"
      ]
    },
    {
      "cell_type": "code",
      "execution_count": 33,
      "metadata": {},
      "outputs": [
        {
          "data": {
            "text/plain": [
              "((4256, 50), (1065, 50), (4256,), (1065,))"
            ]
          },
          "execution_count": 33,
          "metadata": {},
          "output_type": "execute_result"
        }
      ],
      "source": [
        "X_train.shape, X_test.shape, y_train.shape, y_test.shape"
      ]
    },
    {
      "cell_type": "code",
      "execution_count": 34,
      "metadata": {
        "colab": {
          "base_uri": "https://localhost:8080/",
          "height": 449
        },
        "id": "E35iEYj9_5bZ",
        "outputId": "27ef7630-6bb7-46c8-d8ee-e23d75bb0757"
      },
      "outputs": [
        {
          "data": {
            "image/png": "[encoded data removed]",
            "text/plain": [
              "<Figure size 640x480 with 1 Axes>"
            ]
          },
          "metadata": {},
          "output_type": "display_data"
        }
      ],
      "source": [
        "plt.figure()\n",
        "colors={'0': 'blue', '1': 'red'}\n",
        "ax = sns.countplot(x=y_train, palette=colors)\n",
        "\n",
        "for container in ax.containers:\n",
        "    ax.bar_label(container)\n",
        "\n",
        "plt.show()"
      ]
    },
    {
      "cell_type": "markdown",
      "metadata": {
        "id": "v389HMub_5ba"
      },
      "source": [
        "# Creating Multiple Models"
      ]
    },
    {
      "cell_type": "markdown",
      "metadata": {
        "id": "mghE0f0V_5ba"
      },
      "source": [
        "## Logistic Regression Model"
      ]
    },
    {
      "cell_type": "markdown",
      "metadata": {
        "id": "u-3dz2eo_5ba"
      },
      "source": [
        "### Train the model"
      ]
    },
    {
      "cell_type": "code",
      "execution_count": 35,
      "metadata": {
        "colab": {
          "base_uri": "https://localhost:8080/"
        },
        "id": "9astBj_K_5ba",
        "outputId": "2c29ad63-99e7-4b5d-ffbe-fc3b42e01989"
      },
      "outputs": [
        {
          "name": "stdout",
          "output_type": "stream",
          "text": [
            "Logistic Regression Train Time: 0.0730140209197998\n"
          ]
        }
      ],
      "source": [
        "logreg = LogisticRegression(class_weight='balanced')\n",
        "start = time.time()\n",
        "logreg.fit(X_train, y_train)\n",
        "end = time.time()\n",
        "logreg_time = end - start\n",
        "print(\"Logistic Regression Train Time:\", logreg_time)"
      ]
    },
    {
      "cell_type": "markdown",
      "metadata": {
        "id": "GUET-EoA_5ba"
      },
      "source": [
        "### Test the model and check the accuracy"
      ]
    },
    {
      "cell_type": "code",
      "execution_count": 36,
      "metadata": {
        "colab": {
          "base_uri": "https://localhost:8080/"
        },
        "id": "9sdOtaPe_5ba",
        "outputId": "9f5e2a5b-0910-4beb-f570-51b1a2094317"
      },
      "outputs": [
        {
          "name": "stdout",
          "output_type": "stream",
          "text": [
            "Logistic Regression Test Score: 0.9070422535211268\n"
          ]
        }
      ],
      "source": [
        "logreg_pred_test = logreg.predict(X_test)\n",
        "\n",
        "logreg_test_score = accuracy_score(logreg_pred_test, y_test)\n",
        "print(\"Logistic Regression Test Score:\", logreg_test_score)"
      ]
    },
    {
      "cell_type": "markdown",
      "metadata": {
        "id": "2CCCEFJH_5bf"
      },
      "source": [
        "### Check other forms of performance measurement methods"
      ]
    },
    {
      "cell_type": "code",
      "execution_count": 37,
      "metadata": {
        "colab": {
          "base_uri": "https://localhost:8080/"
        },
        "id": "4EXlZCc-_5bf",
        "outputId": "940930e9-801a-41ec-b57c-3f4c2ec3d98d"
      },
      "outputs": [
        {
          "name": "stdout",
          "output_type": "stream",
          "text": [
            "Logistic Regression Precision Score: 0.7678018575851393\n",
            "Logistic Regression Recall Score: 0.9117647058823529\n",
            "Logistic Regression F1 Score: 0.8336134453781513\n",
            "Logistic Regression Accuracy Score: 0.9070422535211268\n"
          ]
        }
      ],
      "source": [
        "logreg_precision_score = precision_score(y_test, logreg_pred_test)\n",
        "logreg_f1_score = f1_score(y_test, logreg_pred_test)\n",
        "logreg_recall_score = recall_score(y_test, logreg_pred_test)\n",
        "logreg_accuracy_score = accuracy_score(y_test, logreg_pred_test)\n",
        "\n",
        "print(\"Logistic Regression Precision Score:\", logreg_precision_score)\n",
        "print(\"Logistic Regression Recall Score:\", logreg_recall_score)\n",
        "print(\"Logistic Regression F1 Score:\", logreg_f1_score)\n",
        "print(\"Logistic Regression Accuracy Score:\", logreg_accuracy_score)"
      ]
    },
    {
      "cell_type": "code",
      "execution_count": 38,
      "metadata": {
        "colab": {
          "base_uri": "https://localhost:8080/"
        },
        "id": "m0eLhVcP_5bf",
        "outputId": "d67c7bd6-6012-41eb-d6b7-edf1888707ca"
      },
      "outputs": [
        {
          "name": "stdout",
          "output_type": "stream",
          "text": [
            "              precision    recall  f1-score   support\n",
            "\n",
            "           0       0.97      0.91      0.94       793\n",
            "           1       0.77      0.91      0.83       272\n",
            "\n",
            "    accuracy                           0.91      1065\n",
            "   macro avg       0.87      0.91      0.88      1065\n",
            "weighted avg       0.92      0.91      0.91      1065\n",
            "\n"
          ]
        }
      ],
      "source": [
        "print(classification_report(y_test, logreg_pred_test))"
      ]
    },
    {
      "cell_type": "markdown",
      "metadata": {
        "id": "B_voy-ki_5bf"
      },
      "source": [
        "### Check the confusion matrix"
      ]
    },
    {
      "cell_type": "code",
      "execution_count": 39,
      "metadata": {
        "colab": {
          "base_uri": "https://localhost:8080/",
          "height": 488
        },
        "id": "jmlpqty0_5bf",
        "outputId": "d70471e0-8167-4670-fa48-3aac475a7e5c"
      },
      "outputs": [
        {
          "data": {
            "image/png": "[encoded data removed]",
            "text/plain": [
              "<Figure size 640x480 with 2 Axes>"
            ]
          },
          "metadata": {},
          "output_type": "display_data"
        }
      ],
      "source": [
        "logreg_cm = confusion_matrix(y_test, logreg_pred_test)\n",
        "fig, ax = plot_confusion_matrix(conf_mat=logreg_cm, show_absolute=True, show_normed=True, colorbar=True, class_names=[\"benign\", \"malware\"])\n",
        "plt.show()"
      ]
    },
    {
      "cell_type": "markdown",
      "metadata": {
        "id": "A2se24WX_5bf"
      },
      "source": [
        "### Save the model"
      ]
    },
    {
      "cell_type": "code",
      "execution_count": 41,
      "metadata": {
        "colab": {
          "base_uri": "https://localhost:8080/"
        },
        "id": "m4XlWQ84_5bg",
        "outputId": "69b4a802-8ff7-47cb-e657-a986a4395ad2"
      },
      "outputs": [
        {
          "data": {
            "text/plain": [
              "['LogisticRegressionModel.joblib']"
            ]
          },
          "execution_count": 41,
          "metadata": {},
          "output_type": "execute_result"
        }
      ],
      "source": [
        "dump(logreg, 'LogisticRegressionModel.joblib')"
      ]
    },
    {
      "cell_type": "markdown",
      "metadata": {
        "id": "-jqsokuk_5bg"
      },
      "source": [
        "## Random Forest Model"
      ]
    },
    {
      "cell_type": "markdown",
      "metadata": {
        "id": "nPsKGUbb_5bg"
      },
      "source": [
        "### Train the model"
      ]
    },
    {
      "cell_type": "code",
      "execution_count": 42,
      "metadata": {
        "colab": {
          "base_uri": "https://localhost:8080/"
        },
        "id": "bqfbjaWg_5bg",
        "outputId": "cc895fa7-dddd-4721-814e-b6b237d119a1"
      },
      "outputs": [
        {
          "name": "stdout",
          "output_type": "stream",
          "text": [
            "Random Forest Train Time: 0.5390048027038574\n"
          ]
        }
      ],
      "source": [
        "rf = RandomForestClassifier(class_weight='balanced')\n",
        "start = time.time()\n",
        "rf.fit(X_train, y_train)\n",
        "end = time.time()\n",
        "rf_time = end - start\n",
        "# X_train.columns\n",
        "print(\"Random Forest Train Time:\", rf_time)"
      ]
    },
    {
      "cell_type": "markdown",
      "metadata": {
        "id": "I1xQROKw_5bg"
      },
      "source": [
        "### Test the model and check the accuracy"
      ]
    },
    {
      "cell_type": "code",
      "execution_count": 43,
      "metadata": {
        "colab": {
          "base_uri": "https://localhost:8080/"
        },
        "id": "WOAoMLaL_5bg",
        "outputId": "dee9e643-a738-41b1-db6c-9b3f3589815e"
      },
      "outputs": [
        {
          "name": "stdout",
          "output_type": "stream",
          "text": [
            "Random Forest Test Score: 0.9427230046948357\n"
          ]
        }
      ],
      "source": [
        "rf_pred_test = rf.predict(X_test)\n",
        "\n",
        "rf_test_score = accuracy_score(rf_pred_test, y_test)\n",
        "print(\"Random Forest Test Score:\", rf_test_score)"
      ]
    },
    {
      "cell_type": "markdown",
      "metadata": {
        "id": "TZ3Fz5vE_5bg"
      },
      "source": [
        "### Check other forms of performance measurement methods"
      ]
    },
    {
      "cell_type": "code",
      "execution_count": 44,
      "metadata": {
        "colab": {
          "base_uri": "https://localhost:8080/"
        },
        "id": "8BrBZZSH_5bg",
        "outputId": "1219f820-a23e-40bf-f042-6cdeee4d7d31"
      },
      "outputs": [
        {
          "name": "stdout",
          "output_type": "stream",
          "text": [
            "Random Forest Precision Score: 0.9236947791164659\n",
            "Random Forest Recall Score: 0.8455882352941176\n",
            "Random Forest F1 Score: 0.8829174664107485\n",
            "Random Forest Accuracy Score: 0.9427230046948357\n"
          ]
        }
      ],
      "source": [
        "rf_precision_score = precision_score(y_test, rf_pred_test)\n",
        "rf_f1_score = f1_score(y_test, rf_pred_test)\n",
        "rf_recall_score = recall_score(y_test, rf_pred_test)\n",
        "rf_accuracy_score = accuracy_score(y_test, rf_pred_test)\n",
        "\n",
        "print(\"Random Forest Precision Score:\", rf_precision_score)\n",
        "print(\"Random Forest Recall Score:\", rf_recall_score)\n",
        "print(\"Random Forest F1 Score:\", rf_f1_score)\n",
        "print(\"Random Forest Accuracy Score:\", rf_accuracy_score)"
      ]
    },
    {
      "cell_type": "code",
      "execution_count": 45,
      "metadata": {
        "colab": {
          "base_uri": "https://localhost:8080/"
        },
        "id": "4uTaem1q_5bh",
        "outputId": "853edb9f-4d19-41be-8ca3-1f2111e9df37"
      },
      "outputs": [
        {
          "name": "stdout",
          "output_type": "stream",
          "text": [
            "              precision    recall  f1-score   support\n",
            "\n",
            "           0       0.95      0.98      0.96       793\n",
            "           1       0.92      0.85      0.88       272\n",
            "\n",
            "    accuracy                           0.94      1065\n",
            "   macro avg       0.94      0.91      0.92      1065\n",
            "weighted avg       0.94      0.94      0.94      1065\n",
            "\n"
          ]
        }
      ],
      "source": [
        "print(classification_report(y_test, rf_pred_test))"
      ]
    },
    {
      "cell_type": "markdown",
      "metadata": {
        "id": "m9z9KvZG_5bh"
      },
      "source": [
        "### Check the confusion matrix"
      ]
    },
    {
      "cell_type": "code",
      "execution_count": 46,
      "metadata": {
        "colab": {
          "base_uri": "https://localhost:8080/",
          "height": 488
        },
        "id": "MUA216ye_5bh",
        "outputId": "3b23ec22-ca19-4d5d-b5de-11a87465003c"
      },
      "outputs": [
        {
          "data": {
            "image/png": "[encoded data removed]",
            "text/plain": [
              "<Figure size 640x480 with 2 Axes>"
            ]
          },
          "metadata": {},
          "output_type": "display_data"
        }
      ],
      "source": [
        "rf_cm = confusion_matrix(y_test, rf_pred_test)\n",
        "fig, ax = plot_confusion_matrix(conf_mat=rf_cm, show_absolute=True, show_normed=True, colorbar=True, class_names=[\"benign\", \"malware\"])\n",
        "plt.show()"
      ]
    },
    {
      "cell_type": "markdown",
      "metadata": {
        "id": "kT_HANqk_5bh"
      },
      "source": [
        "### Save the model"
      ]
    },
    {
      "cell_type": "code",
      "execution_count": 47,
      "metadata": {
        "colab": {
          "base_uri": "https://localhost:8080/"
        },
        "id": "Vd57n53-_5bh",
        "outputId": "a010b93f-0da5-4023-c0e9-22514044c2d5"
      },
      "outputs": [
        {
          "data": {
            "text/plain": [
              "['RandomForestModel.joblib']"
            ]
          },
          "execution_count": 47,
          "metadata": {},
          "output_type": "execute_result"
        }
      ],
      "source": [
        "dump(rf, 'RandomForestModel.joblib')"
      ]
    },
    {
      "cell_type": "markdown",
      "metadata": {
        "id": "_ZsHixcN_5bi"
      },
      "source": [
        "## Decision Tree Model"
      ]
    },
    {
      "cell_type": "markdown",
      "metadata": {
        "id": "2KA0QBUL_5bi"
      },
      "source": [
        "### Train the model"
      ]
    },
    {
      "cell_type": "code",
      "execution_count": 48,
      "metadata": {
        "colab": {
          "base_uri": "https://localhost:8080/"
        },
        "id": "44PUx3eQ_5bi",
        "outputId": "7960e1e2-2424-4647-d87d-008477ae7d3a"
      },
      "outputs": [
        {
          "name": "stdout",
          "output_type": "stream",
          "text": [
            "Decision Tree Train Time: 0.029018640518188477\n"
          ]
        }
      ],
      "source": [
        "dt = DecisionTreeClassifier(class_weight='balanced')\n",
        "start = time.time()\n",
        "dt.fit(X_train, y_train)\n",
        "end = time.time()\n",
        "dt_time = end - start\n",
        "print(\"Decision Tree Train Time:\", dt_time)"
      ]
    },
    {
      "cell_type": "markdown",
      "metadata": {
        "id": "EaPMmo4B_5bi"
      },
      "source": [
        "### Test the model and check the accuracy"
      ]
    },
    {
      "cell_type": "code",
      "execution_count": 49,
      "metadata": {
        "colab": {
          "base_uri": "https://localhost:8080/"
        },
        "id": "pr95Qztr_5bi",
        "outputId": "d172bfb2-155e-456e-c8b6-51b040fa64a3"
      },
      "outputs": [
        {
          "name": "stdout",
          "output_type": "stream",
          "text": [
            "Decision Tree Test Score: 0.9004694835680751\n"
          ]
        }
      ],
      "source": [
        "dt_pred_test = dt.predict(X_test)\n",
        "\n",
        "dt_test_score = accuracy_score(dt_pred_test, y_test)\n",
        "print(\"Decision Tree Test Score:\", dt_test_score)"
      ]
    },
    {
      "cell_type": "markdown",
      "metadata": {
        "id": "Y-bO1aSi_5bi"
      },
      "source": [
        "### Check other forms of performance measurement methods"
      ]
    },
    {
      "cell_type": "code",
      "execution_count": 50,
      "metadata": {
        "colab": {
          "base_uri": "https://localhost:8080/"
        },
        "id": "NiKE0Soz_5bi",
        "outputId": "043c2376-21a1-4921-bd97-4276b9469007"
      },
      "outputs": [
        {
          "name": "stdout",
          "output_type": "stream",
          "text": [
            "Decision Tree Precision Score: 0.8120300751879699\n",
            "Decision Tree Recall Score: 0.7941176470588235\n",
            "Decision Tree F1 Score: 0.8029739776951672\n",
            "Decision Tree Accuracy Score: 0.9004694835680751\n"
          ]
        }
      ],
      "source": [
        "dt_precision_score = precision_score(y_test, dt_pred_test)\n",
        "dt_f1_score = f1_score(y_test, dt_pred_test)\n",
        "dt_recall_score = recall_score(y_test, dt_pred_test)\n",
        "dt_accuracy_score = accuracy_score(y_test, dt_pred_test)\n",
        "\n",
        "print(\"Decision Tree Precision Score:\", dt_precision_score)\n",
        "print(\"Decision Tree Recall Score:\", dt_recall_score)\n",
        "print(\"Decision Tree F1 Score:\", dt_f1_score)\n",
        "print(\"Decision Tree Accuracy Score:\", dt_accuracy_score)"
      ]
    },
    {
      "cell_type": "code",
      "execution_count": 51,
      "metadata": {
        "colab": {
          "base_uri": "https://localhost:8080/"
        },
        "id": "0JCr5wiS_5bj",
        "outputId": "ea0733f6-3766-4baa-9adf-8e1d1cc51440"
      },
      "outputs": [
        {
          "name": "stdout",
          "output_type": "stream",
          "text": [
            "              precision    recall  f1-score   support\n",
            "\n",
            "           0       0.93      0.94      0.93       793\n",
            "           1       0.81      0.79      0.80       272\n",
            "\n",
            "    accuracy                           0.90      1065\n",
            "   macro avg       0.87      0.87      0.87      1065\n",
            "weighted avg       0.90      0.90      0.90      1065\n",
            "\n"
          ]
        }
      ],
      "source": [
        "print(classification_report(y_test, dt_pred_test))"
      ]
    },
    {
      "cell_type": "markdown",
      "metadata": {
        "id": "xsXCgOFr_5bj"
      },
      "source": [
        "### Check the confusion matrix"
      ]
    },
    {
      "cell_type": "code",
      "execution_count": 52,
      "metadata": {
        "colab": {
          "base_uri": "https://localhost:8080/",
          "height": 488
        },
        "id": "3kVuHs2Z_5bj",
        "outputId": "4256d1f2-20ef-42a0-a591-448aecb907ff"
      },
      "outputs": [
        {
          "data": {
            "image/png": "[encoded data removed]",
            "text/plain": [
              "<Figure size 640x480 with 2 Axes>"
            ]
          },
          "metadata": {},
          "output_type": "display_data"
        }
      ],
      "source": [
        "dt_cm = confusion_matrix(y_test, dt_pred_test)\n",
        "fig, ax = plot_confusion_matrix(conf_mat=dt_cm, show_absolute=True, \n",
        "                                show_normed=True, colorbar=True, \n",
        "                                class_names=[\"benign\", \"malware\"])\n",
        "plt.show()"
      ]
    },
    {
      "cell_type": "markdown",
      "metadata": {
        "id": "6eTPnO68_5bj"
      },
      "source": [
        "### Save the model"
      ]
    },
    {
      "cell_type": "code",
      "execution_count": 53,
      "metadata": {
        "colab": {
          "base_uri": "https://localhost:8080/"
        },
        "id": "K8-XoiTS_5bj",
        "outputId": "290e2bdd-8d93-49b8-e696-cf7adaba91bd"
      },
      "outputs": [
        {
          "data": {
            "text/plain": [
              "['DecisionTreeModel.joblib']"
            ]
          },
          "execution_count": 53,
          "metadata": {},
          "output_type": "execute_result"
        }
      ],
      "source": [
        "dump(dt, 'DecisionTreeModel.joblib')"
      ]
    },
    {
      "cell_type": "markdown",
      "metadata": {
        "id": "D1HxAhKg_5bj"
      },
      "source": [
        "## Comparison of Models"
      ]
    },
    {
      "cell_type": "markdown",
      "metadata": {
        "id": "Pye9uYs5_5bj"
      },
      "source": [
        "### Test accuracy"
      ]
    },
    {
      "cell_type": "code",
      "execution_count": 67,
      "metadata": {},
      "outputs": [],
      "source": [
        "X_train[y_train==1].sample(10).transpose().to_csv(\"malware.csv\")"
      ]
    },
    {
      "cell_type": "code",
      "execution_count": 54,
      "metadata": {
        "colab": {
          "base_uri": "https://localhost:8080/",
          "height": 452
        },
        "id": "azsdnNde_5bj",
        "outputId": "814d1c93-66c7-4680-8238-4a0600a7dd4b"
      },
      "outputs": [
        {
          "data": {
            "image/png": "[encoded data removed]",
            "text/plain": [
              "<Figure size 640x480 with 1 Axes>"
            ]
          },
          "metadata": {},
          "output_type": "display_data"
        }
      ],
      "source": [
        "labels = [\"LR\", \"DT\", \"RF\"]\n",
        "scores = [logreg_test_score, dt_test_score, rf_test_score]\n",
        "colors={'DT':'orange', 'RF':'green', 'LR':'blue'}\n",
        "plt.figure()\n",
        "ax = sns.barplot(x=labels, y=scores, palette=colors)\n",
        "ax.set_title(\"Models Test Accuracy\")\n",
        "for container in ax.containers:\n",
        "    ax.bar_label(container)\n",
        "plt.show()"
      ]
    },
    {
      "cell_type": "markdown",
      "metadata": {
        "id": "tJxb9XYn_5bk"
      },
      "source": [
        "### Precision Score"
      ]
    },
    {
      "cell_type": "code",
      "execution_count": 55,
      "metadata": {
        "colab": {
          "base_uri": "https://localhost:8080/",
          "height": 452
        },
        "id": "r8r2Vdg__5bk",
        "outputId": "90f30f68-d993-4897-dfb4-8ec940b52cbe"
      },
      "outputs": [
        {
          "data": {
            "image/png": "[encoded data removed]",
            "text/plain": [
              "<Figure size 640x480 with 1 Axes>"
            ]
          },
          "metadata": {},
          "output_type": "display_data"
        }
      ],
      "source": [
        "labels = [\"LR\", \"DT\", \"RF\"]\n",
        "scores = [logreg_precision_score, dt_precision_score, rf_precision_score]\n",
        "colors={'DT':'orange', 'RF':'green', 'LR':'blue'}\n",
        "plt.figure()\n",
        "ax = sns.barplot(x=labels, y=scores, palette=colors)\n",
        "ax.set_title(\"Models Precision score\")\n",
        "for container in ax.containers:\n",
        "    ax.bar_label(container)\n",
        "plt.show()"
      ]
    },
    {
      "cell_type": "markdown",
      "metadata": {},
      "source": [
        "## Recall"
      ]
    },
    {
      "cell_type": "code",
      "execution_count": 56,
      "metadata": {
        "colab": {
          "base_uri": "https://localhost:8080/",
          "height": 452
        },
        "id": "agaOo3uq_5bk",
        "outputId": "a22cf864-f0ac-4c60-a222-2cff49473d32"
      },
      "outputs": [
        {
          "data": {
            "image/png": "[encoded data removed]",
            "text/plain": [
              "<Figure size 640x480 with 1 Axes>"
            ]
          },
          "metadata": {},
          "output_type": "display_data"
        }
      ],
      "source": [
        "labels = [\"LR\", \"DT\", \"RF\"]\n",
        "scores = [logreg_recall_score, dt_recall_score, rf_recall_score]\n",
        "colors={'DT':'orange', 'RF':'green', 'LR':'blue'}\n",
        "plt.figure()\n",
        "ax = sns.barplot(x=labels, y=scores, palette=colors)\n",
        "ax.set_title(\"Models Recall score\")\n",
        "for container in ax.containers:\n",
        "    ax.bar_label(container)\n",
        "plt.show()"
      ]
    },
    {
      "cell_type": "markdown",
      "metadata": {
        "id": "SGJ5OURw_5bk"
      },
      "source": [
        "### F1 score"
      ]
    },
    {
      "cell_type": "code",
      "execution_count": 57,
      "metadata": {
        "colab": {
          "base_uri": "https://localhost:8080/",
          "height": 452
        },
        "id": "5NRggufZ_5bk",
        "outputId": "c2d64548-b13b-4831-d426-75636f09aa76"
      },
      "outputs": [
        {
          "data": {
            "image/png": "[encoded data removed]",
            "text/plain": [
              "<Figure size 640x480 with 1 Axes>"
            ]
          },
          "metadata": {},
          "output_type": "display_data"
        }
      ],
      "source": [
        "labels = [\"LR\", \"DT\", \"RF\"]\n",
        "scores = [logreg_f1_score, dt_f1_score, rf_f1_score]\n",
        "colors={'DT':'orange', 'RF':'green', 'LR':'blue'}\n",
        "plt.figure()\n",
        "ax = sns.barplot(x=labels, y=scores, palette=colors)\n",
        "ax.set_title(\"Models F1 score\")\n",
        "for container in ax.containers:\n",
        "    ax.bar_label(container)\n",
        "plt.show()"
      ]
    },
    {
      "cell_type": "markdown",
      "metadata": {},
      "source": [
        "## Extraction and pre-processing of malicious application features"
      ]
    },
    {
      "cell_type": "code",
      "execution_count": 30,
      "metadata": {},
      "outputs": [],
      "source": [
        "from androguard.core.bytecodes.apk import APK\n",
        "from androguard.core.bytecodes.dvm import DalvikVMFormat"
      ]
    },
    {
      "cell_type": "code",
      "execution_count": null,
      "metadata": {},
      "outputs": [],
      "source": [
        "from androguard.core.bytecodes.apk import APK\n",
        "from androguard.core.bytecodes.dvm import DalvikVMFormat\n",
        "\n",
        "def preprocessAPK(name):\n",
        "    columns = [\"filename\"]\n",
        "    for col in data.columns:\n",
        "        columns.append(col)\n",
        "    columns.remove(\"class\")\n",
        "    columns+=[\"class_lr\", \"class_dt\", \"class_rf\"]\n",
        "    test_df = pd.DataFrame(columns=columns)\n",
        "    test_df.head(10)\n",
        "    \n",
        "    permissions_list = feature_df[feature_df[\"Category\"] == \"Manifest Permission\"].X.unique()\n",
        "    api_call_signatures = feature_df[feature_df[\"Category\"] == \"API call signature\"].X.unique()\n",
        "    intents = feature_df[feature_df[\"Category\"] == \"Intent\"].X.unique()\n",
        "    keywords = feature_df[feature_df[\"Category\"] == \"Commands signature\"].X.unique()\n",
        "    \n",
        "    index=0\n",
        "    test_df.loc[index, \"filename\"] = name\n",
        "    test_df\n",
        "    \n",
        "    a = APK(test_df.loc[index, \"filename\"])\n",
        "    d = DalvikVMFormat(a.get_dex())\n",
        "    \n",
        "    permissions = a.get_permissions()\n",
        "    manifest = a.get_android_manifest_xml()\n",
        "    intent_filters = manifest.findall(\".//intent-filter\")\n",
        "    \n",
        "    found_permissions = []\n",
        "    found_api_signatures = []\n",
        "    found_intents = []\n",
        "    found_keywords = []\n",
        "    \n",
        "    for permission in permissions:\n",
        "        permission = permission.split(\".\")[-1]\n",
        "        if permission in permissions_list:\n",
        "            found_permissions.append(permission)\n",
        "    \n",
        "    for permission in permissions_list:\n",
        "        if permission in found_permissions:\n",
        "            test_df[permission] = 1\n",
        "        else:\n",
        "            test_df[permission] = 0\n",
        "    \n",
        "    for method in d.get_methods():\n",
        "        for api_call in api_call_signatures:\n",
        "            if re.search(api_call.encode('utf-8'), method.get_descriptor()):\n",
        "                found_api_signatures.append(api_call)\n",
        "    \n",
        "    for api_call in api_call_signatures:\n",
        "        if api_call in found_api_signatures:\n",
        "            test_df[api_call] = 1\n",
        "        else:\n",
        "            test_df[api_call] = 0\n",
        "    \n",
        "    for intent_filter in intent_filters:\n",
        "        action_elements = intent_filter.findall(\".//action\")\n",
        "        for action_element in action_elements:\n",
        "            action_value = action_element.get(\"{http://schemas.android.com/apk/res/android}name\")\n",
        "            for intent in intents:\n",
        "                if re.search(intent, action_value):\n",
        "                    found_intents.append(intent)\n",
        "    \n",
        "    for intent in intents:\n",
        "        if intent in found_intents:\n",
        "            test_df[intent] = 1\n",
        "        else:\n",
        "            test_df[intent] = 0\n",
        "    \n",
        "    for method in d.get_methods():\n",
        "        for keyword in keywords:\n",
        "            try:\n",
        "                if re.search(keyword, method.get_code().get_instruction()):\n",
        "                    found_keywords.append(keyword)\n",
        "            except:\n",
        "                pass\n",
        "    \n",
        "    for keyword in keywords:\n",
        "        if keyword in found_keywords:\n",
        "            test_df[keyword] = 1\n",
        "        else:\n",
        "            test_df[keyword] = 0\n",
        "    \n",
        "    dropped = test_df.drop([\"filename\", \"class_lr\",\"class_dt\",\"class_rf\"], axis=1)\n",
        "    return dropped"
      ]
    },
    {
      "cell_type": "code",
      "execution_count": 31,
      "metadata": {
        "colab": {
          "base_uri": "https://localhost:8080/",
          "height": 99
        },
        "id": "Iy33EGO8BcGP",
        "outputId": "682bda39-e5fd-446e-dc13-467b132e1afb"
      },
      "outputs": [
        {
          "data": {
            "text/html": [
              "<div>\n",
              "<style scoped>\n",
              "    .dataframe tbody tr th:only-of-type {\n",
              "        vertical-align: middle;\n",
              "    }\n",
              "\n",
              "    .dataframe tbody tr th {\n",
              "        vertical-align: top;\n",
              "    }\n",
              "\n",
              "    .dataframe thead th {\n",
              "        text-align: right;\n",
              "    }\n",
              "</style>\n",
              "<table border=\"1\" class=\"dataframe\">\n",
              "  <thead>\n",
              "    <tr style=\"text-align: right;\">\n",
              "      <th></th>\n",
              "      <th>filename</th>\n",
              "      <th>transact</th>\n",
              "      <th>onServiceConnected</th>\n",
              "      <th>bindService</th>\n",
              "      <th>attachInterface</th>\n",
              "      <th>ServiceConnection</th>\n",
              "      <th>android.os.Binder</th>\n",
              "      <th>SEND_SMS</th>\n",
              "      <th>Ljava.lang.Class.getCanonicalName</th>\n",
              "      <th>Ljava.lang.Class.getMethods</th>\n",
              "      <th>...</th>\n",
              "      <th>mount</th>\n",
              "      <th>INSTALL_PACKAGES</th>\n",
              "      <th>Runtime.getRuntime</th>\n",
              "      <th>Ljava.lang.Object.getClass</th>\n",
              "      <th>READ_HISTORY_BOOKMARKS</th>\n",
              "      <th>Ljava.lang.Class.forName</th>\n",
              "      <th>Binder</th>\n",
              "      <th>class_lr</th>\n",
              "      <th>class_dt</th>\n",
              "      <th>class_rf</th>\n",
              "    </tr>\n",
              "  </thead>\n",
              "  <tbody>\n",
              "  </tbody>\n",
              "</table>\n",
              "<p>0 rows × 54 columns</p>\n",
              "</div>"
            ],
            "text/plain": [
              "Empty DataFrame\n",
              "Columns: [filename, transact, onServiceConnected, bindService, attachInterface, ServiceConnection, android.os.Binder, SEND_SMS, Ljava.lang.Class.getCanonicalName, Ljava.lang.Class.getMethods, Ljava.lang.Class.cast, Ljava.net.URLDecoder, android.content.pm.Signature, android.telephony.SmsManager, READ_PHONE_STATE, getBinder, ClassLoader, Landroid.content.Context.registerReceiver, Ljava.lang.Class.getField, Landroid.content.Context.unregisterReceiver, GET_ACCOUNTS, RECEIVE_SMS, Ljava.lang.Class.getDeclaredField, READ_SMS, getCallingUid, Ljavax.crypto.spec.SecretKeySpec, android.intent.action.BOOT_COMPLETED, USE_CREDENTIALS, MANAGE_ACCOUNTS, android.content.pm.PackageInfo, KeySpec, TelephonyManager.getLine1Number, DexClassLoader, HttpGet.init, SecretKey, Ljava.lang.Class.getMethod, System.loadLibrary, android.intent.action.SEND, Ljavax.crypto.Cipher, WRITE_SMS, READ_SYNC_SETTINGS, android.telephony.gsm.SmsManager, WRITE_HISTORY_BOOKMARKS, TelephonyManager.getSubscriberId, mount, INSTALL_PACKAGES, Runtime.getRuntime, Ljava.lang.Object.getClass, READ_HISTORY_BOOKMARKS, Ljava.lang.Class.forName, Binder, class_lr, class_dt, class_rf]\n",
              "Index: []\n",
              "\n",
              "[0 rows x 54 columns]"
            ]
          },
          "execution_count": 31,
          "metadata": {},
          "output_type": "execute_result"
        }
      ],
      "source": [
        "columns = [\"filename\"]\n",
        "for col in data.columns:\n",
        "    columns.append(col)\n",
        "columns.remove(\"class\")\n",
        "columns+=[\"class_lr\", \"class_dt\", \"class_rf\"]\n",
        "test_df = pd.DataFrame(columns=columns)\n",
        "test_df.head(10)"
      ]
    },
    {
      "cell_type": "code",
      "execution_count": 32,
      "metadata": {
        "id": "deVYjBESBo8x"
      },
      "outputs": [],
      "source": [
        "permissions_list = feature_df[feature_df[\"Category\"] == \"Manifest Permission\"].X.unique()\n",
        "api_call_signatures = feature_df[feature_df[\"Category\"] == \"API call signature\"].X.unique()\n",
        "intents = feature_df[feature_df[\"Category\"] == \"Intent\"].X.unique()\n",
        "keywords = feature_df[feature_df[\"Category\"] == \"Commands signature\"].X.unique()"
      ]
    },
    {
      "cell_type": "code",
      "execution_count": 32,
      "metadata": {
        "id": "0_2bF-99CAm5"
      },
      "outputs": [
        {
          "data": {
            "text/plain": [
              "(12,)"
            ]
          },
          "execution_count": 32,
          "metadata": {},
          "output_type": "execute_result"
        }
      ],
      "source": [
        "permissions_list.shape"
      ]
    },
    {
      "cell_type": "code",
      "execution_count": 33,
      "metadata": {},
      "outputs": [],
      "source": [
        "logreg = load('LogisticRegressionModel.joblib')\n",
        "dt = load('DecisionTreeModel.joblib')\n",
        "rf = load('RandomForestModel.joblib')"
      ]
    },
    {
      "cell_type": "markdown",
      "metadata": {},
      "source": [
        "## Testing the malicious apps developed by us"
      ]
    },
    {
      "cell_type": "code",
      "execution_count": 34,
      "metadata": {
        "colab": {
          "base_uri": "https://localhost:8080/",
          "height": 381
        },
        "id": "47ocNH13VPXc",
        "outputId": "36666b50-b9f4-4d8d-a5b5-22d2e9f14a01"
      },
      "outputs": [
        {
          "data": {
            "text/html": [
              "<div>\n",
              "<style scoped>\n",
              "    .dataframe tbody tr th:only-of-type {\n",
              "        vertical-align: middle;\n",
              "    }\n",
              "\n",
              "    .dataframe tbody tr th {\n",
              "        vertical-align: top;\n",
              "    }\n",
              "\n",
              "    .dataframe thead th {\n",
              "        text-align: right;\n",
              "    }\n",
              "</style>\n",
              "<table border=\"1\" class=\"dataframe\">\n",
              "  <thead>\n",
              "    <tr style=\"text-align: right;\">\n",
              "      <th></th>\n",
              "      <th>filename</th>\n",
              "      <th>transact</th>\n",
              "      <th>onServiceConnected</th>\n",
              "      <th>bindService</th>\n",
              "      <th>attachInterface</th>\n",
              "      <th>ServiceConnection</th>\n",
              "      <th>android.os.Binder</th>\n",
              "      <th>SEND_SMS</th>\n",
              "      <th>Ljava.lang.Class.getCanonicalName</th>\n",
              "      <th>Ljava.lang.Class.getMethods</th>\n",
              "      <th>...</th>\n",
              "      <th>mount</th>\n",
              "      <th>INSTALL_PACKAGES</th>\n",
              "      <th>Runtime.getRuntime</th>\n",
              "      <th>Ljava.lang.Object.getClass</th>\n",
              "      <th>READ_HISTORY_BOOKMARKS</th>\n",
              "      <th>Ljava.lang.Class.forName</th>\n",
              "      <th>Binder</th>\n",
              "      <th>class_lr</th>\n",
              "      <th>class_dt</th>\n",
              "      <th>class_rf</th>\n",
              "    </tr>\n",
              "  </thead>\n",
              "  <tbody>\n",
              "    <tr>\n",
              "      <th>0</th>\n",
              "      <td>Dhanera.apk</td>\n",
              "      <td>NaN</td>\n",
              "      <td>NaN</td>\n",
              "      <td>NaN</td>\n",
              "      <td>NaN</td>\n",
              "      <td>NaN</td>\n",
              "      <td>NaN</td>\n",
              "      <td>NaN</td>\n",
              "      <td>NaN</td>\n",
              "      <td>NaN</td>\n",
              "      <td>...</td>\n",
              "      <td>NaN</td>\n",
              "      <td>NaN</td>\n",
              "      <td>NaN</td>\n",
              "      <td>NaN</td>\n",
              "      <td>NaN</td>\n",
              "      <td>NaN</td>\n",
              "      <td>NaN</td>\n",
              "      <td>NaN</td>\n",
              "      <td>NaN</td>\n",
              "      <td>NaN</td>\n",
              "    </tr>\n",
              "  </tbody>\n",
              "</table>\n",
              "<p>1 rows × 54 columns</p>\n",
              "</div>"
            ],
            "text/plain": [
              "      filename transact onServiceConnected bindService attachInterface  \\\n",
              "0  Dhanera.apk      NaN                NaN         NaN             NaN   \n",
              "\n",
              "  ServiceConnection android.os.Binder SEND_SMS  \\\n",
              "0               NaN               NaN      NaN   \n",
              "\n",
              "  Ljava.lang.Class.getCanonicalName Ljava.lang.Class.getMethods  ... mount  \\\n",
              "0                               NaN                         NaN  ...   NaN   \n",
              "\n",
              "  INSTALL_PACKAGES Runtime.getRuntime Ljava.lang.Object.getClass  \\\n",
              "0              NaN                NaN                        NaN   \n",
              "\n",
              "  READ_HISTORY_BOOKMARKS Ljava.lang.Class.forName Binder class_lr class_dt  \\\n",
              "0                    NaN                      NaN    NaN      NaN      NaN   \n",
              "\n",
              "  class_rf  \n",
              "0      NaN  \n",
              "\n",
              "[1 rows x 54 columns]"
            ]
          },
          "execution_count": 34,
          "metadata": {},
          "output_type": "execute_result"
        }
      ],
      "source": [
        "index=0\n",
        "name = 'Dhanera.apk'\n",
        "test_df.loc[index, \"filename\"] = name\n",
        "test_df"
      ]
    },
    {
      "cell_type": "code",
      "execution_count": 35,
      "metadata": {
        "colab": {
          "base_uri": "https://localhost:8080/"
        },
        "id": "80s8kY3DBtfm",
        "outputId": "94cdabe6-af6b-400b-f38e-3f9e9cd388f4"
      },
      "outputs": [
        {
          "name": "stderr",
          "output_type": "stream",
          "text": [
            "Requested API level 33 is larger than maximum we have, returning API level 28 instead.\n"
          ]
        }
      ],
      "source": [
        "a = APK(test_df.loc[index, \"filename\"])\n",
        "d = DalvikVMFormat(a.get_dex())"
      ]
    },
    {
      "cell_type": "code",
      "execution_count": 36,
      "metadata": {
        "id": "2SnD67jmB0el"
      },
      "outputs": [],
      "source": [
        "permissions = a.get_permissions()\n",
        "manifest = a.get_android_manifest_xml()\n",
        "intent_filters = manifest.findall(\".//intent-filter\")"
      ]
    },
    {
      "cell_type": "code",
      "execution_count": 37,
      "metadata": {
        "id": "5ACjR2qVFR_-"
      },
      "outputs": [],
      "source": [
        "found_permissions = []\n",
        "found_api_signatures = []\n",
        "found_intents = []\n",
        "found_keywords = []"
      ]
    },
    {
      "cell_type": "code",
      "execution_count": 38,
      "metadata": {
        "id": "1fdwlRQvFl5J"
      },
      "outputs": [],
      "source": [
        "for permission in permissions:\n",
        "    permission = permission.split(\".\")[-1]\n",
        "    if permission in permissions_list:\n",
        "        found_permissions.append(permission)"
      ]
    },
    {
      "cell_type": "code",
      "execution_count": 39,
      "metadata": {
        "id": "ilTh5SY6FoWo"
      },
      "outputs": [],
      "source": [
        "for permission in permissions_list:\n",
        "    if permission in found_permissions:\n",
        "        test_df[permission] = 1\n",
        "    else:\n",
        "        test_df[permission] = 0"
      ]
    },
    {
      "cell_type": "code",
      "execution_count": 40,
      "metadata": {
        "colab": {
          "base_uri": "https://localhost:8080/",
          "height": 255
        },
        "id": "Hi6d24FtFttS",
        "outputId": "76881044-62b8-445d-e8f5-52e145f9b95d"
      },
      "outputs": [
        {
          "data": {
            "text/html": [
              "<div>\n",
              "<style scoped>\n",
              "    .dataframe tbody tr th:only-of-type {\n",
              "        vertical-align: middle;\n",
              "    }\n",
              "\n",
              "    .dataframe tbody tr th {\n",
              "        vertical-align: top;\n",
              "    }\n",
              "\n",
              "    .dataframe thead th {\n",
              "        text-align: right;\n",
              "    }\n",
              "</style>\n",
              "<table border=\"1\" class=\"dataframe\">\n",
              "  <thead>\n",
              "    <tr style=\"text-align: right;\">\n",
              "      <th></th>\n",
              "      <th>filename</th>\n",
              "      <th>transact</th>\n",
              "      <th>onServiceConnected</th>\n",
              "      <th>bindService</th>\n",
              "      <th>attachInterface</th>\n",
              "      <th>ServiceConnection</th>\n",
              "      <th>android.os.Binder</th>\n",
              "      <th>SEND_SMS</th>\n",
              "      <th>Ljava.lang.Class.getCanonicalName</th>\n",
              "      <th>Ljava.lang.Class.getMethods</th>\n",
              "      <th>...</th>\n",
              "      <th>mount</th>\n",
              "      <th>INSTALL_PACKAGES</th>\n",
              "      <th>Runtime.getRuntime</th>\n",
              "      <th>Ljava.lang.Object.getClass</th>\n",
              "      <th>READ_HISTORY_BOOKMARKS</th>\n",
              "      <th>Ljava.lang.Class.forName</th>\n",
              "      <th>Binder</th>\n",
              "      <th>class_lr</th>\n",
              "      <th>class_dt</th>\n",
              "      <th>class_rf</th>\n",
              "    </tr>\n",
              "  </thead>\n",
              "  <tbody>\n",
              "    <tr>\n",
              "      <th>0</th>\n",
              "      <td>Dhanera.apk</td>\n",
              "      <td>NaN</td>\n",
              "      <td>NaN</td>\n",
              "      <td>NaN</td>\n",
              "      <td>NaN</td>\n",
              "      <td>NaN</td>\n",
              "      <td>NaN</td>\n",
              "      <td>0</td>\n",
              "      <td>NaN</td>\n",
              "      <td>NaN</td>\n",
              "      <td>...</td>\n",
              "      <td>NaN</td>\n",
              "      <td>0</td>\n",
              "      <td>NaN</td>\n",
              "      <td>NaN</td>\n",
              "      <td>0</td>\n",
              "      <td>NaN</td>\n",
              "      <td>NaN</td>\n",
              "      <td>NaN</td>\n",
              "      <td>NaN</td>\n",
              "      <td>NaN</td>\n",
              "    </tr>\n",
              "  </tbody>\n",
              "</table>\n",
              "<p>1 rows × 54 columns</p>\n",
              "</div>"
            ],
            "text/plain": [
              "      filename transact onServiceConnected bindService attachInterface  \\\n",
              "0  Dhanera.apk      NaN                NaN         NaN             NaN   \n",
              "\n",
              "  ServiceConnection android.os.Binder  SEND_SMS  \\\n",
              "0               NaN               NaN         0   \n",
              "\n",
              "  Ljava.lang.Class.getCanonicalName Ljava.lang.Class.getMethods  ... mount  \\\n",
              "0                               NaN                         NaN  ...   NaN   \n",
              "\n",
              "  INSTALL_PACKAGES Runtime.getRuntime Ljava.lang.Object.getClass  \\\n",
              "0                0                NaN                        NaN   \n",
              "\n",
              "   READ_HISTORY_BOOKMARKS Ljava.lang.Class.forName Binder class_lr class_dt  \\\n",
              "0                       0                      NaN    NaN      NaN      NaN   \n",
              "\n",
              "  class_rf  \n",
              "0      NaN  \n",
              "\n",
              "[1 rows x 54 columns]"
            ]
          },
          "execution_count": 40,
          "metadata": {},
          "output_type": "execute_result"
        }
      ],
      "source": [
        "test_df.head()"
      ]
    },
    {
      "cell_type": "code",
      "execution_count": 41,
      "metadata": {
        "id": "Z-PfMRvjF26o"
      },
      "outputs": [],
      "source": [
        "for method in d.get_methods():\n",
        "    for api_call in api_call_signatures:\n",
        "        if re.search(api_call.encode('utf-8'), method.get_descriptor()):\n",
        "            found_api_signatures.append(api_call)"
      ]
    },
    {
      "cell_type": "code",
      "execution_count": 42,
      "metadata": {
        "id": "1578MKXnF9es"
      },
      "outputs": [],
      "source": [
        "for api_call in api_call_signatures:\n",
        "    if api_call in found_api_signatures:\n",
        "        test_df[api_call] = 1\n",
        "    else:\n",
        "        test_df[api_call] = 0"
      ]
    },
    {
      "cell_type": "code",
      "execution_count": 43,
      "metadata": {
        "colab": {
          "base_uri": "https://localhost:8080/",
          "height": 255
        },
        "id": "k5t5RNVyGgjr",
        "outputId": "2333da8a-e47b-4624-be44-35cf31a80505"
      },
      "outputs": [
        {
          "data": {
            "text/html": [
              "<div>\n",
              "<style scoped>\n",
              "    .dataframe tbody tr th:only-of-type {\n",
              "        vertical-align: middle;\n",
              "    }\n",
              "\n",
              "    .dataframe tbody tr th {\n",
              "        vertical-align: top;\n",
              "    }\n",
              "\n",
              "    .dataframe thead th {\n",
              "        text-align: right;\n",
              "    }\n",
              "</style>\n",
              "<table border=\"1\" class=\"dataframe\">\n",
              "  <thead>\n",
              "    <tr style=\"text-align: right;\">\n",
              "      <th></th>\n",
              "      <th>filename</th>\n",
              "      <th>transact</th>\n",
              "      <th>onServiceConnected</th>\n",
              "      <th>bindService</th>\n",
              "      <th>attachInterface</th>\n",
              "      <th>ServiceConnection</th>\n",
              "      <th>android.os.Binder</th>\n",
              "      <th>SEND_SMS</th>\n",
              "      <th>Ljava.lang.Class.getCanonicalName</th>\n",
              "      <th>Ljava.lang.Class.getMethods</th>\n",
              "      <th>...</th>\n",
              "      <th>mount</th>\n",
              "      <th>INSTALL_PACKAGES</th>\n",
              "      <th>Runtime.getRuntime</th>\n",
              "      <th>Ljava.lang.Object.getClass</th>\n",
              "      <th>READ_HISTORY_BOOKMARKS</th>\n",
              "      <th>Ljava.lang.Class.forName</th>\n",
              "      <th>Binder</th>\n",
              "      <th>class_lr</th>\n",
              "      <th>class_dt</th>\n",
              "      <th>class_rf</th>\n",
              "    </tr>\n",
              "  </thead>\n",
              "  <tbody>\n",
              "    <tr>\n",
              "      <th>0</th>\n",
              "      <td>Dhanera.apk</td>\n",
              "      <td>0</td>\n",
              "      <td>0</td>\n",
              "      <td>0</td>\n",
              "      <td>0</td>\n",
              "      <td>1</td>\n",
              "      <td>0</td>\n",
              "      <td>0</td>\n",
              "      <td>0</td>\n",
              "      <td>0</td>\n",
              "      <td>...</td>\n",
              "      <td>NaN</td>\n",
              "      <td>0</td>\n",
              "      <td>0</td>\n",
              "      <td>0</td>\n",
              "      <td>0</td>\n",
              "      <td>0</td>\n",
              "      <td>1</td>\n",
              "      <td>NaN</td>\n",
              "      <td>NaN</td>\n",
              "      <td>NaN</td>\n",
              "    </tr>\n",
              "  </tbody>\n",
              "</table>\n",
              "<p>1 rows × 54 columns</p>\n",
              "</div>"
            ],
            "text/plain": [
              "      filename  transact  onServiceConnected  bindService  attachInterface  \\\n",
              "0  Dhanera.apk         0                   0            0                0   \n",
              "\n",
              "   ServiceConnection  android.os.Binder  SEND_SMS  \\\n",
              "0                  1                  0         0   \n",
              "\n",
              "   Ljava.lang.Class.getCanonicalName  Ljava.lang.Class.getMethods  ...  mount  \\\n",
              "0                                  0                            0  ...    NaN   \n",
              "\n",
              "   INSTALL_PACKAGES  Runtime.getRuntime  Ljava.lang.Object.getClass  \\\n",
              "0                 0                   0                           0   \n",
              "\n",
              "   READ_HISTORY_BOOKMARKS  Ljava.lang.Class.forName  Binder  class_lr  \\\n",
              "0                       0                         0       1       NaN   \n",
              "\n",
              "   class_dt  class_rf  \n",
              "0       NaN       NaN  \n",
              "\n",
              "[1 rows x 54 columns]"
            ]
          },
          "execution_count": 43,
          "metadata": {},
          "output_type": "execute_result"
        }
      ],
      "source": [
        "test_df.head()"
      ]
    },
    {
      "cell_type": "code",
      "execution_count": 44,
      "metadata": {
        "id": "JVNmJoVUGrYv"
      },
      "outputs": [],
      "source": [
        "for intent_filter in intent_filters:\n",
        "    action_elements = intent_filter.findall(\".//action\")\n",
        "    for action_element in action_elements:\n",
        "        action_value = action_element.get(\"{http://schemas.android.com/apk/res/android}name\")\n",
        "        for intent in intents:\n",
        "            if re.search(intent, action_value):\n",
        "                found_intents.append(intent)"
      ]
    },
    {
      "cell_type": "code",
      "execution_count": 45,
      "metadata": {
        "id": "w_4mKIjZG_7Y"
      },
      "outputs": [],
      "source": [
        "for intent in intents:\n",
        "    if intent in found_intents:\n",
        "        test_df[intent] = 1\n",
        "    else:\n",
        "        test_df[intent] = 0"
      ]
    },
    {
      "cell_type": "code",
      "execution_count": 46,
      "metadata": {
        "colab": {
          "base_uri": "https://localhost:8080/",
          "height": 255
        },
        "id": "ZNA0luv-HD7e",
        "outputId": "b7d4cf24-a108-4c40-edf9-c91ee4edd34c"
      },
      "outputs": [
        {
          "data": {
            "text/html": [
              "<div>\n",
              "<style scoped>\n",
              "    .dataframe tbody tr th:only-of-type {\n",
              "        vertical-align: middle;\n",
              "    }\n",
              "\n",
              "    .dataframe tbody tr th {\n",
              "        vertical-align: top;\n",
              "    }\n",
              "\n",
              "    .dataframe thead th {\n",
              "        text-align: right;\n",
              "    }\n",
              "</style>\n",
              "<table border=\"1\" class=\"dataframe\">\n",
              "  <thead>\n",
              "    <tr style=\"text-align: right;\">\n",
              "      <th></th>\n",
              "      <th>filename</th>\n",
              "      <th>transact</th>\n",
              "      <th>onServiceConnected</th>\n",
              "      <th>bindService</th>\n",
              "      <th>attachInterface</th>\n",
              "      <th>ServiceConnection</th>\n",
              "      <th>android.os.Binder</th>\n",
              "      <th>SEND_SMS</th>\n",
              "      <th>Ljava.lang.Class.getCanonicalName</th>\n",
              "      <th>Ljava.lang.Class.getMethods</th>\n",
              "      <th>...</th>\n",
              "      <th>mount</th>\n",
              "      <th>INSTALL_PACKAGES</th>\n",
              "      <th>Runtime.getRuntime</th>\n",
              "      <th>Ljava.lang.Object.getClass</th>\n",
              "      <th>READ_HISTORY_BOOKMARKS</th>\n",
              "      <th>Ljava.lang.Class.forName</th>\n",
              "      <th>Binder</th>\n",
              "      <th>class_lr</th>\n",
              "      <th>class_dt</th>\n",
              "      <th>class_rf</th>\n",
              "    </tr>\n",
              "  </thead>\n",
              "  <tbody>\n",
              "    <tr>\n",
              "      <th>0</th>\n",
              "      <td>Dhanera.apk</td>\n",
              "      <td>0</td>\n",
              "      <td>0</td>\n",
              "      <td>0</td>\n",
              "      <td>0</td>\n",
              "      <td>1</td>\n",
              "      <td>0</td>\n",
              "      <td>0</td>\n",
              "      <td>0</td>\n",
              "      <td>0</td>\n",
              "      <td>...</td>\n",
              "      <td>NaN</td>\n",
              "      <td>0</td>\n",
              "      <td>0</td>\n",
              "      <td>0</td>\n",
              "      <td>0</td>\n",
              "      <td>0</td>\n",
              "      <td>1</td>\n",
              "      <td>NaN</td>\n",
              "      <td>NaN</td>\n",
              "      <td>NaN</td>\n",
              "    </tr>\n",
              "  </tbody>\n",
              "</table>\n",
              "<p>1 rows × 54 columns</p>\n",
              "</div>"
            ],
            "text/plain": [
              "      filename  transact  onServiceConnected  bindService  attachInterface  \\\n",
              "0  Dhanera.apk         0                   0            0                0   \n",
              "\n",
              "   ServiceConnection  android.os.Binder  SEND_SMS  \\\n",
              "0                  1                  0         0   \n",
              "\n",
              "   Ljava.lang.Class.getCanonicalName  Ljava.lang.Class.getMethods  ...  mount  \\\n",
              "0                                  0                            0  ...    NaN   \n",
              "\n",
              "   INSTALL_PACKAGES  Runtime.getRuntime  Ljava.lang.Object.getClass  \\\n",
              "0                 0                   0                           0   \n",
              "\n",
              "   READ_HISTORY_BOOKMARKS  Ljava.lang.Class.forName  Binder  class_lr  \\\n",
              "0                       0                         0       1       NaN   \n",
              "\n",
              "   class_dt  class_rf  \n",
              "0       NaN       NaN  \n",
              "\n",
              "[1 rows x 54 columns]"
            ]
          },
          "execution_count": 46,
          "metadata": {},
          "output_type": "execute_result"
        }
      ],
      "source": [
        "test_df.head()"
      ]
    },
    {
      "cell_type": "code",
      "execution_count": 47,
      "metadata": {
        "id": "D0Cr0lwxHGak"
      },
      "outputs": [],
      "source": [
        "for method in d.get_methods():\n",
        "    for keyword in keywords:\n",
        "        try:\n",
        "            if re.search(keyword, method.get_code().get_instruction()):\n",
        "                found_keywords.append(keyword)\n",
        "        except:\n",
        "            pass"
      ]
    },
    {
      "cell_type": "code",
      "execution_count": 48,
      "metadata": {
        "id": "IjxuQ1PCHJHt"
      },
      "outputs": [],
      "source": [
        "for keyword in keywords:\n",
        "    if keyword in found_keywords:\n",
        "        test_df[keyword] = 1\n",
        "    else:\n",
        "        test_df[keyword] = 0"
      ]
    },
    {
      "cell_type": "code",
      "execution_count": 49,
      "metadata": {
        "colab": {
          "base_uri": "https://localhost:8080/",
          "height": 255
        },
        "id": "abeum7_iHL85",
        "outputId": "77f1a04c-aa98-405e-a2db-6dfca0437af8"
      },
      "outputs": [
        {
          "data": {
            "text/html": [
              "<div>\n",
              "<style scoped>\n",
              "    .dataframe tbody tr th:only-of-type {\n",
              "        vertical-align: middle;\n",
              "    }\n",
              "\n",
              "    .dataframe tbody tr th {\n",
              "        vertical-align: top;\n",
              "    }\n",
              "\n",
              "    .dataframe thead th {\n",
              "        text-align: right;\n",
              "    }\n",
              "</style>\n",
              "<table border=\"1\" class=\"dataframe\">\n",
              "  <thead>\n",
              "    <tr style=\"text-align: right;\">\n",
              "      <th></th>\n",
              "      <th>filename</th>\n",
              "      <th>transact</th>\n",
              "      <th>onServiceConnected</th>\n",
              "      <th>bindService</th>\n",
              "      <th>attachInterface</th>\n",
              "      <th>ServiceConnection</th>\n",
              "      <th>android.os.Binder</th>\n",
              "      <th>SEND_SMS</th>\n",
              "      <th>Ljava.lang.Class.getCanonicalName</th>\n",
              "      <th>Ljava.lang.Class.getMethods</th>\n",
              "      <th>...</th>\n",
              "      <th>mount</th>\n",
              "      <th>INSTALL_PACKAGES</th>\n",
              "      <th>Runtime.getRuntime</th>\n",
              "      <th>Ljava.lang.Object.getClass</th>\n",
              "      <th>READ_HISTORY_BOOKMARKS</th>\n",
              "      <th>Ljava.lang.Class.forName</th>\n",
              "      <th>Binder</th>\n",
              "      <th>class_lr</th>\n",
              "      <th>class_dt</th>\n",
              "      <th>class_rf</th>\n",
              "    </tr>\n",
              "  </thead>\n",
              "  <tbody>\n",
              "    <tr>\n",
              "      <th>0</th>\n",
              "      <td>Dhanera.apk</td>\n",
              "      <td>0</td>\n",
              "      <td>0</td>\n",
              "      <td>0</td>\n",
              "      <td>0</td>\n",
              "      <td>1</td>\n",
              "      <td>0</td>\n",
              "      <td>0</td>\n",
              "      <td>0</td>\n",
              "      <td>0</td>\n",
              "      <td>...</td>\n",
              "      <td>0</td>\n",
              "      <td>0</td>\n",
              "      <td>0</td>\n",
              "      <td>0</td>\n",
              "      <td>0</td>\n",
              "      <td>0</td>\n",
              "      <td>1</td>\n",
              "      <td>NaN</td>\n",
              "      <td>NaN</td>\n",
              "      <td>NaN</td>\n",
              "    </tr>\n",
              "  </tbody>\n",
              "</table>\n",
              "<p>1 rows × 54 columns</p>\n",
              "</div>"
            ],
            "text/plain": [
              "      filename  transact  onServiceConnected  bindService  attachInterface  \\\n",
              "0  Dhanera.apk         0                   0            0                0   \n",
              "\n",
              "   ServiceConnection  android.os.Binder  SEND_SMS  \\\n",
              "0                  1                  0         0   \n",
              "\n",
              "   Ljava.lang.Class.getCanonicalName  Ljava.lang.Class.getMethods  ...  mount  \\\n",
              "0                                  0                            0  ...      0   \n",
              "\n",
              "   INSTALL_PACKAGES  Runtime.getRuntime  Ljava.lang.Object.getClass  \\\n",
              "0                 0                   0                           0   \n",
              "\n",
              "   READ_HISTORY_BOOKMARKS  Ljava.lang.Class.forName  Binder  class_lr  \\\n",
              "0                       0                         0       1       NaN   \n",
              "\n",
              "   class_dt  class_rf  \n",
              "0       NaN       NaN  \n",
              "\n",
              "[1 rows x 54 columns]"
            ]
          },
          "execution_count": 49,
          "metadata": {},
          "output_type": "execute_result"
        }
      ],
      "source": [
        "test_df.head()"
      ]
    },
    {
      "cell_type": "code",
      "execution_count": 50,
      "metadata": {
        "colab": {
          "base_uri": "https://localhost:8080/"
        },
        "id": "1KBW7F2qHRSp",
        "outputId": "406af350-5d5d-4747-fc85-9ed62af53edf"
      },
      "outputs": [
        {
          "data": {
            "text/html": [
              "<div>\n",
              "<style scoped>\n",
              "    .dataframe tbody tr th:only-of-type {\n",
              "        vertical-align: middle;\n",
              "    }\n",
              "\n",
              "    .dataframe tbody tr th {\n",
              "        vertical-align: top;\n",
              "    }\n",
              "\n",
              "    .dataframe thead th {\n",
              "        text-align: right;\n",
              "    }\n",
              "</style>\n",
              "<table border=\"1\" class=\"dataframe\">\n",
              "  <thead>\n",
              "    <tr style=\"text-align: right;\">\n",
              "      <th></th>\n",
              "      <th>transact</th>\n",
              "      <th>onServiceConnected</th>\n",
              "      <th>bindService</th>\n",
              "      <th>attachInterface</th>\n",
              "      <th>ServiceConnection</th>\n",
              "      <th>android.os.Binder</th>\n",
              "      <th>SEND_SMS</th>\n",
              "      <th>Ljava.lang.Class.getCanonicalName</th>\n",
              "      <th>Ljava.lang.Class.getMethods</th>\n",
              "      <th>Ljava.lang.Class.cast</th>\n",
              "      <th>...</th>\n",
              "      <th>android.telephony.gsm.SmsManager</th>\n",
              "      <th>WRITE_HISTORY_BOOKMARKS</th>\n",
              "      <th>TelephonyManager.getSubscriberId</th>\n",
              "      <th>mount</th>\n",
              "      <th>INSTALL_PACKAGES</th>\n",
              "      <th>Runtime.getRuntime</th>\n",
              "      <th>Ljava.lang.Object.getClass</th>\n",
              "      <th>READ_HISTORY_BOOKMARKS</th>\n",
              "      <th>Ljava.lang.Class.forName</th>\n",
              "      <th>Binder</th>\n",
              "    </tr>\n",
              "  </thead>\n",
              "  <tbody>\n",
              "    <tr>\n",
              "      <th>0</th>\n",
              "      <td>0</td>\n",
              "      <td>0</td>\n",
              "      <td>0</td>\n",
              "      <td>0</td>\n",
              "      <td>1</td>\n",
              "      <td>0</td>\n",
              "      <td>0</td>\n",
              "      <td>0</td>\n",
              "      <td>0</td>\n",
              "      <td>0</td>\n",
              "      <td>...</td>\n",
              "      <td>0</td>\n",
              "      <td>0</td>\n",
              "      <td>0</td>\n",
              "      <td>0</td>\n",
              "      <td>0</td>\n",
              "      <td>0</td>\n",
              "      <td>0</td>\n",
              "      <td>0</td>\n",
              "      <td>0</td>\n",
              "      <td>1</td>\n",
              "    </tr>\n",
              "  </tbody>\n",
              "</table>\n",
              "<p>1 rows × 50 columns</p>\n",
              "</div>"
            ],
            "text/plain": [
              "   transact  onServiceConnected  bindService  attachInterface  \\\n",
              "0         0                   0            0                0   \n",
              "\n",
              "   ServiceConnection  android.os.Binder  SEND_SMS  \\\n",
              "0                  1                  0         0   \n",
              "\n",
              "   Ljava.lang.Class.getCanonicalName  Ljava.lang.Class.getMethods  \\\n",
              "0                                  0                            0   \n",
              "\n",
              "   Ljava.lang.Class.cast  ...  android.telephony.gsm.SmsManager  \\\n",
              "0                      0  ...                                 0   \n",
              "\n",
              "   WRITE_HISTORY_BOOKMARKS  TelephonyManager.getSubscriberId  mount  \\\n",
              "0                        0                                 0      0   \n",
              "\n",
              "   INSTALL_PACKAGES  Runtime.getRuntime  Ljava.lang.Object.getClass  \\\n",
              "0                 0                   0                           0   \n",
              "\n",
              "   READ_HISTORY_BOOKMARKS  Ljava.lang.Class.forName  Binder  \n",
              "0                       0                         0       1  \n",
              "\n",
              "[1 rows x 50 columns]"
            ]
          },
          "execution_count": 50,
          "metadata": {},
          "output_type": "execute_result"
        }
      ],
      "source": [
        "dropped = test_df.drop([\"filename\", \"class_lr\",\"class_dt\",\"class_rf\"], axis=1)\n",
        "dropped"
      ]
    },
    {
      "cell_type": "code",
      "execution_count": 51,
      "metadata": {},
      "outputs": [
        {
          "data": {
            "text/html": [
              "<div>\n",
              "<style scoped>\n",
              "    .dataframe tbody tr th:only-of-type {\n",
              "        vertical-align: middle;\n",
              "    }\n",
              "\n",
              "    .dataframe tbody tr th {\n",
              "        vertical-align: top;\n",
              "    }\n",
              "\n",
              "    .dataframe thead th {\n",
              "        text-align: right;\n",
              "    }\n",
              "</style>\n",
              "<table border=\"1\" class=\"dataframe\">\n",
              "  <thead>\n",
              "    <tr style=\"text-align: right;\">\n",
              "      <th></th>\n",
              "      <th>0</th>\n",
              "    </tr>\n",
              "  </thead>\n",
              "  <tbody>\n",
              "    <tr>\n",
              "      <th>transact</th>\n",
              "      <td>0</td>\n",
              "    </tr>\n",
              "    <tr>\n",
              "      <th>onServiceConnected</th>\n",
              "      <td>0</td>\n",
              "    </tr>\n",
              "    <tr>\n",
              "      <th>bindService</th>\n",
              "      <td>0</td>\n",
              "    </tr>\n",
              "    <tr>\n",
              "      <th>attachInterface</th>\n",
              "      <td>0</td>\n",
              "    </tr>\n",
              "    <tr>\n",
              "      <th>ServiceConnection</th>\n",
              "      <td>1</td>\n",
              "    </tr>\n",
              "    <tr>\n",
              "      <th>android.os.Binder</th>\n",
              "      <td>0</td>\n",
              "    </tr>\n",
              "    <tr>\n",
              "      <th>SEND_SMS</th>\n",
              "      <td>0</td>\n",
              "    </tr>\n",
              "    <tr>\n",
              "      <th>Ljava.lang.Class.getCanonicalName</th>\n",
              "      <td>0</td>\n",
              "    </tr>\n",
              "    <tr>\n",
              "      <th>Ljava.lang.Class.getMethods</th>\n",
              "      <td>0</td>\n",
              "    </tr>\n",
              "    <tr>\n",
              "      <th>Ljava.lang.Class.cast</th>\n",
              "      <td>0</td>\n",
              "    </tr>\n",
              "    <tr>\n",
              "      <th>Ljava.net.URLDecoder</th>\n",
              "      <td>0</td>\n",
              "    </tr>\n",
              "    <tr>\n",
              "      <th>android.content.pm.Signature</th>\n",
              "      <td>1</td>\n",
              "    </tr>\n",
              "    <tr>\n",
              "      <th>android.telephony.SmsManager</th>\n",
              "      <td>0</td>\n",
              "    </tr>\n",
              "    <tr>\n",
              "      <th>READ_PHONE_STATE</th>\n",
              "      <td>1</td>\n",
              "    </tr>\n",
              "    <tr>\n",
              "      <th>getBinder</th>\n",
              "      <td>0</td>\n",
              "    </tr>\n",
              "    <tr>\n",
              "      <th>ClassLoader</th>\n",
              "      <td>1</td>\n",
              "    </tr>\n",
              "    <tr>\n",
              "      <th>Landroid.content.Context.registerReceiver</th>\n",
              "      <td>0</td>\n",
              "    </tr>\n",
              "    <tr>\n",
              "      <th>Ljava.lang.Class.getField</th>\n",
              "      <td>0</td>\n",
              "    </tr>\n",
              "    <tr>\n",
              "      <th>Landroid.content.Context.unregisterReceiver</th>\n",
              "      <td>0</td>\n",
              "    </tr>\n",
              "    <tr>\n",
              "      <th>GET_ACCOUNTS</th>\n",
              "      <td>0</td>\n",
              "    </tr>\n",
              "    <tr>\n",
              "      <th>RECEIVE_SMS</th>\n",
              "      <td>0</td>\n",
              "    </tr>\n",
              "    <tr>\n",
              "      <th>Ljava.lang.Class.getDeclaredField</th>\n",
              "      <td>0</td>\n",
              "    </tr>\n",
              "    <tr>\n",
              "      <th>READ_SMS</th>\n",
              "      <td>0</td>\n",
              "    </tr>\n",
              "    <tr>\n",
              "      <th>getCallingUid</th>\n",
              "      <td>0</td>\n",
              "    </tr>\n",
              "    <tr>\n",
              "      <th>Ljavax.crypto.spec.SecretKeySpec</th>\n",
              "      <td>0</td>\n",
              "    </tr>\n",
              "    <tr>\n",
              "      <th>android.intent.action.BOOT_COMPLETED</th>\n",
              "      <td>0</td>\n",
              "    </tr>\n",
              "    <tr>\n",
              "      <th>USE_CREDENTIALS</th>\n",
              "      <td>0</td>\n",
              "    </tr>\n",
              "    <tr>\n",
              "      <th>MANAGE_ACCOUNTS</th>\n",
              "      <td>0</td>\n",
              "    </tr>\n",
              "    <tr>\n",
              "      <th>android.content.pm.PackageInfo</th>\n",
              "      <td>1</td>\n",
              "    </tr>\n",
              "    <tr>\n",
              "      <th>KeySpec</th>\n",
              "      <td>0</td>\n",
              "    </tr>\n",
              "    <tr>\n",
              "      <th>TelephonyManager.getLine1Number</th>\n",
              "      <td>0</td>\n",
              "    </tr>\n",
              "    <tr>\n",
              "      <th>DexClassLoader</th>\n",
              "      <td>0</td>\n",
              "    </tr>\n",
              "    <tr>\n",
              "      <th>HttpGet.init</th>\n",
              "      <td>0</td>\n",
              "    </tr>\n",
              "    <tr>\n",
              "      <th>SecretKey</th>\n",
              "      <td>0</td>\n",
              "    </tr>\n",
              "    <tr>\n",
              "      <th>Ljava.lang.Class.getMethod</th>\n",
              "      <td>0</td>\n",
              "    </tr>\n",
              "    <tr>\n",
              "      <th>System.loadLibrary</th>\n",
              "      <td>0</td>\n",
              "    </tr>\n",
              "    <tr>\n",
              "      <th>android.intent.action.SEND</th>\n",
              "      <td>0</td>\n",
              "    </tr>\n",
              "    <tr>\n",
              "      <th>Ljavax.crypto.Cipher</th>\n",
              "      <td>1</td>\n",
              "    </tr>\n",
              "    <tr>\n",
              "      <th>WRITE_SMS</th>\n",
              "      <td>0</td>\n",
              "    </tr>\n",
              "    <tr>\n",
              "      <th>READ_SYNC_SETTINGS</th>\n",
              "      <td>0</td>\n",
              "    </tr>\n",
              "    <tr>\n",
              "      <th>android.telephony.gsm.SmsManager</th>\n",
              "      <td>0</td>\n",
              "    </tr>\n",
              "    <tr>\n",
              "      <th>WRITE_HISTORY_BOOKMARKS</th>\n",
              "      <td>0</td>\n",
              "    </tr>\n",
              "    <tr>\n",
              "      <th>TelephonyManager.getSubscriberId</th>\n",
              "      <td>0</td>\n",
              "    </tr>\n",
              "    <tr>\n",
              "      <th>mount</th>\n",
              "      <td>0</td>\n",
              "    </tr>\n",
              "    <tr>\n",
              "      <th>INSTALL_PACKAGES</th>\n",
              "      <td>0</td>\n",
              "    </tr>\n",
              "    <tr>\n",
              "      <th>Runtime.getRuntime</th>\n",
              "      <td>0</td>\n",
              "    </tr>\n",
              "    <tr>\n",
              "      <th>Ljava.lang.Object.getClass</th>\n",
              "      <td>0</td>\n",
              "    </tr>\n",
              "    <tr>\n",
              "      <th>READ_HISTORY_BOOKMARKS</th>\n",
              "      <td>0</td>\n",
              "    </tr>\n",
              "    <tr>\n",
              "      <th>Ljava.lang.Class.forName</th>\n",
              "      <td>0</td>\n",
              "    </tr>\n",
              "    <tr>\n",
              "      <th>Binder</th>\n",
              "      <td>1</td>\n",
              "    </tr>\n",
              "  </tbody>\n",
              "</table>\n",
              "</div>"
            ],
            "text/plain": [
              "                                             0\n",
              "transact                                     0\n",
              "onServiceConnected                           0\n",
              "bindService                                  0\n",
              "attachInterface                              0\n",
              "ServiceConnection                            1\n",
              "android.os.Binder                            0\n",
              "SEND_SMS                                     0\n",
              "Ljava.lang.Class.getCanonicalName            0\n",
              "Ljava.lang.Class.getMethods                  0\n",
              "Ljava.lang.Class.cast                        0\n",
              "Ljava.net.URLDecoder                         0\n",
              "android.content.pm.Signature                 1\n",
              "android.telephony.SmsManager                 0\n",
              "READ_PHONE_STATE                             1\n",
              "getBinder                                    0\n",
              "ClassLoader                                  1\n",
              "Landroid.content.Context.registerReceiver    0\n",
              "Ljava.lang.Class.getField                    0\n",
              "Landroid.content.Context.unregisterReceiver  0\n",
              "GET_ACCOUNTS                                 0\n",
              "RECEIVE_SMS                                  0\n",
              "Ljava.lang.Class.getDeclaredField            0\n",
              "READ_SMS                                     0\n",
              "getCallingUid                                0\n",
              "Ljavax.crypto.spec.SecretKeySpec             0\n",
              "android.intent.action.BOOT_COMPLETED         0\n",
              "USE_CREDENTIALS                              0\n",
              "MANAGE_ACCOUNTS                              0\n",
              "android.content.pm.PackageInfo               1\n",
              "KeySpec                                      0\n",
              "TelephonyManager.getLine1Number              0\n",
              "DexClassLoader                               0\n",
              "HttpGet.init                                 0\n",
              "SecretKey                                    0\n",
              "Ljava.lang.Class.getMethod                   0\n",
              "System.loadLibrary                           0\n",
              "android.intent.action.SEND                   0\n",
              "Ljavax.crypto.Cipher                         1\n",
              "WRITE_SMS                                    0\n",
              "READ_SYNC_SETTINGS                           0\n",
              "android.telephony.gsm.SmsManager             0\n",
              "WRITE_HISTORY_BOOKMARKS                      0\n",
              "TelephonyManager.getSubscriberId             0\n",
              "mount                                        0\n",
              "INSTALL_PACKAGES                             0\n",
              "Runtime.getRuntime                           0\n",
              "Ljava.lang.Object.getClass                   0\n",
              "READ_HISTORY_BOOKMARKS                       0\n",
              "Ljava.lang.Class.forName                     0\n",
              "Binder                                       1"
            ]
          },
          "execution_count": 51,
          "metadata": {},
          "output_type": "execute_result"
        }
      ],
      "source": [
        "dropped.transpose()"
      ]
    },
    {
      "cell_type": "markdown",
      "metadata": {},
      "source": [
        "[0 0 0 0 1 0 0 0 0 0 0 1 0 0 0 1 0 0 0 0 0 0 0 0 0 0 0 0 1 0 0 0 0 0 0 0\n",
        "  0 1 0 0 0 0 0 0 0 0 0 0 0 1]\n",
        "[0 0 0 0 1 0 1 0 0 0 0 1 0 1 0 1 0 0 0 0 0 0 0 0 0 0 0 0 1 0 0 0 0 0 0 0\n",
        " 0 1 0 0 0 0 0 0 0 0 0 0 0 1]"
      ]
    },
    {
      "cell_type": "code",
      "execution_count": 52,
      "metadata": {
        "colab": {
          "base_uri": "https://localhost:8080/"
        },
        "id": "bsKOwNGvHVL6",
        "outputId": "4f082bb5-ed46-44c0-98cb-c0a66f2d48a4"
      },
      "outputs": [],
      "source": [
        "test_df.loc[test_df['filename']==name, 'class_lr'] = logreg.predict(dropped)\n",
        "test_df.loc[test_df['filename']==name, 'class_rf'] = rf.predict(dropped)\n",
        "test_df.loc[test_df['filename']==name, 'class_dt'] = dt.predict(dropped)"
      ]
    },
    {
      "cell_type": "code",
      "execution_count": 53,
      "metadata": {
        "colab": {
          "base_uri": "https://localhost:8080/",
          "height": 381
        },
        "id": "-9qH2NvcVgQd",
        "outputId": "9306f489-44c2-4302-c839-75dc9f98c419"
      },
      "outputs": [
        {
          "data": {
            "text/html": [
              "<div>\n",
              "<style scoped>\n",
              "    .dataframe tbody tr th:only-of-type {\n",
              "        vertical-align: middle;\n",
              "    }\n",
              "\n",
              "    .dataframe tbody tr th {\n",
              "        vertical-align: top;\n",
              "    }\n",
              "\n",
              "    .dataframe thead th {\n",
              "        text-align: right;\n",
              "    }\n",
              "</style>\n",
              "<table border=\"1\" class=\"dataframe\">\n",
              "  <thead>\n",
              "    <tr style=\"text-align: right;\">\n",
              "      <th></th>\n",
              "      <th>class_lr</th>\n",
              "      <th>class_dt</th>\n",
              "      <th>class_rf</th>\n",
              "    </tr>\n",
              "  </thead>\n",
              "  <tbody>\n",
              "    <tr>\n",
              "      <th>0</th>\n",
              "      <td>1</td>\n",
              "      <td>1</td>\n",
              "      <td>0</td>\n",
              "    </tr>\n",
              "  </tbody>\n",
              "</table>\n",
              "</div>"
            ],
            "text/plain": [
              "  class_lr class_dt class_rf\n",
              "0        1        1        0"
            ]
          },
          "execution_count": 53,
          "metadata": {},
          "output_type": "execute_result"
        }
      ],
      "source": [
        "test_df[['class_lr', 'class_dt', 'class_rf']]"
      ]
    },
    {
      "cell_type": "code",
      "execution_count": 54,
      "metadata": {},
      "outputs": [],
      "source": [
        "import random"
      ]
    },
    {
      "cell_type": "markdown",
      "metadata": {},
      "source": [
        "## Verifing the accuracy of models with existing data"
      ]
    },
    {
      "cell_type": "markdown",
      "metadata": {},
      "source": [
        "### With class is 1, which indicates malicious"
      ]
    },
    {
      "cell_type": "code",
      "execution_count": 55,
      "metadata": {},
      "outputs": [
        {
          "ename": "KeyError",
          "evalue": "0",
          "output_type": "error",
          "traceback": [
            "\u001b[1;31m---------------------------------------------------------------------------\u001b[0m",
            "\u001b[1;31mKeyError\u001b[0m                                  Traceback (most recent call last)",
            "File \u001b[1;32md:\\Python311\\Lib\\site-packages\\pandas\\core\\indexes\\base.py:3791\u001b[0m, in \u001b[0;36mIndex.get_loc\u001b[1;34m(self, key)\u001b[0m\n\u001b[0;32m   3790\u001b[0m \u001b[38;5;28;01mtry\u001b[39;00m:\n\u001b[1;32m-> 3791\u001b[0m     \u001b[38;5;28;01mreturn\u001b[39;00m \u001b[38;5;28;43mself\u001b[39;49m\u001b[38;5;241;43m.\u001b[39;49m\u001b[43m_engine\u001b[49m\u001b[38;5;241;43m.\u001b[39;49m\u001b[43mget_loc\u001b[49m\u001b[43m(\u001b[49m\u001b[43mcasted_key\u001b[49m\u001b[43m)\u001b[49m\n\u001b[0;32m   3792\u001b[0m \u001b[38;5;28;01mexcept\u001b[39;00m \u001b[38;5;167;01mKeyError\u001b[39;00m \u001b[38;5;28;01mas\u001b[39;00m err:\n",
            "File \u001b[1;32mindex.pyx:152\u001b[0m, in \u001b[0;36mpandas._libs.index.IndexEngine.get_loc\u001b[1;34m()\u001b[0m\n",
            "File \u001b[1;32mindex.pyx:181\u001b[0m, in \u001b[0;36mpandas._libs.index.IndexEngine.get_loc\u001b[1;34m()\u001b[0m\n",
            "File \u001b[1;32mpandas\\_libs\\hashtable_class_helper.pxi:2606\u001b[0m, in \u001b[0;36mpandas._libs.hashtable.Int64HashTable.get_item\u001b[1;34m()\u001b[0m\n",
            "File \u001b[1;32mpandas\\_libs\\hashtable_class_helper.pxi:2630\u001b[0m, in \u001b[0;36mpandas._libs.hashtable.Int64HashTable.get_item\u001b[1;34m()\u001b[0m\n",
            "\u001b[1;31mKeyError\u001b[0m: 0",
            "\nThe above exception was the direct cause of the following exception:\n",
            "\u001b[1;31mKeyError\u001b[0m                                  Traceback (most recent call last)",
            "Cell \u001b[1;32mIn[55], line 2\u001b[0m\n\u001b[0;32m      1\u001b[0m new_df \u001b[38;5;241m=\u001b[39m data[data[\u001b[38;5;124m\"\u001b[39m\u001b[38;5;124mclass\u001b[39m\u001b[38;5;124m\"\u001b[39m] \u001b[38;5;241m==\u001b[39m \u001b[38;5;241m1\u001b[39m]\n\u001b[1;32m----> 2\u001b[0m new_test\u001b[38;5;241m=\u001b[39m\u001b[43mnew_df\u001b[49m\u001b[38;5;241;43m.\u001b[39;49m\u001b[43mloc\u001b[49m\u001b[43m[\u001b[49m\u001b[43mrandom\u001b[49m\u001b[38;5;241;43m.\u001b[39;49m\u001b[43mrandint\u001b[49m\u001b[43m(\u001b[49m\u001b[38;5;241;43m0\u001b[39;49m\u001b[43m,\u001b[49m\u001b[43m \u001b[49m\u001b[38;5;28;43mlen\u001b[39;49m\u001b[43m(\u001b[49m\u001b[43mnew_df\u001b[49m\u001b[43m)\u001b[49m\u001b[43m)\u001b[49m\u001b[43m,\u001b[49m\u001b[43m \u001b[49m\u001b[43m:\u001b[49m\u001b[43m]\u001b[49m\u001b[38;5;241m.\u001b[39mdrop(\u001b[38;5;124m\"\u001b[39m\u001b[38;5;124mclass\u001b[39m\u001b[38;5;124m\"\u001b[39m)\n\u001b[0;32m      3\u001b[0m new_test\u001b[38;5;241m.\u001b[39mshape\n",
            "File \u001b[1;32md:\\Python311\\Lib\\site-packages\\pandas\\core\\indexing.py:1147\u001b[0m, in \u001b[0;36m_LocationIndexer.__getitem__\u001b[1;34m(self, key)\u001b[0m\n\u001b[0;32m   1145\u001b[0m     \u001b[38;5;28;01mif\u001b[39;00m \u001b[38;5;28mself\u001b[39m\u001b[38;5;241m.\u001b[39m_is_scalar_access(key):\n\u001b[0;32m   1146\u001b[0m         \u001b[38;5;28;01mreturn\u001b[39;00m \u001b[38;5;28mself\u001b[39m\u001b[38;5;241m.\u001b[39mobj\u001b[38;5;241m.\u001b[39m_get_value(\u001b[38;5;241m*\u001b[39mkey, takeable\u001b[38;5;241m=\u001b[39m\u001b[38;5;28mself\u001b[39m\u001b[38;5;241m.\u001b[39m_takeable)\n\u001b[1;32m-> 1147\u001b[0m     \u001b[38;5;28;01mreturn\u001b[39;00m \u001b[38;5;28;43mself\u001b[39;49m\u001b[38;5;241;43m.\u001b[39;49m\u001b[43m_getitem_tuple\u001b[49m\u001b[43m(\u001b[49m\u001b[43mkey\u001b[49m\u001b[43m)\u001b[49m\n\u001b[0;32m   1148\u001b[0m \u001b[38;5;28;01melse\u001b[39;00m:\n\u001b[0;32m   1149\u001b[0m     \u001b[38;5;66;03m# we by definition only have the 0th axis\u001b[39;00m\n\u001b[0;32m   1150\u001b[0m     axis \u001b[38;5;241m=\u001b[39m \u001b[38;5;28mself\u001b[39m\u001b[38;5;241m.\u001b[39maxis \u001b[38;5;129;01mor\u001b[39;00m \u001b[38;5;241m0\u001b[39m\n",
            "File \u001b[1;32md:\\Python311\\Lib\\site-packages\\pandas\\core\\indexing.py:1330\u001b[0m, in \u001b[0;36m_LocIndexer._getitem_tuple\u001b[1;34m(self, tup)\u001b[0m\n\u001b[0;32m   1328\u001b[0m \u001b[38;5;28;01mwith\u001b[39;00m suppress(IndexingError):\n\u001b[0;32m   1329\u001b[0m     tup \u001b[38;5;241m=\u001b[39m \u001b[38;5;28mself\u001b[39m\u001b[38;5;241m.\u001b[39m_expand_ellipsis(tup)\n\u001b[1;32m-> 1330\u001b[0m     \u001b[38;5;28;01mreturn\u001b[39;00m \u001b[38;5;28;43mself\u001b[39;49m\u001b[38;5;241;43m.\u001b[39;49m\u001b[43m_getitem_lowerdim\u001b[49m\u001b[43m(\u001b[49m\u001b[43mtup\u001b[49m\u001b[43m)\u001b[49m\n\u001b[0;32m   1332\u001b[0m \u001b[38;5;66;03m# no multi-index, so validate all of the indexers\u001b[39;00m\n\u001b[0;32m   1333\u001b[0m tup \u001b[38;5;241m=\u001b[39m \u001b[38;5;28mself\u001b[39m\u001b[38;5;241m.\u001b[39m_validate_tuple_indexer(tup)\n",
            "File \u001b[1;32md:\\Python311\\Lib\\site-packages\\pandas\\core\\indexing.py:1039\u001b[0m, in \u001b[0;36m_LocationIndexer._getitem_lowerdim\u001b[1;34m(self, tup)\u001b[0m\n\u001b[0;32m   1035\u001b[0m \u001b[38;5;28;01mfor\u001b[39;00m i, key \u001b[38;5;129;01min\u001b[39;00m \u001b[38;5;28menumerate\u001b[39m(tup):\n\u001b[0;32m   1036\u001b[0m     \u001b[38;5;28;01mif\u001b[39;00m is_label_like(key):\n\u001b[0;32m   1037\u001b[0m         \u001b[38;5;66;03m# We don't need to check for tuples here because those are\u001b[39;00m\n\u001b[0;32m   1038\u001b[0m         \u001b[38;5;66;03m#  caught by the _is_nested_tuple_indexer check above.\u001b[39;00m\n\u001b[1;32m-> 1039\u001b[0m         section \u001b[38;5;241m=\u001b[39m \u001b[38;5;28;43mself\u001b[39;49m\u001b[38;5;241;43m.\u001b[39;49m\u001b[43m_getitem_axis\u001b[49m\u001b[43m(\u001b[49m\u001b[43mkey\u001b[49m\u001b[43m,\u001b[49m\u001b[43m \u001b[49m\u001b[43maxis\u001b[49m\u001b[38;5;241;43m=\u001b[39;49m\u001b[43mi\u001b[49m\u001b[43m)\u001b[49m\n\u001b[0;32m   1041\u001b[0m         \u001b[38;5;66;03m# We should never have a scalar section here, because\u001b[39;00m\n\u001b[0;32m   1042\u001b[0m         \u001b[38;5;66;03m#  _getitem_lowerdim is only called after a check for\u001b[39;00m\n\u001b[0;32m   1043\u001b[0m         \u001b[38;5;66;03m#  is_scalar_access, which that would be.\u001b[39;00m\n\u001b[0;32m   1044\u001b[0m         \u001b[38;5;28;01mif\u001b[39;00m section\u001b[38;5;241m.\u001b[39mndim \u001b[38;5;241m==\u001b[39m \u001b[38;5;28mself\u001b[39m\u001b[38;5;241m.\u001b[39mndim:\n\u001b[0;32m   1045\u001b[0m             \u001b[38;5;66;03m# we're in the middle of slicing through a MultiIndex\u001b[39;00m\n\u001b[0;32m   1046\u001b[0m             \u001b[38;5;66;03m# revise the key wrt to `section` by inserting an _NS\u001b[39;00m\n",
            "File \u001b[1;32md:\\Python311\\Lib\\site-packages\\pandas\\core\\indexing.py:1393\u001b[0m, in \u001b[0;36m_LocIndexer._getitem_axis\u001b[1;34m(self, key, axis)\u001b[0m\n\u001b[0;32m   1391\u001b[0m \u001b[38;5;66;03m# fall thru to straight lookup\u001b[39;00m\n\u001b[0;32m   1392\u001b[0m \u001b[38;5;28mself\u001b[39m\u001b[38;5;241m.\u001b[39m_validate_key(key, axis)\n\u001b[1;32m-> 1393\u001b[0m \u001b[38;5;28;01mreturn\u001b[39;00m \u001b[38;5;28;43mself\u001b[39;49m\u001b[38;5;241;43m.\u001b[39;49m\u001b[43m_get_label\u001b[49m\u001b[43m(\u001b[49m\u001b[43mkey\u001b[49m\u001b[43m,\u001b[49m\u001b[43m \u001b[49m\u001b[43maxis\u001b[49m\u001b[38;5;241;43m=\u001b[39;49m\u001b[43maxis\u001b[49m\u001b[43m)\u001b[49m\n",
            "File \u001b[1;32md:\\Python311\\Lib\\site-packages\\pandas\\core\\indexing.py:1343\u001b[0m, in \u001b[0;36m_LocIndexer._get_label\u001b[1;34m(self, label, axis)\u001b[0m\n\u001b[0;32m   1341\u001b[0m \u001b[38;5;28;01mdef\u001b[39;00m \u001b[38;5;21m_get_label\u001b[39m(\u001b[38;5;28mself\u001b[39m, label, axis: AxisInt):\n\u001b[0;32m   1342\u001b[0m     \u001b[38;5;66;03m# GH#5567 this will fail if the label is not present in the axis.\u001b[39;00m\n\u001b[1;32m-> 1343\u001b[0m     \u001b[38;5;28;01mreturn\u001b[39;00m \u001b[38;5;28;43mself\u001b[39;49m\u001b[38;5;241;43m.\u001b[39;49m\u001b[43mobj\u001b[49m\u001b[38;5;241;43m.\u001b[39;49m\u001b[43mxs\u001b[49m\u001b[43m(\u001b[49m\u001b[43mlabel\u001b[49m\u001b[43m,\u001b[49m\u001b[43m \u001b[49m\u001b[43maxis\u001b[49m\u001b[38;5;241;43m=\u001b[39;49m\u001b[43maxis\u001b[49m\u001b[43m)\u001b[49m\n",
            "File \u001b[1;32md:\\Python311\\Lib\\site-packages\\pandas\\core\\generic.py:4236\u001b[0m, in \u001b[0;36mNDFrame.xs\u001b[1;34m(self, key, axis, level, drop_level)\u001b[0m\n\u001b[0;32m   4234\u001b[0m             new_index \u001b[38;5;241m=\u001b[39m index[loc]\n\u001b[0;32m   4235\u001b[0m \u001b[38;5;28;01melse\u001b[39;00m:\n\u001b[1;32m-> 4236\u001b[0m     loc \u001b[38;5;241m=\u001b[39m \u001b[43mindex\u001b[49m\u001b[38;5;241;43m.\u001b[39;49m\u001b[43mget_loc\u001b[49m\u001b[43m(\u001b[49m\u001b[43mkey\u001b[49m\u001b[43m)\u001b[49m\n\u001b[0;32m   4238\u001b[0m     \u001b[38;5;28;01mif\u001b[39;00m \u001b[38;5;28misinstance\u001b[39m(loc, np\u001b[38;5;241m.\u001b[39mndarray):\n\u001b[0;32m   4239\u001b[0m         \u001b[38;5;28;01mif\u001b[39;00m loc\u001b[38;5;241m.\u001b[39mdtype \u001b[38;5;241m==\u001b[39m np\u001b[38;5;241m.\u001b[39mbool_:\n",
            "File \u001b[1;32md:\\Python311\\Lib\\site-packages\\pandas\\core\\indexes\\base.py:3798\u001b[0m, in \u001b[0;36mIndex.get_loc\u001b[1;34m(self, key)\u001b[0m\n\u001b[0;32m   3793\u001b[0m     \u001b[38;5;28;01mif\u001b[39;00m \u001b[38;5;28misinstance\u001b[39m(casted_key, \u001b[38;5;28mslice\u001b[39m) \u001b[38;5;129;01mor\u001b[39;00m (\n\u001b[0;32m   3794\u001b[0m         \u001b[38;5;28misinstance\u001b[39m(casted_key, abc\u001b[38;5;241m.\u001b[39mIterable)\n\u001b[0;32m   3795\u001b[0m         \u001b[38;5;129;01mand\u001b[39;00m \u001b[38;5;28many\u001b[39m(\u001b[38;5;28misinstance\u001b[39m(x, \u001b[38;5;28mslice\u001b[39m) \u001b[38;5;28;01mfor\u001b[39;00m x \u001b[38;5;129;01min\u001b[39;00m casted_key)\n\u001b[0;32m   3796\u001b[0m     ):\n\u001b[0;32m   3797\u001b[0m         \u001b[38;5;28;01mraise\u001b[39;00m InvalidIndexError(key)\n\u001b[1;32m-> 3798\u001b[0m     \u001b[38;5;28;01mraise\u001b[39;00m \u001b[38;5;167;01mKeyError\u001b[39;00m(key) \u001b[38;5;28;01mfrom\u001b[39;00m \u001b[38;5;21;01merr\u001b[39;00m\n\u001b[0;32m   3799\u001b[0m \u001b[38;5;28;01mexcept\u001b[39;00m \u001b[38;5;167;01mTypeError\u001b[39;00m:\n\u001b[0;32m   3800\u001b[0m     \u001b[38;5;66;03m# If we have a listlike key, _check_indexing_error will raise\u001b[39;00m\n\u001b[0;32m   3801\u001b[0m     \u001b[38;5;66;03m#  InvalidIndexError. Otherwise we fall through and re-raise\u001b[39;00m\n\u001b[0;32m   3802\u001b[0m     \u001b[38;5;66;03m#  the TypeError.\u001b[39;00m\n\u001b[0;32m   3803\u001b[0m     \u001b[38;5;28mself\u001b[39m\u001b[38;5;241m.\u001b[39m_check_indexing_error(key)\n",
            "\u001b[1;31mKeyError\u001b[0m: 0"
          ]
        }
      ],
      "source": [
        "new_df = data[data[\"class\"] == 1]\n",
        "new_test=new_df.loc[random.randint(0, len(new_df)), :].drop(\"class\")\n",
        "new_test.shape"
      ]
    },
    {
      "cell_type": "code",
      "execution_count": null,
      "metadata": {},
      "outputs": [
        {
          "data": {
            "text/plain": [
              "array([1], dtype=int64)"
            ]
          },
          "execution_count": 247,
          "metadata": {},
          "output_type": "execute_result"
        }
      ],
      "source": [
        "rf.predict([new_test])"
      ]
    },
    {
      "cell_type": "code",
      "execution_count": null,
      "metadata": {},
      "outputs": [
        {
          "data": {
            "text/plain": [
              "array([1], dtype=int64)"
            ]
          },
          "execution_count": 248,
          "metadata": {},
          "output_type": "execute_result"
        }
      ],
      "source": [
        "dt.predict([new_test])"
      ]
    },
    {
      "cell_type": "code",
      "execution_count": null,
      "metadata": {},
      "outputs": [
        {
          "data": {
            "text/plain": [
              "array([1], dtype=int64)"
            ]
          },
          "execution_count": 249,
          "metadata": {},
          "output_type": "execute_result"
        }
      ],
      "source": [
        "logreg.predict([new_test])"
      ]
    },
    {
      "cell_type": "markdown",
      "metadata": {},
      "source": [
        "### With class is 0, which indicates genuine"
      ]
    },
    {
      "cell_type": "code",
      "execution_count": null,
      "metadata": {},
      "outputs": [
        {
          "data": {
            "text/plain": [
              "(50,)"
            ]
          },
          "execution_count": 250,
          "metadata": {},
          "output_type": "execute_result"
        }
      ],
      "source": [
        "new_df = data[data[\"class\"] == 0]\n",
        "new_test=new_df.loc[random.randint(0, len(new_df)), :].drop(\"class\")\n",
        "new_test.shape"
      ]
    },
    {
      "cell_type": "code",
      "execution_count": null,
      "metadata": {},
      "outputs": [
        {
          "data": {
            "text/plain": [
              "array([0], dtype=int64)"
            ]
          },
          "execution_count": 251,
          "metadata": {},
          "output_type": "execute_result"
        }
      ],
      "source": [
        "rf.predict([new_test])"
      ]
    },
    {
      "cell_type": "code",
      "execution_count": null,
      "metadata": {},
      "outputs": [
        {
          "data": {
            "text/plain": [
              "array([0], dtype=int64)"
            ]
          },
          "execution_count": 252,
          "metadata": {},
          "output_type": "execute_result"
        }
      ],
      "source": [
        "dt.predict([new_test])"
      ]
    },
    {
      "cell_type": "code",
      "execution_count": null,
      "metadata": {},
      "outputs": [
        {
          "data": {
            "text/plain": [
              "array([0], dtype=int64)"
            ]
          },
          "execution_count": 253,
          "metadata": {},
          "output_type": "execute_result"
        }
      ],
      "source": [
        "logreg.predict([new_test])"
      ]
    }
  ],
  "metadata": {
    "colab": {
      "provenance": []
    },
    "kernelspec": {
      "display_name": "Python 3",
      "language": "python",
      "name": "python3"
    },
    "language_info": {
      "codemirror_mode": {
        "name": "ipython",
        "version": 3
      },
      "file_extension": ".py",
      "mimetype": "text/x-python",
      "name": "python",
      "nbconvert_exporter": "python",
      "pygments_lexer": "ipython3",
      "version": "3.11.7"
    }
  },
  "nbformat": 4,
  "nbformat_minor": 0
}
